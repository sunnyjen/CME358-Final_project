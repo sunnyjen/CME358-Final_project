{
 "cells": [
  {
   "cell_type": "code",
   "execution_count": 1,
   "metadata": {},
   "outputs": [],
   "source": [
    "# 3rd Party Imports\n",
    "import pandas as pd\n",
    "import seaborn as sns\n",
    "from datetime import datetime\n",
    "import matplotlib.pyplot as plt \n",
    "import numpy as np\n",
    "import matplotlib as plt\n",
    "import geopandas as gpd\n",
    "\n",
    "# Configure Notebook\n",
    "%matplotlib inline\n",
    "plt.style.use('fivethirtyeight')\n",
    "sns.set_context(\"notebook\")\n",
    "import warnings\n",
    "warnings.filterwarnings('ignore')"
   ]
  },
  {
   "cell_type": "code",
   "execution_count": 2,
   "metadata": {},
   "outputs": [],
   "source": [
    "eqao = gpd.read_file(\"csv/2021_EQAO.csv\")\n",
    "osslt = gpd.read_file(\"csv/2021_OSSLT.csv\")\n",
    "high = gpd.read_file(\"csv/secondary_schools_combined.csv\")"
   ]
  },
  {
   "cell_type": "code",
   "execution_count": 7,
   "metadata": {},
   "outputs": [
    {
     "data": {
      "text/html": [
       "<div>\n",
       "<style scoped>\n",
       "    .dataframe tbody tr th:only-of-type {\n",
       "        vertical-align: middle;\n",
       "    }\n",
       "\n",
       "    .dataframe tbody tr th {\n",
       "        vertical-align: top;\n",
       "    }\n",
       "\n",
       "    .dataframe thead th {\n",
       "        text-align: right;\n",
       "    }\n",
       "</style>\n",
       "<table border=\"1\" class=\"dataframe\">\n",
       "  <thead>\n",
       "    <tr style=\"text-align: right;\">\n",
       "      <th></th>\n",
       "      <th>School Name</th>\n",
       "      <th>Total # of\\nStudents</th>\n",
       "      <th># of\\nParticipating\\nStudents</th>\n",
       "      <th># of\\nStudents at\\nLevels 3/4</th>\n",
       "      <th>% at Levels\\n3/4</th>\n",
       "    </tr>\n",
       "  </thead>\n",
       "  <tbody>\n",
       "    <tr>\n",
       "      <th>4</th>\n",
       "      <td>Albert Campbell Collegiate Institute</td>\n",
       "      <td>169</td>\n",
       "      <td>158</td>\n",
       "      <td>100</td>\n",
       "      <td>63%</td>\n",
       "    </tr>\n",
       "    <tr>\n",
       "      <th>5</th>\n",
       "      <td>Birchmount Park Collegiate Institute</td>\n",
       "      <td>104</td>\n",
       "      <td>87</td>\n",
       "      <td>28</td>\n",
       "      <td>32%</td>\n",
       "    </tr>\n",
       "    <tr>\n",
       "      <th>6</th>\n",
       "      <td>Bloor Collegiate Institute</td>\n",
       "      <td>78</td>\n",
       "      <td>75</td>\n",
       "      <td>59</td>\n",
       "      <td>79%</td>\n",
       "    </tr>\n",
       "    <tr>\n",
       "      <th>7</th>\n",
       "      <td>C W Jefferys Collegiate Institute</td>\n",
       "      <td>84</td>\n",
       "      <td>73</td>\n",
       "      <td>14</td>\n",
       "      <td>19%</td>\n",
       "    </tr>\n",
       "    <tr>\n",
       "      <th>8</th>\n",
       "      <td>Cedarbrae Collegiate Institute</td>\n",
       "      <td>120</td>\n",
       "      <td>114</td>\n",
       "      <td>59</td>\n",
       "      <td>52%</td>\n",
       "    </tr>\n",
       "  </tbody>\n",
       "</table>\n",
       "</div>"
      ],
      "text/plain": [
       "                            School Name Total # of\\nStudents  \\\n",
       "4  Albert Campbell Collegiate Institute                  169   \n",
       "5  Birchmount Park Collegiate Institute                  104   \n",
       "6            Bloor Collegiate Institute                   78   \n",
       "7     C W Jefferys Collegiate Institute                   84   \n",
       "8        Cedarbrae Collegiate Institute                  120   \n",
       "\n",
       "  # of\\nParticipating\\nStudents # of\\nStudents at\\nLevels 3/4 % at Levels\\n3/4  \n",
       "4                           158                           100              63%  \n",
       "5                            87                            28              32%  \n",
       "6                            75                            59              79%  \n",
       "7                            73                            14              19%  \n",
       "8                           114                            59              52%  "
      ]
     },
     "execution_count": 7,
     "metadata": {},
     "output_type": "execute_result"
    }
   ],
   "source": [
    "eqao = eqao.iloc[2:]\n",
    "eqao.head()"
   ]
  },
  {
   "cell_type": "code",
   "execution_count": 9,
   "metadata": {},
   "outputs": [],
   "source": [
    "osslt = osslt.loc[:, ~osslt.columns.str.contains('field', case=False)]"
   ]
  },
  {
   "cell_type": "code",
   "execution_count": 11,
   "metadata": {},
   "outputs": [],
   "source": [
    "osslt = osslt.iloc[7:]"
   ]
  },
  {
   "cell_type": "code",
   "execution_count": 15,
   "metadata": {},
   "outputs": [],
   "source": [
    "osslt = osslt[osslt[\"Taking\"] != 'N/R']\n",
    "osslt = osslt.drop(columns = \"Taking\")"
   ]
  },
  {
   "cell_type": "code",
   "execution_count": 21,
   "metadata": {},
   "outputs": [
    {
     "data": {
      "text/plain": [
       "(15, 7)"
      ]
     },
     "execution_count": 21,
     "metadata": {},
     "output_type": "execute_result"
    }
   ],
   "source": [
    "osslt.shape"
   ]
  },
  {
   "cell_type": "code",
   "execution_count": 17,
   "metadata": {},
   "outputs": [],
   "source": [
    "osslt.to_csv(\"osslt.csv\", index = False)"
   ]
  },
  {
   "cell_type": "code",
   "execution_count": null,
   "metadata": {},
   "outputs": [],
   "source": []
  }
 ],
 "metadata": {
  "kernelspec": {
   "display_name": "base",
   "language": "python",
   "name": "python3"
  },
  "language_info": {
   "codemirror_mode": {
    "name": "ipython",
    "version": 3
   },
   "file_extension": ".py",
   "mimetype": "text/x-python",
   "name": "python",
   "nbconvert_exporter": "python",
   "pygments_lexer": "ipython3",
   "version": "3.12.4"
  }
 },
 "nbformat": 4,
 "nbformat_minor": 2
}
