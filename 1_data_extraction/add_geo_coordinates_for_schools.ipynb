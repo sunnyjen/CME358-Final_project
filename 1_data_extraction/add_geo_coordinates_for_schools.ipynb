{
 "cells": [
  {
   "cell_type": "code",
   "execution_count": 3,
   "metadata": {},
   "outputs": [],
   "source": [
    "from pathlib import Path\n",
    "current_dir = Path.cwd()\n",
    "parent_dir = current_dir.parent\n",
    "school_data = parent_dir/'2_data_cleaning'/'cleaned_csv'/'Combined_schools_final.csv'\n",
    "school_data_with_coords = parent_dir/'2_data_cleaning'/'cleaned_csv'/'Combined_schools_with_coords.csv'"
   ]
  },
  {
   "cell_type": "code",
   "execution_count": 5,
   "metadata": {},
   "outputs": [
    {
     "name": "stdout",
     "output_type": "stream",
     "text": [
      "Fetching coordinates...\n"
     ]
    },
    {
     "name": "stderr",
     "output_type": "stream",
     "text": [
      "100%|██████████| 61/61 [00:31<00:00,  1.94it/s]"
     ]
    },
    {
     "name": "stdout",
     "output_type": "stream",
     "text": [
      "Updated DataFrame saved to c:\\Users\\Jensu\\OneDrive\\Documents\\GitHub\\CME358-Final_project\\2_data_cleaning\\cleaned_csv\\Combined_schools_with_coords.csv\n",
      "                            School Name  EQAO % at Levels 3/4  \\\n",
      "0          A Y Jackson Secondary School                  93.0   \n",
      "1        Agincourt Collegiate Institute                  73.0   \n",
      "2  Albert Campbell Collegiate Institute                  63.0   \n",
      "3  Birchmount Park Collegiate Institute                  32.0   \n",
      "4            Bloor Collegiate Institute                  79.0   \n",
      "\n",
      "   OSSLT % Successful  Fraiser Score        lat       long  \n",
      "0                88.0            7.9  43.804716 -79.367003  \n",
      "1                94.0            8.3  43.789069 -79.278470  \n",
      "2                88.0            7.0  43.810001 -79.273357  \n",
      "3                79.0            5.2  43.697853 -79.259599  \n",
      "4                94.0            8.5        NaN        NaN  \n"
     ]
    },
    {
     "name": "stderr",
     "output_type": "stream",
     "text": [
      "\n"
     ]
    }
   ],
   "source": [
    "import pandas as pd\n",
    "import requests\n",
    "from tqdm import tqdm\n",
    "\n",
    "def get_coordinates_nominatim(school_name):\n",
    "    \"\"\"\n",
    "    Fetch latitude and longitude for a given school name using Nominatim Geocoding API.\n",
    "\n",
    "    Parameters:\n",
    "        school_name (str): Name of the school to geocode.\n",
    "\n",
    "    Returns:\n",
    "        tuple: Latitude and Longitude as (lat, long). Returns (None, None) if an error occurs.\n",
    "    \"\"\"\n",
    "    base_url = \"https://nominatim.openstreetmap.org/search\"\n",
    "    params = {\n",
    "        \"q\": school_name,\n",
    "        \"format\": \"json\",\n",
    "        \"addressdetails\": 1,\n",
    "        \"limit\": 1\n",
    "    }\n",
    "\n",
    "    try:\n",
    "        response = requests.get(base_url, params=params, timeout=10, headers={\"User-Agent\": \"Mozilla/5.0\"})\n",
    "        response.raise_for_status()\n",
    "        data = response.json()\n",
    "        if data:\n",
    "            return float(data[0][\"lat\"]), float(data[0][\"lon\"])\n",
    "    except Exception as e:\n",
    "        print(f\"Error fetching coordinates for '{school_name}': {e}\")\n",
    "    return None, None\n",
    "\n",
    "def add_coordinates_to_df_nominatim(input_csv, output_csv):\n",
    "    \"\"\"\n",
    "    Add latitude and longitude columns to a DataFrame based on school names using Nominatim.\n",
    "\n",
    "    Parameters:\n",
    "        input_csv (str): Path to the input CSV file with a column named 'school_name'.\n",
    "        output_csv (str): Path to save the updated CSV file.\n",
    "\n",
    "    Returns:\n",
    "        pd.DataFrame: The updated DataFrame with latitude and longitude columns added.\n",
    "    \"\"\"\n",
    "    # Load the input CSV\n",
    "    df = pd.read_csv(input_csv)\n",
    "\n",
    "    # Add 'lat' and 'long' columns\n",
    "    print(\"Fetching coordinates...\")\n",
    "    tqdm.pandas()  # Enable progress bar\n",
    "    df[['lat', 'long']] = df['School Name'].progress_apply(\n",
    "        lambda name: pd.Series(get_coordinates_nominatim(name))\n",
    "    )\n",
    "\n",
    "    # Save the updated DataFrame to CSV\n",
    "    df.to_csv(output_csv, index=False)\n",
    "    print(f\"Updated DataFrame saved to {output_csv}\")\n",
    "\n",
    "    return df\n",
    "\n",
    "# Example usage\n",
    "input_csv = school_data\n",
    "output_csv = school_data_with_coords\n",
    "\n",
    "updated_df = add_coordinates_to_df_nominatim(input_csv, output_csv)\n",
    "print(updated_df.head())\n"
   ]
  }
 ],
 "metadata": {
  "kernelspec": {
   "display_name": "venv",
   "language": "python",
   "name": "python3"
  },
  "language_info": {
   "codemirror_mode": {
    "name": "ipython",
    "version": 3
   },
   "file_extension": ".py",
   "mimetype": "text/x-python",
   "name": "python",
   "nbconvert_exporter": "python",
   "pygments_lexer": "ipython3",
   "version": "3.12.7"
  }
 },
 "nbformat": 4,
 "nbformat_minor": 2
}
