{
 "cells": [
  {
   "cell_type": "code",
   "execution_count": null,
   "metadata": {},
   "outputs": [],
   "source": [
    "import pandas as pd\n",
    "from pathlib import Path\n",
    "import pandas as pd\n",
    "from tqdm import tqdm\n",
    "import requests\n",
    "tqdm.pandas()  # Enable progress bar for Pandas apply\n",
    "current_dir = Path.cwd()\n",
    "parent_dir = current_dir.parent"
   ]
  },
  {
   "cell_type": "code",
   "execution_count": null,
   "metadata": {},
   "outputs": [],
   "source": [
    "# Main Files used\n",
    "current_dir = Path.cwd()\n",
    "\n",
    "realtor_csv = parent_dir / \"2_data_cleaning\" / \"cleaned_csv\"/ \"realtor_dropped_duplicates.csv\"\n",
    "realtor_coordinate_csv = parent_dir / \"2_data_cleaning\" / \"cleaned_csv\"/ \"realtor_with_coords.csv\"\n"
   ]
  },
  {
   "cell_type": "code",
   "execution_count": 4,
   "metadata": {},
   "outputs": [],
   "source": [
    "def get_coordinates(address, api_key):\n",
    "    \"\"\"\n",
    "    Fetch latitude and longitude for a given address using Google Geocoding API.\n",
    "    \n",
    "    Parameters:\n",
    "        address (str): The address to geocode.\n",
    "        api_key (str): API key for Google Geocoding API.\n",
    "    \n",
    "    Returns:\n",
    "        tuple: Latitude and Longitude as (lat, long). Returns (None, None) if an error occurs.\n",
    "    \"\"\"\n",
    "    try:\n",
    "        # Construct the Geocoding API URL\n",
    "        base_url = \"https://maps.googleapis.com/maps/api/geocode/json\"\n",
    "        params = {\n",
    "            \"address\": address,\n",
    "            \"key\": api_key\n",
    "        }\n",
    "\n",
    "        # Send the request to the API\n",
    "        response = requests.get(base_url, params=params)\n",
    "        response.raise_for_status()  # Raise an HTTPError for bad responses (4xx and 5xx)\n",
    "\n",
    "        # Parse the JSON response\n",
    "        data = response.json()\n",
    "\n",
    "        if data[\"status\"] == \"OK\":\n",
    "            # Extract latitude and longitude from the response\n",
    "            location = data[\"results\"][0][\"geometry\"][\"location\"]\n",
    "            return location[\"lat\"], location[\"lng\"]\n",
    "        else:\n",
    "            print(f\"Geocoding API error for address '{address}': {data['status']}\")\n",
    "            return None, None\n",
    "    except requests.exceptions.RequestException as e:\n",
    "        print(f\"Request error for address '{address}': {e}\")\n",
    "        return None, None\n",
    "\n",
    "def process_dataframe_in_chunks(df, chunk_size, api_key, output_csv):\n",
    "    \"\"\"\n",
    "    Processes a DataFrame in chunks to find latitude and longitude for each row.\n",
    "    \n",
    "    Parameters:\n",
    "        df (pd.DataFrame): Input DataFrame containing the 'address' column.\n",
    "        chunk_size (int): Number of rows to process in each chunk.\n",
    "        api_key (str): API key for the geocoding service.\n",
    "        output_csv (str): Filepath to append the results.\n",
    "\n",
    "    Returns:\n",
    "        None\n",
    "    \"\"\"\n",
    "    # Check if the output CSV already exists\n",
    "    try:\n",
    "        processed_rows = pd.read_csv(output_csv).shape[0]\n",
    "        print(f\"Resuming from row {processed_rows}.\")\n",
    "    except FileNotFoundError:\n",
    "        # Initialize the output file if it doesn't exist\n",
    "        processed_rows = 0\n",
    "        pd.DataFrame().to_csv(output_csv, index=False)\n",
    "\n",
    "    # Process the DataFrame in chunks\n",
    "    for start_idx in range(processed_rows, len(df), chunk_size):\n",
    "        chunk = df.iloc[start_idx:start_idx + chunk_size].copy()  # Copy the chunk\n",
    "\n",
    "        # Process each row in the chunk to get lat and long\n",
    "        chunk[['lat', 'long']] = chunk['address'].progress_apply(\n",
    "            lambda addr: pd.Series(get_coordinates(addr, api_key))\n",
    "        )\n",
    "\n",
    "        # Append the results to the CSV\n",
    "        chunk.to_csv(output_csv, mode='a', header=False, index=False)\n",
    "        print(f\"Processed rows {start_idx} to {start_idx + len(chunk)} and saved to {output_csv}.\")\n",
    "\n",
    "\n"
   ]
  },
  {
   "cell_type": "code",
   "execution_count": 7,
   "metadata": {},
   "outputs": [
    {
     "name": "stderr",
     "output_type": "stream",
     "text": [
      "100%|██████████| 20/20 [00:04<00:00,  4.28it/s]\n"
     ]
    },
    {
     "name": "stdout",
     "output_type": "stream",
     "text": [
      "Processed rows 0 to 20 and saved to c:\\Users\\Jensu\\OneDrive\\Documents\\GitHub\\CME358-Final_project\\2_data_cleaning\\cleaned_csv\\realtor_with_coords1.csv.\n"
     ]
    },
    {
     "name": "stderr",
     "output_type": "stream",
     "text": [
      "100%|██████████| 20/20 [00:04<00:00,  4.85it/s]\n"
     ]
    },
    {
     "name": "stdout",
     "output_type": "stream",
     "text": [
      "Processed rows 20 to 40 and saved to c:\\Users\\Jensu\\OneDrive\\Documents\\GitHub\\CME358-Final_project\\2_data_cleaning\\cleaned_csv\\realtor_with_coords1.csv.\n"
     ]
    },
    {
     "name": "stderr",
     "output_type": "stream",
     "text": [
      "100%|██████████| 20/20 [00:04<00:00,  4.35it/s]\n"
     ]
    },
    {
     "name": "stdout",
     "output_type": "stream",
     "text": [
      "Processed rows 40 to 60 and saved to c:\\Users\\Jensu\\OneDrive\\Documents\\GitHub\\CME358-Final_project\\2_data_cleaning\\cleaned_csv\\realtor_with_coords1.csv.\n"
     ]
    },
    {
     "name": "stderr",
     "output_type": "stream",
     "text": [
      "100%|██████████| 20/20 [00:04<00:00,  4.46it/s]\n"
     ]
    },
    {
     "name": "stdout",
     "output_type": "stream",
     "text": [
      "Processed rows 60 to 80 and saved to c:\\Users\\Jensu\\OneDrive\\Documents\\GitHub\\CME358-Final_project\\2_data_cleaning\\cleaned_csv\\realtor_with_coords1.csv.\n"
     ]
    },
    {
     "name": "stderr",
     "output_type": "stream",
     "text": [
      "100%|██████████| 20/20 [00:04<00:00,  4.82it/s]\n"
     ]
    },
    {
     "name": "stdout",
     "output_type": "stream",
     "text": [
      "Processed rows 80 to 100 and saved to c:\\Users\\Jensu\\OneDrive\\Documents\\GitHub\\CME358-Final_project\\2_data_cleaning\\cleaned_csv\\realtor_with_coords1.csv.\n"
     ]
    },
    {
     "name": "stderr",
     "output_type": "stream",
     "text": [
      "100%|██████████| 20/20 [00:04<00:00,  4.69it/s]\n"
     ]
    },
    {
     "name": "stdout",
     "output_type": "stream",
     "text": [
      "Processed rows 100 to 120 and saved to c:\\Users\\Jensu\\OneDrive\\Documents\\GitHub\\CME358-Final_project\\2_data_cleaning\\cleaned_csv\\realtor_with_coords1.csv.\n"
     ]
    },
    {
     "name": "stderr",
     "output_type": "stream",
     "text": [
      "100%|██████████| 20/20 [00:04<00:00,  4.23it/s]\n"
     ]
    },
    {
     "name": "stdout",
     "output_type": "stream",
     "text": [
      "Processed rows 120 to 140 and saved to c:\\Users\\Jensu\\OneDrive\\Documents\\GitHub\\CME358-Final_project\\2_data_cleaning\\cleaned_csv\\realtor_with_coords1.csv.\n"
     ]
    },
    {
     "name": "stderr",
     "output_type": "stream",
     "text": [
      "100%|██████████| 20/20 [00:11<00:00,  2.31s/it]"
     ]
    },
    {
     "name": "stdout",
     "output_type": "stream",
     "text": [
      "Request error for address '707 - 3 HICKORY TREE ROAD EToronto (Humber Heights), Ontario M9N3W5': ('Connection aborted.', ConnectionResetError(10054, 'An existing connection was forcibly closed by the remote host', None, 10054, None))\n"
     ]
    },
    {
     "name": "stderr",
     "output_type": "stream",
     "text": [
      "100%|██████████| 20/20 [00:11<00:00,  1.76it/s]\n"
     ]
    },
    {
     "name": "stdout",
     "output_type": "stream",
     "text": [
      "Processed rows 140 to 160 and saved to c:\\Users\\Jensu\\OneDrive\\Documents\\GitHub\\CME358-Final_project\\2_data_cleaning\\cleaned_csv\\realtor_with_coords1.csv.\n"
     ]
    },
    {
     "name": "stderr",
     "output_type": "stream",
     "text": [
      "100%|██████████| 20/20 [00:03<00:00,  5.01it/s]\n"
     ]
    },
    {
     "name": "stdout",
     "output_type": "stream",
     "text": [
      "Processed rows 160 to 180 and saved to c:\\Users\\Jensu\\OneDrive\\Documents\\GitHub\\CME358-Final_project\\2_data_cleaning\\cleaned_csv\\realtor_with_coords1.csv.\n"
     ]
    },
    {
     "name": "stderr",
     "output_type": "stream",
     "text": [
      "100%|██████████| 20/20 [00:04<00:00,  4.50it/s]\n"
     ]
    },
    {
     "name": "stdout",
     "output_type": "stream",
     "text": [
      "Processed rows 180 to 200 and saved to c:\\Users\\Jensu\\OneDrive\\Documents\\GitHub\\CME358-Final_project\\2_data_cleaning\\cleaned_csv\\realtor_with_coords1.csv.\n"
     ]
    },
    {
     "name": "stderr",
     "output_type": "stream",
     "text": [
      "100%|██████████| 20/20 [00:04<00:00,  4.42it/s]\n"
     ]
    },
    {
     "name": "stdout",
     "output_type": "stream",
     "text": [
      "Processed rows 200 to 220 and saved to c:\\Users\\Jensu\\OneDrive\\Documents\\GitHub\\CME358-Final_project\\2_data_cleaning\\cleaned_csv\\realtor_with_coords1.csv.\n"
     ]
    },
    {
     "name": "stderr",
     "output_type": "stream",
     "text": [
      "100%|██████████| 20/20 [00:04<00:00,  4.63it/s]\n"
     ]
    },
    {
     "name": "stdout",
     "output_type": "stream",
     "text": [
      "Processed rows 220 to 240 and saved to c:\\Users\\Jensu\\OneDrive\\Documents\\GitHub\\CME358-Final_project\\2_data_cleaning\\cleaned_csv\\realtor_with_coords1.csv.\n"
     ]
    },
    {
     "name": "stderr",
     "output_type": "stream",
     "text": [
      "100%|██████████| 20/20 [00:03<00:00,  5.25it/s]\n"
     ]
    },
    {
     "name": "stdout",
     "output_type": "stream",
     "text": [
      "Processed rows 240 to 260 and saved to c:\\Users\\Jensu\\OneDrive\\Documents\\GitHub\\CME358-Final_project\\2_data_cleaning\\cleaned_csv\\realtor_with_coords1.csv.\n"
     ]
    },
    {
     "name": "stderr",
     "output_type": "stream",
     "text": [
      "100%|██████████| 20/20 [00:04<00:00,  4.56it/s]\n"
     ]
    },
    {
     "name": "stdout",
     "output_type": "stream",
     "text": [
      "Processed rows 260 to 280 and saved to c:\\Users\\Jensu\\OneDrive\\Documents\\GitHub\\CME358-Final_project\\2_data_cleaning\\cleaned_csv\\realtor_with_coords1.csv.\n"
     ]
    },
    {
     "name": "stderr",
     "output_type": "stream",
     "text": [
      "100%|██████████| 20/20 [00:04<00:00,  4.64it/s]\n"
     ]
    },
    {
     "name": "stdout",
     "output_type": "stream",
     "text": [
      "Processed rows 280 to 300 and saved to c:\\Users\\Jensu\\OneDrive\\Documents\\GitHub\\CME358-Final_project\\2_data_cleaning\\cleaned_csv\\realtor_with_coords1.csv.\n"
     ]
    },
    {
     "name": "stderr",
     "output_type": "stream",
     "text": [
      "100%|██████████| 20/20 [00:04<00:00,  4.82it/s]\n"
     ]
    },
    {
     "name": "stdout",
     "output_type": "stream",
     "text": [
      "Processed rows 300 to 320 and saved to c:\\Users\\Jensu\\OneDrive\\Documents\\GitHub\\CME358-Final_project\\2_data_cleaning\\cleaned_csv\\realtor_with_coords1.csv.\n"
     ]
    },
    {
     "name": "stderr",
     "output_type": "stream",
     "text": [
      "100%|██████████| 20/20 [00:05<00:00,  3.38it/s]\n"
     ]
    },
    {
     "name": "stdout",
     "output_type": "stream",
     "text": [
      "Processed rows 320 to 340 and saved to c:\\Users\\Jensu\\OneDrive\\Documents\\GitHub\\CME358-Final_project\\2_data_cleaning\\cleaned_csv\\realtor_with_coords1.csv.\n"
     ]
    },
    {
     "name": "stderr",
     "output_type": "stream",
     "text": [
      "100%|██████████| 20/20 [00:04<00:00,  4.35it/s]\n"
     ]
    },
    {
     "name": "stdout",
     "output_type": "stream",
     "text": [
      "Processed rows 340 to 360 and saved to c:\\Users\\Jensu\\OneDrive\\Documents\\GitHub\\CME358-Final_project\\2_data_cleaning\\cleaned_csv\\realtor_with_coords1.csv.\n"
     ]
    },
    {
     "name": "stderr",
     "output_type": "stream",
     "text": [
      "100%|██████████| 20/20 [00:04<00:00,  4.39it/s]\n"
     ]
    },
    {
     "name": "stdout",
     "output_type": "stream",
     "text": [
      "Processed rows 360 to 380 and saved to c:\\Users\\Jensu\\OneDrive\\Documents\\GitHub\\CME358-Final_project\\2_data_cleaning\\cleaned_csv\\realtor_with_coords1.csv.\n"
     ]
    },
    {
     "name": "stderr",
     "output_type": "stream",
     "text": [
      "100%|██████████| 20/20 [00:04<00:00,  4.07it/s]\n"
     ]
    },
    {
     "name": "stdout",
     "output_type": "stream",
     "text": [
      "Processed rows 380 to 400 and saved to c:\\Users\\Jensu\\OneDrive\\Documents\\GitHub\\CME358-Final_project\\2_data_cleaning\\cleaned_csv\\realtor_with_coords1.csv.\n"
     ]
    },
    {
     "name": "stderr",
     "output_type": "stream",
     "text": [
      "100%|██████████| 20/20 [00:05<00:00,  3.88it/s]\n"
     ]
    },
    {
     "name": "stdout",
     "output_type": "stream",
     "text": [
      "Processed rows 400 to 420 and saved to c:\\Users\\Jensu\\OneDrive\\Documents\\GitHub\\CME358-Final_project\\2_data_cleaning\\cleaned_csv\\realtor_with_coords1.csv.\n"
     ]
    },
    {
     "name": "stderr",
     "output_type": "stream",
     "text": [
      "100%|██████████| 20/20 [00:04<00:00,  4.68it/s]\n"
     ]
    },
    {
     "name": "stdout",
     "output_type": "stream",
     "text": [
      "Processed rows 420 to 440 and saved to c:\\Users\\Jensu\\OneDrive\\Documents\\GitHub\\CME358-Final_project\\2_data_cleaning\\cleaned_csv\\realtor_with_coords1.csv.\n"
     ]
    },
    {
     "name": "stderr",
     "output_type": "stream",
     "text": [
      "100%|██████████| 20/20 [00:04<00:00,  4.76it/s]\n"
     ]
    },
    {
     "name": "stdout",
     "output_type": "stream",
     "text": [
      "Processed rows 440 to 460 and saved to c:\\Users\\Jensu\\OneDrive\\Documents\\GitHub\\CME358-Final_project\\2_data_cleaning\\cleaned_csv\\realtor_with_coords1.csv.\n"
     ]
    },
    {
     "name": "stderr",
     "output_type": "stream",
     "text": [
      "100%|██████████| 20/20 [00:04<00:00,  4.54it/s]\n"
     ]
    },
    {
     "name": "stdout",
     "output_type": "stream",
     "text": [
      "Processed rows 460 to 480 and saved to c:\\Users\\Jensu\\OneDrive\\Documents\\GitHub\\CME358-Final_project\\2_data_cleaning\\cleaned_csv\\realtor_with_coords1.csv.\n"
     ]
    },
    {
     "name": "stderr",
     "output_type": "stream",
     "text": [
      "100%|██████████| 20/20 [00:04<00:00,  4.75it/s]\n"
     ]
    },
    {
     "name": "stdout",
     "output_type": "stream",
     "text": [
      "Processed rows 480 to 500 and saved to c:\\Users\\Jensu\\OneDrive\\Documents\\GitHub\\CME358-Final_project\\2_data_cleaning\\cleaned_csv\\realtor_with_coords1.csv.\n"
     ]
    },
    {
     "name": "stderr",
     "output_type": "stream",
     "text": [
      "100%|██████████| 20/20 [00:04<00:00,  4.23it/s]\n"
     ]
    },
    {
     "name": "stdout",
     "output_type": "stream",
     "text": [
      "Processed rows 500 to 520 and saved to c:\\Users\\Jensu\\OneDrive\\Documents\\GitHub\\CME358-Final_project\\2_data_cleaning\\cleaned_csv\\realtor_with_coords1.csv.\n"
     ]
    },
    {
     "name": "stderr",
     "output_type": "stream",
     "text": [
      "100%|██████████| 20/20 [00:04<00:00,  4.66it/s]\n"
     ]
    },
    {
     "name": "stdout",
     "output_type": "stream",
     "text": [
      "Processed rows 520 to 540 and saved to c:\\Users\\Jensu\\OneDrive\\Documents\\GitHub\\CME358-Final_project\\2_data_cleaning\\cleaned_csv\\realtor_with_coords1.csv.\n"
     ]
    },
    {
     "name": "stderr",
     "output_type": "stream",
     "text": [
      "100%|██████████| 20/20 [00:04<00:00,  4.71it/s]\n"
     ]
    },
    {
     "name": "stdout",
     "output_type": "stream",
     "text": [
      "Processed rows 540 to 560 and saved to c:\\Users\\Jensu\\OneDrive\\Documents\\GitHub\\CME358-Final_project\\2_data_cleaning\\cleaned_csv\\realtor_with_coords1.csv.\n"
     ]
    },
    {
     "name": "stderr",
     "output_type": "stream",
     "text": [
      " 55%|█████▌    | 11/20 [00:02<00:01,  5.35it/s]"
     ]
    },
    {
     "name": "stdout",
     "output_type": "stream",
     "text": [
      "Geocoding API error for address 'Address not available': ZERO_RESULTS\n"
     ]
    },
    {
     "name": "stderr",
     "output_type": "stream",
     "text": [
      "100%|██████████| 20/20 [00:04<00:00,  4.68it/s]\n"
     ]
    },
    {
     "name": "stdout",
     "output_type": "stream",
     "text": [
      "Processed rows 560 to 580 and saved to c:\\Users\\Jensu\\OneDrive\\Documents\\GitHub\\CME358-Final_project\\2_data_cleaning\\cleaned_csv\\realtor_with_coords1.csv.\n"
     ]
    },
    {
     "name": "stderr",
     "output_type": "stream",
     "text": [
      "100%|██████████| 20/20 [00:04<00:00,  4.58it/s]\n"
     ]
    },
    {
     "name": "stdout",
     "output_type": "stream",
     "text": [
      "Processed rows 580 to 600 and saved to c:\\Users\\Jensu\\OneDrive\\Documents\\GitHub\\CME358-Final_project\\2_data_cleaning\\cleaned_csv\\realtor_with_coords1.csv.\n"
     ]
    },
    {
     "name": "stderr",
     "output_type": "stream",
     "text": [
      "100%|██████████| 20/20 [00:04<00:00,  4.71it/s]\n"
     ]
    },
    {
     "name": "stdout",
     "output_type": "stream",
     "text": [
      "Processed rows 600 to 620 and saved to c:\\Users\\Jensu\\OneDrive\\Documents\\GitHub\\CME358-Final_project\\2_data_cleaning\\cleaned_csv\\realtor_with_coords1.csv.\n"
     ]
    },
    {
     "name": "stderr",
     "output_type": "stream",
     "text": [
      "100%|██████████| 20/20 [00:03<00:00,  5.07it/s]\n"
     ]
    },
    {
     "name": "stdout",
     "output_type": "stream",
     "text": [
      "Processed rows 620 to 640 and saved to c:\\Users\\Jensu\\OneDrive\\Documents\\GitHub\\CME358-Final_project\\2_data_cleaning\\cleaned_csv\\realtor_with_coords1.csv.\n"
     ]
    },
    {
     "name": "stderr",
     "output_type": "stream",
     "text": [
      "100%|██████████| 20/20 [00:04<00:00,  4.57it/s]\n"
     ]
    },
    {
     "name": "stdout",
     "output_type": "stream",
     "text": [
      "Processed rows 640 to 660 and saved to c:\\Users\\Jensu\\OneDrive\\Documents\\GitHub\\CME358-Final_project\\2_data_cleaning\\cleaned_csv\\realtor_with_coords1.csv.\n"
     ]
    },
    {
     "name": "stderr",
     "output_type": "stream",
     "text": [
      "100%|██████████| 20/20 [00:04<00:00,  4.60it/s]\n"
     ]
    },
    {
     "name": "stdout",
     "output_type": "stream",
     "text": [
      "Processed rows 660 to 680 and saved to c:\\Users\\Jensu\\OneDrive\\Documents\\GitHub\\CME358-Final_project\\2_data_cleaning\\cleaned_csv\\realtor_with_coords1.csv.\n"
     ]
    },
    {
     "name": "stderr",
     "output_type": "stream",
     "text": [
      "100%|██████████| 20/20 [00:04<00:00,  4.75it/s]\n"
     ]
    },
    {
     "name": "stdout",
     "output_type": "stream",
     "text": [
      "Processed rows 680 to 700 and saved to c:\\Users\\Jensu\\OneDrive\\Documents\\GitHub\\CME358-Final_project\\2_data_cleaning\\cleaned_csv\\realtor_with_coords1.csv.\n"
     ]
    },
    {
     "name": "stderr",
     "output_type": "stream",
     "text": [
      "100%|██████████| 20/20 [00:04<00:00,  4.60it/s]\n"
     ]
    },
    {
     "name": "stdout",
     "output_type": "stream",
     "text": [
      "Processed rows 700 to 720 and saved to c:\\Users\\Jensu\\OneDrive\\Documents\\GitHub\\CME358-Final_project\\2_data_cleaning\\cleaned_csv\\realtor_with_coords1.csv.\n"
     ]
    },
    {
     "name": "stderr",
     "output_type": "stream",
     "text": [
      "100%|██████████| 20/20 [00:04<00:00,  4.77it/s]\n"
     ]
    },
    {
     "name": "stdout",
     "output_type": "stream",
     "text": [
      "Processed rows 720 to 740 and saved to c:\\Users\\Jensu\\OneDrive\\Documents\\GitHub\\CME358-Final_project\\2_data_cleaning\\cleaned_csv\\realtor_with_coords1.csv.\n"
     ]
    },
    {
     "name": "stderr",
     "output_type": "stream",
     "text": [
      "100%|██████████| 20/20 [00:04<00:00,  4.69it/s]\n"
     ]
    },
    {
     "name": "stdout",
     "output_type": "stream",
     "text": [
      "Processed rows 740 to 760 and saved to c:\\Users\\Jensu\\OneDrive\\Documents\\GitHub\\CME358-Final_project\\2_data_cleaning\\cleaned_csv\\realtor_with_coords1.csv.\n"
     ]
    },
    {
     "name": "stderr",
     "output_type": "stream",
     "text": [
      "100%|██████████| 20/20 [00:04<00:00,  4.71it/s]\n"
     ]
    },
    {
     "name": "stdout",
     "output_type": "stream",
     "text": [
      "Processed rows 760 to 780 and saved to c:\\Users\\Jensu\\OneDrive\\Documents\\GitHub\\CME358-Final_project\\2_data_cleaning\\cleaned_csv\\realtor_with_coords1.csv.\n"
     ]
    },
    {
     "name": "stderr",
     "output_type": "stream",
     "text": [
      "100%|██████████| 20/20 [00:03<00:00,  5.07it/s]\n"
     ]
    },
    {
     "name": "stdout",
     "output_type": "stream",
     "text": [
      "Processed rows 780 to 800 and saved to c:\\Users\\Jensu\\OneDrive\\Documents\\GitHub\\CME358-Final_project\\2_data_cleaning\\cleaned_csv\\realtor_with_coords1.csv.\n"
     ]
    },
    {
     "name": "stderr",
     "output_type": "stream",
     "text": [
      "100%|██████████| 20/20 [00:04<00:00,  4.43it/s]\n"
     ]
    },
    {
     "name": "stdout",
     "output_type": "stream",
     "text": [
      "Processed rows 800 to 820 and saved to c:\\Users\\Jensu\\OneDrive\\Documents\\GitHub\\CME358-Final_project\\2_data_cleaning\\cleaned_csv\\realtor_with_coords1.csv.\n"
     ]
    },
    {
     "name": "stderr",
     "output_type": "stream",
     "text": [
      "100%|██████████| 20/20 [00:04<00:00,  4.69it/s]\n"
     ]
    },
    {
     "name": "stdout",
     "output_type": "stream",
     "text": [
      "Processed rows 820 to 840 and saved to c:\\Users\\Jensu\\OneDrive\\Documents\\GitHub\\CME358-Final_project\\2_data_cleaning\\cleaned_csv\\realtor_with_coords1.csv.\n"
     ]
    },
    {
     "name": "stderr",
     "output_type": "stream",
     "text": [
      "100%|██████████| 20/20 [00:04<00:00,  4.75it/s]\n"
     ]
    },
    {
     "name": "stdout",
     "output_type": "stream",
     "text": [
      "Processed rows 840 to 860 and saved to c:\\Users\\Jensu\\OneDrive\\Documents\\GitHub\\CME358-Final_project\\2_data_cleaning\\cleaned_csv\\realtor_with_coords1.csv.\n"
     ]
    },
    {
     "name": "stderr",
     "output_type": "stream",
     "text": [
      " 25%|██▌       | 5/20 [00:07<00:33,  2.24s/it]"
     ]
    },
    {
     "name": "stdout",
     "output_type": "stream",
     "text": [
      "Request error for address '4408 - 197 YONGE STREETToronto (Church-Yonge Corridor), Ontario M5B0C1': ('Connection aborted.', ConnectionResetError(10054, 'An existing connection was forcibly closed by the remote host', None, 10054, None))\n"
     ]
    },
    {
     "name": "stderr",
     "output_type": "stream",
     "text": [
      "100%|██████████| 20/20 [00:11<00:00,  1.79it/s]\n"
     ]
    },
    {
     "name": "stdout",
     "output_type": "stream",
     "text": [
      "Processed rows 860 to 880 and saved to c:\\Users\\Jensu\\OneDrive\\Documents\\GitHub\\CME358-Final_project\\2_data_cleaning\\cleaned_csv\\realtor_with_coords1.csv.\n"
     ]
    },
    {
     "name": "stderr",
     "output_type": "stream",
     "text": [
      "100%|██████████| 20/20 [00:04<00:00,  4.75it/s]\n"
     ]
    },
    {
     "name": "stdout",
     "output_type": "stream",
     "text": [
      "Processed rows 880 to 900 and saved to c:\\Users\\Jensu\\OneDrive\\Documents\\GitHub\\CME358-Final_project\\2_data_cleaning\\cleaned_csv\\realtor_with_coords1.csv.\n"
     ]
    },
    {
     "name": "stderr",
     "output_type": "stream",
     "text": [
      "100%|██████████| 20/20 [00:04<00:00,  4.71it/s]\n"
     ]
    },
    {
     "name": "stdout",
     "output_type": "stream",
     "text": [
      "Processed rows 900 to 920 and saved to c:\\Users\\Jensu\\OneDrive\\Documents\\GitHub\\CME358-Final_project\\2_data_cleaning\\cleaned_csv\\realtor_with_coords1.csv.\n"
     ]
    },
    {
     "name": "stderr",
     "output_type": "stream",
     "text": [
      "100%|██████████| 20/20 [00:03<00:00,  5.07it/s]\n"
     ]
    },
    {
     "name": "stdout",
     "output_type": "stream",
     "text": [
      "Processed rows 920 to 940 and saved to c:\\Users\\Jensu\\OneDrive\\Documents\\GitHub\\CME358-Final_project\\2_data_cleaning\\cleaned_csv\\realtor_with_coords1.csv.\n"
     ]
    },
    {
     "name": "stderr",
     "output_type": "stream",
     "text": [
      "100%|██████████| 20/20 [00:03<00:00,  5.04it/s]\n"
     ]
    },
    {
     "name": "stdout",
     "output_type": "stream",
     "text": [
      "Processed rows 940 to 960 and saved to c:\\Users\\Jensu\\OneDrive\\Documents\\GitHub\\CME358-Final_project\\2_data_cleaning\\cleaned_csv\\realtor_with_coords1.csv.\n"
     ]
    },
    {
     "name": "stderr",
     "output_type": "stream",
     "text": [
      "100%|██████████| 20/20 [00:05<00:00,  3.77it/s]\n"
     ]
    },
    {
     "name": "stdout",
     "output_type": "stream",
     "text": [
      "Processed rows 960 to 980 and saved to c:\\Users\\Jensu\\OneDrive\\Documents\\GitHub\\CME358-Final_project\\2_data_cleaning\\cleaned_csv\\realtor_with_coords1.csv.\n"
     ]
    },
    {
     "name": "stderr",
     "output_type": "stream",
     "text": [
      "100%|██████████| 20/20 [00:04<00:00,  4.38it/s]\n"
     ]
    },
    {
     "name": "stdout",
     "output_type": "stream",
     "text": [
      "Processed rows 980 to 1000 and saved to c:\\Users\\Jensu\\OneDrive\\Documents\\GitHub\\CME358-Final_project\\2_data_cleaning\\cleaned_csv\\realtor_with_coords1.csv.\n"
     ]
    },
    {
     "name": "stderr",
     "output_type": "stream",
     "text": [
      "100%|██████████| 20/20 [00:04<00:00,  4.70it/s]\n"
     ]
    },
    {
     "name": "stdout",
     "output_type": "stream",
     "text": [
      "Processed rows 1000 to 1020 and saved to c:\\Users\\Jensu\\OneDrive\\Documents\\GitHub\\CME358-Final_project\\2_data_cleaning\\cleaned_csv\\realtor_with_coords1.csv.\n"
     ]
    },
    {
     "name": "stderr",
     "output_type": "stream",
     "text": [
      "100%|██████████| 20/20 [00:04<00:00,  4.55it/s]\n"
     ]
    },
    {
     "name": "stdout",
     "output_type": "stream",
     "text": [
      "Processed rows 1020 to 1040 and saved to c:\\Users\\Jensu\\OneDrive\\Documents\\GitHub\\CME358-Final_project\\2_data_cleaning\\cleaned_csv\\realtor_with_coords1.csv.\n"
     ]
    },
    {
     "name": "stderr",
     "output_type": "stream",
     "text": [
      "100%|██████████| 20/20 [00:04<00:00,  4.49it/s]\n"
     ]
    },
    {
     "name": "stdout",
     "output_type": "stream",
     "text": [
      "Processed rows 1040 to 1060 and saved to c:\\Users\\Jensu\\OneDrive\\Documents\\GitHub\\CME358-Final_project\\2_data_cleaning\\cleaned_csv\\realtor_with_coords1.csv.\n"
     ]
    },
    {
     "name": "stderr",
     "output_type": "stream",
     "text": [
      "100%|██████████| 10/10 [00:02<00:00,  4.25it/s]"
     ]
    },
    {
     "name": "stdout",
     "output_type": "stream",
     "text": [
      "Processed rows 1060 to 1070 and saved to c:\\Users\\Jensu\\OneDrive\\Documents\\GitHub\\CME358-Final_project\\2_data_cleaning\\cleaned_csv\\realtor_with_coords1.csv.\n"
     ]
    },
    {
     "name": "stderr",
     "output_type": "stream",
     "text": [
      "\n"
     ]
    }
   ],
   "source": [
    "realtor_data = pd.read_csv(realtor_csv)\n",
    "process_dataframe_in_chunks(realtor_data,20, api_key, realtor_coordinate_csv)"
   ]
  },
  {
   "cell_type": "code",
   "execution_count": 3,
   "metadata": {},
   "outputs": [],
   "source": [
    "def clean_and_update_coords(input_csv, output_csv):\n",
    "    \"\"\"\n",
    "    Cleans and updates a coordinates dataset by resetting indices, renaming columns, \n",
    "    removing rows with missing coordinates, and saving the cleaned DataFrame.\n",
    "\n",
    "    Parameters:\n",
    "        input_csv (str): Path to the input CSV containing raw coordinates.\n",
    "        output_csv (str): Path to save the cleaned and updated CSV.\n",
    "        original_columns (list): Original column names from the source dataset.\n",
    "\n",
    "    Returns:\n",
    "        pd.DataFrame: The cleaned DataFrame with updated columns.\n",
    "    \"\"\"\n",
    "    # Load the dataset\n",
    "    original = pd.read_csv(input_csv)\n",
    "    df_with_coods = pd.read_csv(output_csv)\n",
    "\n",
    "    # display(df_with_coods.head())\n",
    "    df_with_coods.reset_index(drop=True, inplace=True)\n",
    "\n",
    "    \n",
    "    # print(coords_df)\n",
    "\n",
    "    # # Update column names\n",
    "    new_columns = list(original.columns) + [\"lat\", \"long\"]\n",
    "    df_with_coods.columns = new_columns\n",
    "\n",
    "\n",
    "\n",
    "    # # Save the cleaned DataFrame\n",
    "    df_with_coods.to_csv(output_csv, index=False)\n",
    "\n",
    "    return df_with_coods\n",
    "\n"
   ]
  },
  {
   "cell_type": "code",
   "execution_count": 32,
   "metadata": {},
   "outputs": [
    {
     "data": {
      "text/html": [
       "<div>\n",
       "<style scoped>\n",
       "    .dataframe tbody tr th:only-of-type {\n",
       "        vertical-align: middle;\n",
       "    }\n",
       "\n",
       "    .dataframe tbody tr th {\n",
       "        vertical-align: top;\n",
       "    }\n",
       "\n",
       "    .dataframe thead th {\n",
       "        text-align: right;\n",
       "    }\n",
       "</style>\n",
       "<table border=\"1\" class=\"dataframe\">\n",
       "  <thead>\n",
       "    <tr style=\"text-align: right;\">\n",
       "      <th></th>\n",
       "      <th>price</th>\n",
       "      <th>address</th>\n",
       "      <th>mls</th>\n",
       "      <th>office_name</th>\n",
       "      <th>office_type</th>\n",
       "      <th>office_address</th>\n",
       "      <th>Property Type</th>\n",
       "      <th>Building Type</th>\n",
       "      <th>Storeys</th>\n",
       "      <th>Square Footage</th>\n",
       "      <th>...</th>\n",
       "      <th>Waterfront Name</th>\n",
       "      <th>Other Style</th>\n",
       "      <th>Fireplace Fuel</th>\n",
       "      <th>Utility-Hydro</th>\n",
       "      <th>Other</th>\n",
       "      <th>Age Of Building</th>\n",
       "      <th>Business Type</th>\n",
       "      <th>street address</th>\n",
       "      <th>lat</th>\n",
       "      <th>long</th>\n",
       "    </tr>\n",
       "  </thead>\n",
       "  <tbody>\n",
       "    <tr>\n",
       "      <th>0</th>\n",
       "      <td>$888,000</td>\n",
       "      <td>1515 - 8 HILLCREST AVENUEToronto (Willowdale E...</td>\n",
       "      <td>C10650046</td>\n",
       "      <td>HOMELIFE NEW WORLD REALTY INC.</td>\n",
       "      <td>Brokerage</td>\n",
       "      <td>201 CONSUMERS RD., STE. 205TORONTO, Ontario M2...</td>\n",
       "      <td>Single Family</td>\n",
       "      <td>Apartment</td>\n",
       "      <td>NaN</td>\n",
       "      <td>1000 - 1199 sqft</td>\n",
       "      <td>...</td>\n",
       "      <td>NaN</td>\n",
       "      <td>NaN</td>\n",
       "      <td>NaN</td>\n",
       "      <td>NaN</td>\n",
       "      <td>NaN</td>\n",
       "      <td>NaN</td>\n",
       "      <td>NaN</td>\n",
       "      <td>8 hillcrest avenue</td>\n",
       "      <td>43.767937</td>\n",
       "      <td>-79.412160</td>\n",
       "    </tr>\n",
       "    <tr>\n",
       "      <th>1</th>\n",
       "      <td>$639,000</td>\n",
       "      <td>1502 - 10 YORK STREETToronto (Waterfront Commu...</td>\n",
       "      <td>C10640404</td>\n",
       "      <td>RE/MAX REALTRON TNS REALTY INC.</td>\n",
       "      <td>Brokerage</td>\n",
       "      <td>7800 WOODBINE AVE PHMARKHAM, Ontario L3R2N7</td>\n",
       "      <td>Single Family</td>\n",
       "      <td>Apartment</td>\n",
       "      <td>NaN</td>\n",
       "      <td>500 - 599 sqft</td>\n",
       "      <td>...</td>\n",
       "      <td>NaN</td>\n",
       "      <td>NaN</td>\n",
       "      <td>NaN</td>\n",
       "      <td>NaN</td>\n",
       "      <td>NaN</td>\n",
       "      <td>NaN</td>\n",
       "      <td>NaN</td>\n",
       "      <td>10 york street</td>\n",
       "      <td>43.641145</td>\n",
       "      <td>-79.381312</td>\n",
       "    </tr>\n",
       "    <tr>\n",
       "      <th>2</th>\n",
       "      <td>$1,139,000</td>\n",
       "      <td>185 RICHARD CLARK DRIVEToronto (Downsview-Rodi...</td>\n",
       "      <td>W10562062</td>\n",
       "      <td>IPRO REALTY LTD.</td>\n",
       "      <td>Brokerage</td>\n",
       "      <td>3079B DUNDAS ST WESTTORONTO, Ontario M6P1Z9</td>\n",
       "      <td>Single Family</td>\n",
       "      <td>House</td>\n",
       "      <td>1.0</td>\n",
       "      <td>NaN</td>\n",
       "      <td>...</td>\n",
       "      <td>NaN</td>\n",
       "      <td>NaN</td>\n",
       "      <td>NaN</td>\n",
       "      <td>NaN</td>\n",
       "      <td>NaN</td>\n",
       "      <td>NaN</td>\n",
       "      <td>NaN</td>\n",
       "      <td>185 richard clark drive</td>\n",
       "      <td>43.726186</td>\n",
       "      <td>-79.498531</td>\n",
       "    </tr>\n",
       "    <tr>\n",
       "      <th>3</th>\n",
       "      <td>$2,150,000</td>\n",
       "      <td>112 ANNDALE DRIVEToronto (Willowdale East), On...</td>\n",
       "      <td>C10564186</td>\n",
       "      <td>HOMELIFE GOLD PACIFIC REALTY INC.</td>\n",
       "      <td>Brokerage</td>\n",
       "      <td>3601 VICTORIA PARK AVE #401TORONTO, Ontario M1...</td>\n",
       "      <td>Single Family</td>\n",
       "      <td>House</td>\n",
       "      <td>1.5</td>\n",
       "      <td>NaN</td>\n",
       "      <td>...</td>\n",
       "      <td>NaN</td>\n",
       "      <td>NaN</td>\n",
       "      <td>NaN</td>\n",
       "      <td>NaN</td>\n",
       "      <td>NaN</td>\n",
       "      <td>NaN</td>\n",
       "      <td>NaN</td>\n",
       "      <td>112 anndale drive</td>\n",
       "      <td>43.762464</td>\n",
       "      <td>-79.399510</td>\n",
       "    </tr>\n",
       "    <tr>\n",
       "      <th>4</th>\n",
       "      <td>$399,900</td>\n",
       "      <td>708 - 60 TOWN CENTRE COURTToronto (Bendale), O...</td>\n",
       "      <td>E10541395</td>\n",
       "      <td>EXP REALTY</td>\n",
       "      <td>Brokerage</td>\n",
       "      <td>4711 YONGE ST 10TH FLR106430TORONTO, Ontario M...</td>\n",
       "      <td>Single Family</td>\n",
       "      <td>Apartment</td>\n",
       "      <td>NaN</td>\n",
       "      <td>600 - 699 sqft</td>\n",
       "      <td>...</td>\n",
       "      <td>NaN</td>\n",
       "      <td>NaN</td>\n",
       "      <td>NaN</td>\n",
       "      <td>NaN</td>\n",
       "      <td>NaN</td>\n",
       "      <td>NaN</td>\n",
       "      <td>NaN</td>\n",
       "      <td>60 town centre court</td>\n",
       "      <td>43.773408</td>\n",
       "      <td>-79.256125</td>\n",
       "    </tr>\n",
       "  </tbody>\n",
       "</table>\n",
       "<p>5 rows × 75 columns</p>\n",
       "</div>"
      ],
      "text/plain": [
       "        price                                            address        mls  \\\n",
       "0    $888,000  1515 - 8 HILLCREST AVENUEToronto (Willowdale E...  C10650046   \n",
       "1    $639,000  1502 - 10 YORK STREETToronto (Waterfront Commu...  C10640404   \n",
       "2  $1,139,000  185 RICHARD CLARK DRIVEToronto (Downsview-Rodi...  W10562062   \n",
       "3  $2,150,000  112 ANNDALE DRIVEToronto (Willowdale East), On...  C10564186   \n",
       "4    $399,900  708 - 60 TOWN CENTRE COURTToronto (Bendale), O...  E10541395   \n",
       "\n",
       "                         office_name office_type  \\\n",
       "0     HOMELIFE NEW WORLD REALTY INC.   Brokerage   \n",
       "1    RE/MAX REALTRON TNS REALTY INC.   Brokerage   \n",
       "2                   IPRO REALTY LTD.   Brokerage   \n",
       "3  HOMELIFE GOLD PACIFIC REALTY INC.   Brokerage   \n",
       "4                         EXP REALTY   Brokerage   \n",
       "\n",
       "                                      office_address  Property Type  \\\n",
       "0  201 CONSUMERS RD., STE. 205TORONTO, Ontario M2...  Single Family   \n",
       "1        7800 WOODBINE AVE PHMARKHAM, Ontario L3R2N7  Single Family   \n",
       "2        3079B DUNDAS ST WESTTORONTO, Ontario M6P1Z9  Single Family   \n",
       "3  3601 VICTORIA PARK AVE #401TORONTO, Ontario M1...  Single Family   \n",
       "4  4711 YONGE ST 10TH FLR106430TORONTO, Ontario M...  Single Family   \n",
       "\n",
       "  Building Type  Storeys    Square Footage  ... Waterfront Name Other Style  \\\n",
       "0     Apartment      NaN  1000 - 1199 sqft  ...             NaN         NaN   \n",
       "1     Apartment      NaN    500 - 599 sqft  ...             NaN         NaN   \n",
       "2         House      1.0               NaN  ...             NaN         NaN   \n",
       "3         House      1.5               NaN  ...             NaN         NaN   \n",
       "4     Apartment      NaN    600 - 699 sqft  ...             NaN         NaN   \n",
       "\n",
       "  Fireplace Fuel Utility-Hydro Other  Age Of Building  Business Type  \\\n",
       "0            NaN           NaN   NaN              NaN            NaN   \n",
       "1            NaN           NaN   NaN              NaN            NaN   \n",
       "2            NaN           NaN   NaN              NaN            NaN   \n",
       "3            NaN           NaN   NaN              NaN            NaN   \n",
       "4            NaN           NaN   NaN              NaN            NaN   \n",
       "\n",
       "            street address        lat       long  \n",
       "0       8 hillcrest avenue  43.767937 -79.412160  \n",
       "1           10 york street  43.641145 -79.381312  \n",
       "2  185 richard clark drive  43.726186 -79.498531  \n",
       "3        112 anndale drive  43.762464 -79.399510  \n",
       "4     60 town centre court  43.773408 -79.256125  \n",
       "\n",
       "[5 rows x 75 columns]"
      ]
     },
     "execution_count": 32,
     "metadata": {},
     "output_type": "execute_result"
    }
   ],
   "source": [
    "\n",
    "clean_and_update_coords(realtor_csv, realtor_coordinate_csv).head()\n"
   ]
  },
  {
   "cell_type": "code",
   "execution_count": 24,
   "metadata": {},
   "outputs": [],
   "source": [
    "zolo_csv= current_dir.parent/'0_raw_data'/'house_data'/'newest_zolo_with_mls.csv'\n",
    "zolo_data = pd.read_csv(zolo_csv)\n",
    "output_csv = current_dir.parent/'0_raw_data'/'house_data'/\"zolo_with_coords.csv\"\n"
   ]
  },
  {
   "cell_type": "code",
   "execution_count": 25,
   "metadata": {},
   "outputs": [
    {
     "name": "stderr",
     "output_type": "stream",
     "text": [
      " 45%|████▌     | 9/20 [00:01<00:02,  4.50it/s]"
     ]
    },
    {
     "name": "stdout",
     "output_type": "stream",
     "text": [
      "Geocoding API error for address '131 Maplewood Avenue': ZERO_RESULTS\n"
     ]
    },
    {
     "name": "stderr",
     "output_type": "stream",
     "text": [
      "100%|██████████| 20/20 [00:04<00:00,  4.89it/s]\n"
     ]
    },
    {
     "name": "stdout",
     "output_type": "stream",
     "text": [
      "Processed rows 0 to 20 and saved to c:\\Users\\Jensu\\OneDrive\\Documents\\GitHub\\CME358-Final_project\\0_raw_data\\house_data\\zolo_with_coords.csv.\n"
     ]
    },
    {
     "name": "stderr",
     "output_type": "stream",
     "text": [
      " 90%|█████████ | 18/20 [00:03<00:00,  5.36it/s]"
     ]
    },
    {
     "name": "stdout",
     "output_type": "stream",
     "text": [
      "Geocoding API error for address 'nan': ZERO_RESULTS\n",
      "Geocoding API error for address 'nan': ZERO_RESULTS\n"
     ]
    },
    {
     "name": "stderr",
     "output_type": "stream",
     "text": [
      "100%|██████████| 20/20 [00:04<00:00,  4.94it/s]\n"
     ]
    },
    {
     "name": "stdout",
     "output_type": "stream",
     "text": [
      "Processed rows 20 to 40 and saved to c:\\Users\\Jensu\\OneDrive\\Documents\\GitHub\\CME358-Final_project\\0_raw_data\\house_data\\zolo_with_coords.csv.\n"
     ]
    },
    {
     "name": "stderr",
     "output_type": "stream",
     "text": [
      "100%|██████████| 20/20 [00:03<00:00,  4.82it/s]"
     ]
    },
    {
     "name": "stdout",
     "output_type": "stream",
     "text": [
      "Geocoding API error for address '411 Main Street': ZERO_RESULTS\n"
     ]
    },
    {
     "name": "stderr",
     "output_type": "stream",
     "text": [
      "100%|██████████| 20/20 [00:03<00:00,  5.07it/s]\n"
     ]
    },
    {
     "name": "stdout",
     "output_type": "stream",
     "text": [
      "Processed rows 40 to 60 and saved to c:\\Users\\Jensu\\OneDrive\\Documents\\GitHub\\CME358-Final_project\\0_raw_data\\house_data\\zolo_with_coords.csv.\n"
     ]
    },
    {
     "name": "stderr",
     "output_type": "stream",
     "text": [
      " 65%|██████▌   | 13/20 [00:02<00:01,  5.14it/s]"
     ]
    },
    {
     "name": "stdout",
     "output_type": "stream",
     "text": [
      "Geocoding API error for address 'nan': ZERO_RESULTS\n"
     ]
    },
    {
     "name": "stderr",
     "output_type": "stream",
     "text": [
      "100%|██████████| 20/20 [00:03<00:00,  5.09it/s]\n"
     ]
    },
    {
     "name": "stdout",
     "output_type": "stream",
     "text": [
      "Processed rows 60 to 80 and saved to c:\\Users\\Jensu\\OneDrive\\Documents\\GitHub\\CME358-Final_project\\0_raw_data\\house_data\\zolo_with_coords.csv.\n"
     ]
    },
    {
     "name": "stderr",
     "output_type": "stream",
     "text": [
      " 45%|████▌     | 9/20 [00:01<00:01,  6.36it/s]"
     ]
    },
    {
     "name": "stdout",
     "output_type": "stream",
     "text": [
      "Geocoding API error for address '180 Lake Shore Drive': ZERO_RESULTS\n"
     ]
    },
    {
     "name": "stderr",
     "output_type": "stream",
     "text": [
      " 70%|███████   | 14/20 [00:02<00:01,  5.75it/s]"
     ]
    },
    {
     "name": "stdout",
     "output_type": "stream",
     "text": [
      "Geocoding API error for address '3 Lake Shore Drive': ZERO_RESULTS\n"
     ]
    },
    {
     "name": "stderr",
     "output_type": "stream",
     "text": [
      " 95%|█████████▌| 19/20 [00:03<00:00,  6.03it/s]"
     ]
    },
    {
     "name": "stdout",
     "output_type": "stream",
     "text": [
      "Geocoding API error for address '55 Laurel Avenue': ZERO_RESULTS\n"
     ]
    },
    {
     "name": "stderr",
     "output_type": "stream",
     "text": [
      "100%|██████████| 20/20 [00:04<00:00,  4.83it/s]\n"
     ]
    },
    {
     "name": "stdout",
     "output_type": "stream",
     "text": [
      "Processed rows 80 to 100 and saved to c:\\Users\\Jensu\\OneDrive\\Documents\\GitHub\\CME358-Final_project\\0_raw_data\\house_data\\zolo_with_coords.csv.\n"
     ]
    },
    {
     "name": "stderr",
     "output_type": "stream",
     "text": [
      " 55%|█████▌    | 11/20 [00:01<00:01,  6.15it/s]"
     ]
    },
    {
     "name": "stdout",
     "output_type": "stream",
     "text": [
      "Geocoding API error for address 'nan': ZERO_RESULTS\n",
      "Geocoding API error for address '97 29th Street': ZERO_RESULTS\n"
     ]
    },
    {
     "name": "stderr",
     "output_type": "stream",
     "text": [
      " 65%|██████▌   | 13/20 [00:02<00:01,  6.17it/s]"
     ]
    },
    {
     "name": "stdout",
     "output_type": "stream",
     "text": [
      "Geocoding API error for address '75 Seventeenth Street': ZERO_RESULTS\n"
     ]
    },
    {
     "name": "stderr",
     "output_type": "stream",
     "text": [
      "100%|██████████| 20/20 [00:03<00:00,  5.03it/s]\n"
     ]
    },
    {
     "name": "stdout",
     "output_type": "stream",
     "text": [
      "Processed rows 100 to 120 and saved to c:\\Users\\Jensu\\OneDrive\\Documents\\GitHub\\CME358-Final_project\\0_raw_data\\house_data\\zolo_with_coords.csv.\n"
     ]
    },
    {
     "name": "stderr",
     "output_type": "stream",
     "text": [
      "100%|██████████| 20/20 [00:04<00:00,  4.08it/s]\n"
     ]
    },
    {
     "name": "stdout",
     "output_type": "stream",
     "text": [
      "Processed rows 120 to 140 and saved to c:\\Users\\Jensu\\OneDrive\\Documents\\GitHub\\CME358-Final_project\\0_raw_data\\house_data\\zolo_with_coords.csv.\n"
     ]
    },
    {
     "name": "stderr",
     "output_type": "stream",
     "text": [
      " 25%|██▌       | 5/20 [00:00<00:03,  4.86it/s]"
     ]
    },
    {
     "name": "stdout",
     "output_type": "stream",
     "text": [
      "Geocoding API error for address 'nan': ZERO_RESULTS\n"
     ]
    },
    {
     "name": "stderr",
     "output_type": "stream",
     "text": [
      " 45%|████▌     | 9/20 [00:01<00:01,  6.19it/s]"
     ]
    },
    {
     "name": "stdout",
     "output_type": "stream",
     "text": [
      "Geocoding API error for address '5 Independence Drive': ZERO_RESULTS\n"
     ]
    },
    {
     "name": "stderr",
     "output_type": "stream",
     "text": [
      "100%|██████████| 20/20 [00:03<00:00,  5.15it/s]\n"
     ]
    },
    {
     "name": "stdout",
     "output_type": "stream",
     "text": [
      "Processed rows 140 to 160 and saved to c:\\Users\\Jensu\\OneDrive\\Documents\\GitHub\\CME358-Final_project\\0_raw_data\\house_data\\zolo_with_coords.csv.\n"
     ]
    },
    {
     "name": "stderr",
     "output_type": "stream",
     "text": [
      " 10%|█         | 2/20 [00:00<00:01, 15.36it/s]"
     ]
    },
    {
     "name": "stdout",
     "output_type": "stream",
     "text": [
      "Geocoding API error for address '322 East Avenue': ZERO_RESULTS\n"
     ]
    },
    {
     "name": "stderr",
     "output_type": "stream",
     "text": [
      "100%|██████████| 20/20 [00:03<00:00,  6.13it/s]"
     ]
    },
    {
     "name": "stdout",
     "output_type": "stream",
     "text": [
      "Geocoding API error for address '97 Twelfth Street': ZERO_RESULTS\n"
     ]
    },
    {
     "name": "stderr",
     "output_type": "stream",
     "text": [
      "100%|██████████| 20/20 [00:03<00:00,  5.28it/s]\n"
     ]
    },
    {
     "name": "stdout",
     "output_type": "stream",
     "text": [
      "Processed rows 160 to 180 and saved to c:\\Users\\Jensu\\OneDrive\\Documents\\GitHub\\CME358-Final_project\\0_raw_data\\house_data\\zolo_with_coords.csv.\n"
     ]
    },
    {
     "name": "stderr",
     "output_type": "stream",
     "text": [
      "  0%|          | 0/20 [00:00<?, ?it/s]"
     ]
    },
    {
     "name": "stdout",
     "output_type": "stream",
     "text": [
      "Geocoding API error for address 'nan': ZERO_RESULTS\n"
     ]
    },
    {
     "name": "stderr",
     "output_type": "stream",
     "text": [
      "100%|██████████| 20/20 [00:03<00:00,  5.75it/s]\n"
     ]
    },
    {
     "name": "stdout",
     "output_type": "stream",
     "text": [
      "Processed rows 180 to 200 and saved to c:\\Users\\Jensu\\OneDrive\\Documents\\GitHub\\CME358-Final_project\\0_raw_data\\house_data\\zolo_with_coords.csv.\n"
     ]
    },
    {
     "name": "stderr",
     "output_type": "stream",
     "text": [
      " 50%|█████     | 10/20 [00:01<00:02,  4.78it/s]"
     ]
    },
    {
     "name": "stdout",
     "output_type": "stream",
     "text": [
      "Geocoding API error for address '24 Carousel Court': ZERO_RESULTS\n"
     ]
    },
    {
     "name": "stderr",
     "output_type": "stream",
     "text": [
      " 95%|█████████▌| 19/20 [00:03<00:00,  6.27it/s]"
     ]
    },
    {
     "name": "stdout",
     "output_type": "stream",
     "text": [
      "Geocoding API error for address 'nan': ZERO_RESULTS\n",
      "Geocoding API error for address '4 Pinehurst Crescent': ZERO_RESULTS\n"
     ]
    },
    {
     "name": "stderr",
     "output_type": "stream",
     "text": [
      "100%|██████████| 20/20 [00:03<00:00,  5.18it/s]\n"
     ]
    },
    {
     "name": "stdout",
     "output_type": "stream",
     "text": [
      "Processed rows 200 to 220 and saved to c:\\Users\\Jensu\\OneDrive\\Documents\\GitHub\\CME358-Final_project\\0_raw_data\\house_data\\zolo_with_coords.csv.\n"
     ]
    },
    {
     "name": "stderr",
     "output_type": "stream",
     "text": [
      "100%|██████████| 20/20 [00:04<00:00,  4.95it/s]\n"
     ]
    },
    {
     "name": "stdout",
     "output_type": "stream",
     "text": [
      "Processed rows 220 to 240 and saved to c:\\Users\\Jensu\\OneDrive\\Documents\\GitHub\\CME358-Final_project\\0_raw_data\\house_data\\zolo_with_coords.csv.\n"
     ]
    },
    {
     "name": "stderr",
     "output_type": "stream",
     "text": [
      " 30%|███       | 6/20 [00:00<00:01,  7.26it/s]"
     ]
    },
    {
     "name": "stdout",
     "output_type": "stream",
     "text": [
      "Geocoding API error for address '91 Fortieth Street': ZERO_RESULTS\n"
     ]
    },
    {
     "name": "stderr",
     "output_type": "stream",
     "text": [
      " 65%|██████▌   | 13/20 [00:02<00:01,  5.22it/s]"
     ]
    },
    {
     "name": "stdout",
     "output_type": "stream",
     "text": [
      "Geocoding API error for address 'nan': ZERO_RESULTS\n"
     ]
    },
    {
     "name": "stderr",
     "output_type": "stream",
     "text": [
      "100%|██████████| 20/20 [00:03<00:00,  5.66it/s]\n"
     ]
    },
    {
     "name": "stdout",
     "output_type": "stream",
     "text": [
      "Geocoding API error for address '16 Stanley Avenue': ZERO_RESULTS\n",
      "Processed rows 240 to 260 and saved to c:\\Users\\Jensu\\OneDrive\\Documents\\GitHub\\CME358-Final_project\\0_raw_data\\house_data\\zolo_with_coords.csv.\n"
     ]
    },
    {
     "name": "stderr",
     "output_type": "stream",
     "text": [
      " 25%|██▌       | 5/20 [00:00<00:02,  7.00it/s]"
     ]
    },
    {
     "name": "stdout",
     "output_type": "stream",
     "text": [
      "Geocoding API error for address '8 Lantern Court': ZERO_RESULTS\n"
     ]
    },
    {
     "name": "stderr",
     "output_type": "stream",
     "text": [
      "100%|██████████| 20/20 [00:03<00:00,  5.29it/s]\n"
     ]
    },
    {
     "name": "stdout",
     "output_type": "stream",
     "text": [
      "Processed rows 260 to 280 and saved to c:\\Users\\Jensu\\OneDrive\\Documents\\GitHub\\CME358-Final_project\\0_raw_data\\house_data\\zolo_with_coords.csv.\n"
     ]
    },
    {
     "name": "stderr",
     "output_type": "stream",
     "text": [
      " 55%|█████▌    | 11/20 [00:01<00:01,  6.21it/s]"
     ]
    },
    {
     "name": "stdout",
     "output_type": "stream",
     "text": [
      "Geocoding API error for address 'nan': ZERO_RESULTS\n"
     ]
    },
    {
     "name": "stderr",
     "output_type": "stream",
     "text": [
      "100%|██████████| 20/20 [00:03<00:00,  5.79it/s]\n"
     ]
    },
    {
     "name": "stdout",
     "output_type": "stream",
     "text": [
      "Processed rows 280 to 300 and saved to c:\\Users\\Jensu\\OneDrive\\Documents\\GitHub\\CME358-Final_project\\0_raw_data\\house_data\\zolo_with_coords.csv.\n"
     ]
    },
    {
     "name": "stderr",
     "output_type": "stream",
     "text": [
      "100%|██████████| 20/20 [00:03<00:00,  5.08it/s]\n"
     ]
    },
    {
     "name": "stdout",
     "output_type": "stream",
     "text": [
      "Processed rows 300 to 320 and saved to c:\\Users\\Jensu\\OneDrive\\Documents\\GitHub\\CME358-Final_project\\0_raw_data\\house_data\\zolo_with_coords.csv.\n"
     ]
    },
    {
     "name": "stderr",
     "output_type": "stream",
     "text": [
      " 25%|██▌       | 5/20 [00:00<00:02,  5.35it/s]"
     ]
    },
    {
     "name": "stdout",
     "output_type": "stream",
     "text": [
      "Geocoding API error for address 'nan': ZERO_RESULTS\n"
     ]
    },
    {
     "name": "stderr",
     "output_type": "stream",
     "text": [
      " 50%|█████     | 10/20 [00:01<00:01,  5.52it/s]"
     ]
    },
    {
     "name": "stdout",
     "output_type": "stream",
     "text": [
      "Geocoding API error for address '75 Chelliah Court S': ZERO_RESULTS\n"
     ]
    },
    {
     "name": "stderr",
     "output_type": "stream",
     "text": [
      "100%|██████████| 20/20 [00:04<00:00,  4.86it/s]\n"
     ]
    },
    {
     "name": "stdout",
     "output_type": "stream",
     "text": [
      "Processed rows 320 to 340 and saved to c:\\Users\\Jensu\\OneDrive\\Documents\\GitHub\\CME358-Final_project\\0_raw_data\\house_data\\zolo_with_coords.csv.\n"
     ]
    },
    {
     "name": "stderr",
     "output_type": "stream",
     "text": [
      " 25%|██▌       | 5/20 [00:00<00:02,  7.16it/s]"
     ]
    },
    {
     "name": "stdout",
     "output_type": "stream",
     "text": [
      "Geocoding API error for address '226 Oakridge Drive': ZERO_RESULTS\n"
     ]
    },
    {
     "name": "stderr",
     "output_type": "stream",
     "text": [
      "100%|██████████| 20/20 [00:03<00:00,  5.39it/s]\n"
     ]
    },
    {
     "name": "stdout",
     "output_type": "stream",
     "text": [
      "Processed rows 340 to 360 and saved to c:\\Users\\Jensu\\OneDrive\\Documents\\GitHub\\CME358-Final_project\\0_raw_data\\house_data\\zolo_with_coords.csv.\n"
     ]
    },
    {
     "name": "stderr",
     "output_type": "stream",
     "text": [
      "  0%|          | 0/20 [00:00<?, ?it/s]"
     ]
    },
    {
     "name": "stdout",
     "output_type": "stream",
     "text": [
      "Geocoding API error for address 'nan': ZERO_RESULTS\n"
     ]
    },
    {
     "name": "stderr",
     "output_type": "stream",
     "text": [
      " 65%|██████▌   | 13/20 [00:02<00:01,  6.31it/s]"
     ]
    },
    {
     "name": "stdout",
     "output_type": "stream",
     "text": [
      "Geocoding API error for address '1019 Greenwood Avenue': ZERO_RESULTS\n"
     ]
    },
    {
     "name": "stderr",
     "output_type": "stream",
     "text": [
      "100%|██████████| 20/20 [00:03<00:00,  5.59it/s]\n"
     ]
    },
    {
     "name": "stdout",
     "output_type": "stream",
     "text": [
      "Processed rows 360 to 380 and saved to c:\\Users\\Jensu\\OneDrive\\Documents\\GitHub\\CME358-Final_project\\0_raw_data\\house_data\\zolo_with_coords.csv.\n"
     ]
    },
    {
     "name": "stderr",
     "output_type": "stream",
     "text": [
      " 60%|██████    | 12/20 [00:01<00:01,  6.22it/s]"
     ]
    },
    {
     "name": "stdout",
     "output_type": "stream",
     "text": [
      "Geocoding API error for address '411 Main Street': ZERO_RESULTS\n"
     ]
    },
    {
     "name": "stderr",
     "output_type": "stream",
     "text": [
      " 95%|█████████▌| 19/20 [00:03<00:00,  6.31it/s]"
     ]
    },
    {
     "name": "stdout",
     "output_type": "stream",
     "text": [
      "Geocoding API error for address 'nan': ZERO_RESULTS\n"
     ]
    },
    {
     "name": "stderr",
     "output_type": "stream",
     "text": [
      "100%|██████████| 20/20 [00:03<00:00,  5.70it/s]\n"
     ]
    },
    {
     "name": "stdout",
     "output_type": "stream",
     "text": [
      "Processed rows 380 to 400 and saved to c:\\Users\\Jensu\\OneDrive\\Documents\\GitHub\\CME358-Final_project\\0_raw_data\\house_data\\zolo_with_coords.csv.\n"
     ]
    },
    {
     "name": "stderr",
     "output_type": "stream",
     "text": [
      "100%|██████████| 20/20 [00:03<00:00,  4.89it/s]"
     ]
    },
    {
     "name": "stdout",
     "output_type": "stream",
     "text": [
      "Geocoding API error for address '35 Daniellie Moore Circle': ZERO_RESULTS\n"
     ]
    },
    {
     "name": "stderr",
     "output_type": "stream",
     "text": [
      "100%|██████████| 20/20 [00:03<00:00,  5.49it/s]\n"
     ]
    },
    {
     "name": "stdout",
     "output_type": "stream",
     "text": [
      "Processed rows 400 to 420 and saved to c:\\Users\\Jensu\\OneDrive\\Documents\\GitHub\\CME358-Final_project\\0_raw_data\\house_data\\zolo_with_coords.csv.\n"
     ]
    },
    {
     "name": "stderr",
     "output_type": "stream",
     "text": [
      " 65%|██████▌   | 13/20 [00:02<00:01,  5.94it/s]"
     ]
    },
    {
     "name": "stdout",
     "output_type": "stream",
     "text": [
      "Geocoding API error for address 'nan': ZERO_RESULTS\n"
     ]
    },
    {
     "name": "stderr",
     "output_type": "stream",
     "text": [
      "100%|██████████| 20/20 [00:03<00:00,  5.93it/s]\n"
     ]
    },
    {
     "name": "stdout",
     "output_type": "stream",
     "text": [
      "Processed rows 420 to 440 and saved to c:\\Users\\Jensu\\OneDrive\\Documents\\GitHub\\CME358-Final_project\\0_raw_data\\house_data\\zolo_with_coords.csv.\n"
     ]
    },
    {
     "name": "stderr",
     "output_type": "stream",
     "text": [
      "100%|██████████| 20/20 [00:04<00:00,  4.76it/s]\n"
     ]
    },
    {
     "name": "stdout",
     "output_type": "stream",
     "text": [
      "Processed rows 440 to 460 and saved to c:\\Users\\Jensu\\OneDrive\\Documents\\GitHub\\CME358-Final_project\\0_raw_data\\house_data\\zolo_with_coords.csv.\n"
     ]
    },
    {
     "name": "stderr",
     "output_type": "stream",
     "text": [
      " 35%|███▌      | 7/20 [00:01<00:02,  6.08it/s]"
     ]
    },
    {
     "name": "stdout",
     "output_type": "stream",
     "text": [
      "Geocoding API error for address 'nan': ZERO_RESULTS\n"
     ]
    },
    {
     "name": "stderr",
     "output_type": "stream",
     "text": [
      " 70%|███████   | 14/20 [00:02<00:01,  5.82it/s]"
     ]
    },
    {
     "name": "stdout",
     "output_type": "stream",
     "text": [
      "Geocoding API error for address '97 Chelliah Court': ZERO_RESULTS\n"
     ]
    },
    {
     "name": "stderr",
     "output_type": "stream",
     "text": [
      "100%|██████████| 20/20 [00:03<00:00,  5.16it/s]\n"
     ]
    },
    {
     "name": "stdout",
     "output_type": "stream",
     "text": [
      "Processed rows 460 to 480 and saved to c:\\Users\\Jensu\\OneDrive\\Documents\\GitHub\\CME358-Final_project\\0_raw_data\\house_data\\zolo_with_coords.csv.\n"
     ]
    },
    {
     "name": "stderr",
     "output_type": "stream",
     "text": [
      "100%|██████████| 20/20 [00:03<00:00,  5.09it/s]\n"
     ]
    },
    {
     "name": "stdout",
     "output_type": "stream",
     "text": [
      "Processed rows 480 to 500 and saved to c:\\Users\\Jensu\\OneDrive\\Documents\\GitHub\\CME358-Final_project\\0_raw_data\\house_data\\zolo_with_coords.csv.\n"
     ]
    },
    {
     "name": "stderr",
     "output_type": "stream",
     "text": [
      " 25%|██▌       | 5/20 [00:00<00:01,  8.09it/s]"
     ]
    },
    {
     "name": "stdout",
     "output_type": "stream",
     "text": [
      "Geocoding API error for address 'nan': ZERO_RESULTS\n"
     ]
    },
    {
     "name": "stderr",
     "output_type": "stream",
     "text": [
      "100%|██████████| 20/20 [00:03<00:00,  5.07it/s]\n"
     ]
    },
    {
     "name": "stdout",
     "output_type": "stream",
     "text": [
      "Processed rows 500 to 520 and saved to c:\\Users\\Jensu\\OneDrive\\Documents\\GitHub\\CME358-Final_project\\0_raw_data\\house_data\\zolo_with_coords.csv.\n"
     ]
    },
    {
     "name": "stderr",
     "output_type": "stream",
     "text": [
      " 95%|█████████▌| 19/20 [00:03<00:00,  4.64it/s]"
     ]
    },
    {
     "name": "stdout",
     "output_type": "stream",
     "text": [
      "Geocoding API error for address 'nan': ZERO_RESULTS\n"
     ]
    },
    {
     "name": "stderr",
     "output_type": "stream",
     "text": [
      "100%|██████████| 20/20 [00:03<00:00,  5.15it/s]\n"
     ]
    },
    {
     "name": "stdout",
     "output_type": "stream",
     "text": [
      "Processed rows 520 to 540 and saved to c:\\Users\\Jensu\\OneDrive\\Documents\\GitHub\\CME358-Final_project\\0_raw_data\\house_data\\zolo_with_coords.csv.\n"
     ]
    },
    {
     "name": "stderr",
     "output_type": "stream",
     "text": [
      " 25%|██▌       | 5/20 [00:00<00:02,  6.81it/s]"
     ]
    },
    {
     "name": "stdout",
     "output_type": "stream",
     "text": [
      "Geocoding API error for address '28 Eleventh Street': ZERO_RESULTS\n"
     ]
    },
    {
     "name": "stderr",
     "output_type": "stream",
     "text": [
      "100%|██████████| 20/20 [00:03<00:00,  5.53it/s]\n"
     ]
    },
    {
     "name": "stdout",
     "output_type": "stream",
     "text": [
      "Processed rows 540 to 560 and saved to c:\\Users\\Jensu\\OneDrive\\Documents\\GitHub\\CME358-Final_project\\0_raw_data\\house_data\\zolo_with_coords.csv.\n"
     ]
    },
    {
     "name": "stderr",
     "output_type": "stream",
     "text": [
      " 85%|████████▌ | 17/20 [00:02<00:00,  5.77it/s]"
     ]
    },
    {
     "name": "stdout",
     "output_type": "stream",
     "text": [
      "Geocoding API error for address 'nan': ZERO_RESULTS\n"
     ]
    },
    {
     "name": "stderr",
     "output_type": "stream",
     "text": [
      "100%|██████████| 20/20 [00:03<00:00,  5.13it/s]\n"
     ]
    },
    {
     "name": "stdout",
     "output_type": "stream",
     "text": [
      "Processed rows 560 to 580 and saved to c:\\Users\\Jensu\\OneDrive\\Documents\\GitHub\\CME358-Final_project\\0_raw_data\\house_data\\zolo_with_coords.csv.\n"
     ]
    },
    {
     "name": "stderr",
     "output_type": "stream",
     "text": [
      "100%|██████████| 20/20 [00:03<00:00,  5.08it/s]\n"
     ]
    },
    {
     "name": "stdout",
     "output_type": "stream",
     "text": [
      "Processed rows 580 to 600 and saved to c:\\Users\\Jensu\\OneDrive\\Documents\\GitHub\\CME358-Final_project\\0_raw_data\\house_data\\zolo_with_coords.csv.\n"
     ]
    },
    {
     "name": "stderr",
     "output_type": "stream",
     "text": [
      " 50%|█████     | 10/20 [00:01<00:01,  5.55it/s]"
     ]
    },
    {
     "name": "stdout",
     "output_type": "stream",
     "text": [
      "Geocoding API error for address '55 Regency Square': ZERO_RESULTS\n"
     ]
    },
    {
     "name": "stderr",
     "output_type": "stream",
     "text": [
      " 65%|██████▌   | 13/20 [00:02<00:01,  6.30it/s]"
     ]
    },
    {
     "name": "stdout",
     "output_type": "stream",
     "text": [
      "Geocoding API error for address 'nan': ZERO_RESULTS\n"
     ]
    },
    {
     "name": "stderr",
     "output_type": "stream",
     "text": [
      " 85%|████████▌ | 17/20 [00:02<00:00,  6.19it/s]"
     ]
    },
    {
     "name": "stdout",
     "output_type": "stream",
     "text": [
      "Geocoding API error for address '106 Brooke Avenue': ZERO_RESULTS\n"
     ]
    },
    {
     "name": "stderr",
     "output_type": "stream",
     "text": [
      "100%|██████████| 20/20 [00:03<00:00,  5.25it/s]\n"
     ]
    },
    {
     "name": "stdout",
     "output_type": "stream",
     "text": [
      "Processed rows 600 to 620 and saved to c:\\Users\\Jensu\\OneDrive\\Documents\\GitHub\\CME358-Final_project\\0_raw_data\\house_data\\zolo_with_coords.csv.\n"
     ]
    },
    {
     "name": "stderr",
     "output_type": "stream",
     "text": [
      " 45%|████▌     | 9/20 [00:01<00:01,  5.99it/s]"
     ]
    },
    {
     "name": "stdout",
     "output_type": "stream",
     "text": [
      "Geocoding API error for address '896 Kennedy Road': ZERO_RESULTS\n"
     ]
    },
    {
     "name": "stderr",
     "output_type": "stream",
     "text": [
      "100%|██████████| 20/20 [00:03<00:00,  5.20it/s]\n"
     ]
    },
    {
     "name": "stdout",
     "output_type": "stream",
     "text": [
      "Processed rows 620 to 640 and saved to c:\\Users\\Jensu\\OneDrive\\Documents\\GitHub\\CME358-Final_project\\0_raw_data\\house_data\\zolo_with_coords.csv.\n"
     ]
    },
    {
     "name": "stderr",
     "output_type": "stream",
     "text": [
      " 20%|██        | 4/20 [00:00<00:02,  6.21it/s]"
     ]
    },
    {
     "name": "stdout",
     "output_type": "stream",
     "text": [
      "Geocoding API error for address '23 24th Street': ZERO_RESULTS\n"
     ]
    },
    {
     "name": "stderr",
     "output_type": "stream",
     "text": [
      " 40%|████      | 8/20 [00:01<00:02,  5.55it/s]"
     ]
    },
    {
     "name": "stdout",
     "output_type": "stream",
     "text": [
      "Geocoding API error for address 'nan': ZERO_RESULTS\n"
     ]
    },
    {
     "name": "stderr",
     "output_type": "stream",
     "text": [
      "100%|██████████| 20/20 [00:03<00:00,  5.06it/s]\n"
     ]
    },
    {
     "name": "stdout",
     "output_type": "stream",
     "text": [
      "Processed rows 640 to 660 and saved to c:\\Users\\Jensu\\OneDrive\\Documents\\GitHub\\CME358-Final_project\\0_raw_data\\house_data\\zolo_with_coords.csv.\n"
     ]
    },
    {
     "name": "stderr",
     "output_type": "stream",
     "text": [
      " 90%|█████████ | 18/20 [00:03<00:00,  5.64it/s]"
     ]
    },
    {
     "name": "stdout",
     "output_type": "stream",
     "text": [
      "Geocoding API error for address '270 Brighton Avenue': ZERO_RESULTS\n"
     ]
    },
    {
     "name": "stderr",
     "output_type": "stream",
     "text": [
      "100%|██████████| 20/20 [00:03<00:00,  5.45it/s]\n"
     ]
    },
    {
     "name": "stdout",
     "output_type": "stream",
     "text": [
      "Processed rows 660 to 680 and saved to c:\\Users\\Jensu\\OneDrive\\Documents\\GitHub\\CME358-Final_project\\0_raw_data\\house_data\\zolo_with_coords.csv.\n"
     ]
    },
    {
     "name": "stderr",
     "output_type": "stream",
     "text": [
      " 15%|█▌        | 3/20 [00:00<00:03,  4.97it/s]"
     ]
    },
    {
     "name": "stdout",
     "output_type": "stream",
     "text": [
      "Geocoding API error for address 'nan': ZERO_RESULTS\n"
     ]
    },
    {
     "name": "stderr",
     "output_type": "stream",
     "text": [
      "100%|██████████| 20/20 [00:04<00:00,  4.61it/s]\n"
     ]
    },
    {
     "name": "stdout",
     "output_type": "stream",
     "text": [
      "Processed rows 680 to 700 and saved to c:\\Users\\Jensu\\OneDrive\\Documents\\GitHub\\CME358-Final_project\\0_raw_data\\house_data\\zolo_with_coords.csv.\n"
     ]
    },
    {
     "name": "stderr",
     "output_type": "stream",
     "text": [
      " 65%|██████▌   | 13/20 [00:02<00:01,  6.13it/s]"
     ]
    },
    {
     "name": "stdout",
     "output_type": "stream",
     "text": [
      "Geocoding API error for address '333 Brighton Avenue': ZERO_RESULTS\n"
     ]
    },
    {
     "name": "stderr",
     "output_type": "stream",
     "text": [
      "100%|██████████| 20/20 [00:03<00:00,  6.31it/s]"
     ]
    },
    {
     "name": "stdout",
     "output_type": "stream",
     "text": [
      "Geocoding API error for address 'nan': ZERO_RESULTS\n",
      "Geocoding API error for address '4 Allen Avenue': ZERO_RESULTS\n"
     ]
    },
    {
     "name": "stderr",
     "output_type": "stream",
     "text": [
      "100%|██████████| 20/20 [00:03<00:00,  5.60it/s]\n"
     ]
    },
    {
     "name": "stdout",
     "output_type": "stream",
     "text": [
      "Processed rows 700 to 720 and saved to c:\\Users\\Jensu\\OneDrive\\Documents\\GitHub\\CME358-Final_project\\0_raw_data\\house_data\\zolo_with_coords.csv.\n"
     ]
    },
    {
     "name": "stderr",
     "output_type": "stream",
     "text": [
      "100%|██████████| 20/20 [00:04<00:00,  4.56it/s]\n"
     ]
    },
    {
     "name": "stdout",
     "output_type": "stream",
     "text": [
      "Processed rows 720 to 740 and saved to c:\\Users\\Jensu\\OneDrive\\Documents\\GitHub\\CME358-Final_project\\0_raw_data\\house_data\\zolo_with_coords.csv.\n"
     ]
    },
    {
     "name": "stderr",
     "output_type": "stream",
     "text": [
      " 55%|█████▌    | 11/20 [00:01<00:01,  5.68it/s]"
     ]
    },
    {
     "name": "stdout",
     "output_type": "stream",
     "text": [
      "Geocoding API error for address '215 Mill Road': ZERO_RESULTS\n"
     ]
    },
    {
     "name": "stderr",
     "output_type": "stream",
     "text": [
      " 70%|███████   | 14/20 [00:02<00:00,  6.33it/s]"
     ]
    },
    {
     "name": "stdout",
     "output_type": "stream",
     "text": [
      "Geocoding API error for address 'nan': ZERO_RESULTS\n"
     ]
    },
    {
     "name": "stderr",
     "output_type": "stream",
     "text": [
      " 95%|█████████▌| 19/20 [00:03<00:00,  6.22it/s]"
     ]
    },
    {
     "name": "stdout",
     "output_type": "stream",
     "text": [
      "Geocoding API error for address '42 Thirty Eighth Street': ZERO_RESULTS\n"
     ]
    },
    {
     "name": "stderr",
     "output_type": "stream",
     "text": [
      "100%|██████████| 20/20 [00:03<00:00,  5.59it/s]\n"
     ]
    },
    {
     "name": "stdout",
     "output_type": "stream",
     "text": [
      "Processed rows 740 to 760 and saved to c:\\Users\\Jensu\\OneDrive\\Documents\\GitHub\\CME358-Final_project\\0_raw_data\\house_data\\zolo_with_coords.csv.\n"
     ]
    },
    {
     "name": "stderr",
     "output_type": "stream",
     "text": [
      " 60%|██████    | 12/20 [00:01<00:01,  6.11it/s]"
     ]
    },
    {
     "name": "stdout",
     "output_type": "stream",
     "text": [
      "Geocoding API error for address '46B Leroy Avenue': ZERO_RESULTS\n"
     ]
    },
    {
     "name": "stderr",
     "output_type": "stream",
     "text": [
      "100%|██████████| 20/20 [00:03<00:00,  5.60it/s]\n"
     ]
    },
    {
     "name": "stdout",
     "output_type": "stream",
     "text": [
      "Processed rows 760 to 780 and saved to c:\\Users\\Jensu\\OneDrive\\Documents\\GitHub\\CME358-Final_project\\0_raw_data\\house_data\\zolo_with_coords.csv.\n"
     ]
    },
    {
     "name": "stderr",
     "output_type": "stream",
     "text": [
      " 60%|██████    | 12/20 [00:01<00:01,  6.44it/s]"
     ]
    },
    {
     "name": "stdout",
     "output_type": "stream",
     "text": [
      "Geocoding API error for address 'nan': ZERO_RESULTS\n"
     ]
    },
    {
     "name": "stderr",
     "output_type": "stream",
     "text": [
      "100%|██████████| 20/20 [00:03<00:00,  5.43it/s]\n"
     ]
    },
    {
     "name": "stdout",
     "output_type": "stream",
     "text": [
      "Processed rows 780 to 800 and saved to c:\\Users\\Jensu\\OneDrive\\Documents\\GitHub\\CME358-Final_project\\0_raw_data\\house_data\\zolo_with_coords.csv.\n"
     ]
    },
    {
     "name": "stderr",
     "output_type": "stream",
     "text": [
      "100%|██████████| 20/20 [00:03<00:00,  5.24it/s]\n"
     ]
    },
    {
     "name": "stdout",
     "output_type": "stream",
     "text": [
      "Processed rows 800 to 820 and saved to c:\\Users\\Jensu\\OneDrive\\Documents\\GitHub\\CME358-Final_project\\0_raw_data\\house_data\\zolo_with_coords.csv.\n"
     ]
    },
    {
     "name": "stderr",
     "output_type": "stream",
     "text": [
      " 10%|█         | 2/20 [00:00<00:01, 12.47it/s]"
     ]
    },
    {
     "name": "stdout",
     "output_type": "stream",
     "text": [
      "Geocoding API error for address '20 Twelfth Street': ZERO_RESULTS\n"
     ]
    },
    {
     "name": "stderr",
     "output_type": "stream",
     "text": [
      " 30%|███       | 6/20 [00:00<00:02,  6.32it/s]"
     ]
    },
    {
     "name": "stdout",
     "output_type": "stream",
     "text": [
      "Geocoding API error for address '65 Tideswell Boulevard': ZERO_RESULTS\n",
      "Geocoding API error for address 'nan': ZERO_RESULTS\n"
     ]
    },
    {
     "name": "stderr",
     "output_type": "stream",
     "text": [
      "100%|██████████| 20/20 [00:03<00:00,  5.44it/s]\n"
     ]
    },
    {
     "name": "stdout",
     "output_type": "stream",
     "text": [
      "Processed rows 820 to 840 and saved to c:\\Users\\Jensu\\OneDrive\\Documents\\GitHub\\CME358-Final_project\\0_raw_data\\house_data\\zolo_with_coords.csv.\n"
     ]
    },
    {
     "name": "stderr",
     "output_type": "stream",
     "text": [
      " 25%|██▌       | 5/20 [00:00<00:02,  6.26it/s]"
     ]
    },
    {
     "name": "stdout",
     "output_type": "stream",
     "text": [
      "Geocoding API error for address '62 Elm Avenue': ZERO_RESULTS\n"
     ]
    },
    {
     "name": "stderr",
     "output_type": "stream",
     "text": [
      " 65%|██████▌   | 13/20 [00:02<00:01,  6.18it/s]"
     ]
    },
    {
     "name": "stdout",
     "output_type": "stream",
     "text": [
      "Geocoding API error for address '40 Sixth Street': ZERO_RESULTS\n"
     ]
    },
    {
     "name": "stderr",
     "output_type": "stream",
     "text": [
      " 75%|███████▌  | 15/20 [00:02<00:00,  6.01it/s]"
     ]
    },
    {
     "name": "stdout",
     "output_type": "stream",
     "text": [
      "Geocoding API error for address '4 Adams Drive': ZERO_RESULTS\n"
     ]
    },
    {
     "name": "stderr",
     "output_type": "stream",
     "text": [
      "100%|██████████| 20/20 [00:04<00:00,  4.95it/s]\n"
     ]
    },
    {
     "name": "stdout",
     "output_type": "stream",
     "text": [
      "Processed rows 840 to 860 and saved to c:\\Users\\Jensu\\OneDrive\\Documents\\GitHub\\CME358-Final_project\\0_raw_data\\house_data\\zolo_with_coords.csv.\n"
     ]
    },
    {
     "name": "stderr",
     "output_type": "stream",
     "text": [
      " 20%|██        | 4/20 [00:00<00:01,  9.36it/s]"
     ]
    },
    {
     "name": "stdout",
     "output_type": "stream",
     "text": [
      "Geocoding API error for address 'nan': ZERO_RESULTS\n",
      "Geocoding API error for address '19 Nevada Avenue': ZERO_RESULTS\n"
     ]
    },
    {
     "name": "stderr",
     "output_type": "stream",
     "text": [
      " 95%|█████████▌| 19/20 [00:02<00:00,  6.74it/s]"
     ]
    },
    {
     "name": "stdout",
     "output_type": "stream",
     "text": [
      "Geocoding API error for address '71 Sixteenth Street': ZERO_RESULTS\n"
     ]
    },
    {
     "name": "stderr",
     "output_type": "stream",
     "text": [
      "100%|██████████| 20/20 [00:03<00:00,  6.12it/s]\n"
     ]
    },
    {
     "name": "stdout",
     "output_type": "stream",
     "text": [
      "Processed rows 860 to 880 and saved to c:\\Users\\Jensu\\OneDrive\\Documents\\GitHub\\CME358-Final_project\\0_raw_data\\house_data\\zolo_with_coords.csv.\n"
     ]
    },
    {
     "name": "stderr",
     "output_type": "stream",
     "text": [
      " 85%|████████▌ | 17/20 [00:03<00:00,  4.59it/s]"
     ]
    },
    {
     "name": "stdout",
     "output_type": "stream",
     "text": [
      "Geocoding API error for address '307 Delta Street': ZERO_RESULTS\n"
     ]
    },
    {
     "name": "stderr",
     "output_type": "stream",
     "text": [
      "100%|██████████| 20/20 [00:03<00:00,  5.69it/s]"
     ]
    },
    {
     "name": "stdout",
     "output_type": "stream",
     "text": [
      "Geocoding API error for address 'nan': ZERO_RESULTS\n"
     ]
    },
    {
     "name": "stderr",
     "output_type": "stream",
     "text": [
      "100%|██████████| 20/20 [00:04<00:00,  4.67it/s]\n"
     ]
    },
    {
     "name": "stdout",
     "output_type": "stream",
     "text": [
      "Processed rows 880 to 900 and saved to c:\\Users\\Jensu\\OneDrive\\Documents\\GitHub\\CME358-Final_project\\0_raw_data\\house_data\\zolo_with_coords.csv.\n"
     ]
    },
    {
     "name": "stderr",
     "output_type": "stream",
     "text": [
      "100%|██████████| 20/20 [00:03<00:00,  5.15it/s]\n"
     ]
    },
    {
     "name": "stdout",
     "output_type": "stream",
     "text": [
      "Processed rows 900 to 920 and saved to c:\\Users\\Jensu\\OneDrive\\Documents\\GitHub\\CME358-Final_project\\0_raw_data\\house_data\\zolo_with_coords.csv.\n"
     ]
    },
    {
     "name": "stderr",
     "output_type": "stream",
     "text": [
      " 20%|██        | 4/20 [00:00<00:01,  8.03it/s]"
     ]
    },
    {
     "name": "stdout",
     "output_type": "stream",
     "text": [
      "Geocoding API error for address '159 Church Street': ZERO_RESULTS\n"
     ]
    },
    {
     "name": "stderr",
     "output_type": "stream",
     "text": [
      " 70%|███████   | 14/20 [00:02<00:01,  5.77it/s]"
     ]
    },
    {
     "name": "stdout",
     "output_type": "stream",
     "text": [
      "Geocoding API error for address 'nan': ZERO_RESULTS\n"
     ]
    },
    {
     "name": "stderr",
     "output_type": "stream",
     "text": [
      "100%|██████████| 20/20 [00:03<00:00,  5.55it/s]\n"
     ]
    },
    {
     "name": "stdout",
     "output_type": "stream",
     "text": [
      "Processed rows 920 to 940 and saved to c:\\Users\\Jensu\\OneDrive\\Documents\\GitHub\\CME358-Final_project\\0_raw_data\\house_data\\zolo_with_coords.csv.\n"
     ]
    },
    {
     "name": "stderr",
     "output_type": "stream",
     "text": [
      "100%|██████████| 20/20 [00:04<00:00,  4.81it/s]\n"
     ]
    },
    {
     "name": "stdout",
     "output_type": "stream",
     "text": [
      "Processed rows 940 to 960 and saved to c:\\Users\\Jensu\\OneDrive\\Documents\\GitHub\\CME358-Final_project\\0_raw_data\\house_data\\zolo_with_coords.csv.\n"
     ]
    },
    {
     "name": "stderr",
     "output_type": "stream",
     "text": [
      " 50%|█████     | 10/20 [00:01<00:02,  4.45it/s]"
     ]
    },
    {
     "name": "stdout",
     "output_type": "stream",
     "text": [
      "Geocoding API error for address 'nan': ZERO_RESULTS\n"
     ]
    },
    {
     "name": "stderr",
     "output_type": "stream",
     "text": [
      " 85%|████████▌ | 17/20 [00:03<00:00,  5.45it/s]"
     ]
    },
    {
     "name": "stdout",
     "output_type": "stream",
     "text": [
      "Geocoding API error for address '225 Northwood Drive': ZERO_RESULTS\n"
     ]
    },
    {
     "name": "stderr",
     "output_type": "stream",
     "text": [
      "100%|██████████| 20/20 [00:03<00:00,  5.01it/s]\n"
     ]
    },
    {
     "name": "stdout",
     "output_type": "stream",
     "text": [
      "Processed rows 960 to 980 and saved to c:\\Users\\Jensu\\OneDrive\\Documents\\GitHub\\CME358-Final_project\\0_raw_data\\house_data\\zolo_with_coords.csv.\n"
     ]
    },
    {
     "name": "stderr",
     "output_type": "stream",
     "text": [
      "100%|██████████| 20/20 [00:04<00:00,  4.61it/s]\n"
     ]
    },
    {
     "name": "stdout",
     "output_type": "stream",
     "text": [
      "Processed rows 980 to 1000 and saved to c:\\Users\\Jensu\\OneDrive\\Documents\\GitHub\\CME358-Final_project\\0_raw_data\\house_data\\zolo_with_coords.csv.\n"
     ]
    },
    {
     "name": "stderr",
     "output_type": "stream",
     "text": [
      " 40%|████      | 8/20 [00:01<00:01,  6.40it/s]"
     ]
    },
    {
     "name": "stdout",
     "output_type": "stream",
     "text": [
      "Geocoding API error for address 'nan': ZERO_RESULTS\n"
     ]
    },
    {
     "name": "stderr",
     "output_type": "stream",
     "text": [
      "100%|██████████| 20/20 [00:03<00:00,  5.30it/s]\n"
     ]
    },
    {
     "name": "stdout",
     "output_type": "stream",
     "text": [
      "Geocoding API error for address '5 Norris Place': ZERO_RESULTS\n",
      "Processed rows 1000 to 1020 and saved to c:\\Users\\Jensu\\OneDrive\\Documents\\GitHub\\CME358-Final_project\\0_raw_data\\house_data\\zolo_with_coords.csv.\n"
     ]
    },
    {
     "name": "stderr",
     "output_type": "stream",
     "text": [
      " 55%|█████▌    | 11/20 [00:01<00:01,  6.35it/s]"
     ]
    },
    {
     "name": "stdout",
     "output_type": "stream",
     "text": [
      "Geocoding API error for address '14 Cloud Drive': ZERO_RESULTS\n"
     ]
    },
    {
     "name": "stderr",
     "output_type": "stream",
     "text": [
      "100%|██████████| 20/20 [00:03<00:00,  5.09it/s]\n"
     ]
    },
    {
     "name": "stdout",
     "output_type": "stream",
     "text": [
      "Processed rows 1020 to 1040 and saved to c:\\Users\\Jensu\\OneDrive\\Documents\\GitHub\\CME358-Final_project\\0_raw_data\\house_data\\zolo_with_coords.csv.\n"
     ]
    },
    {
     "name": "stderr",
     "output_type": "stream",
     "text": [
      " 10%|█         | 2/20 [00:00<00:02,  6.54it/s]"
     ]
    },
    {
     "name": "stdout",
     "output_type": "stream",
     "text": [
      "Geocoding API error for address 'nan': ZERO_RESULTS\n"
     ]
    },
    {
     "name": "stderr",
     "output_type": "stream",
     "text": [
      " 50%|█████     | 10/20 [00:01<00:01,  5.93it/s]"
     ]
    },
    {
     "name": "stdout",
     "output_type": "stream",
     "text": [
      "Geocoding API error for address '112 Fifth Street': ZERO_RESULTS\n"
     ]
    },
    {
     "name": "stderr",
     "output_type": "stream",
     "text": [
      " 85%|████████▌ | 17/20 [00:02<00:00,  6.57it/s]"
     ]
    },
    {
     "name": "stdout",
     "output_type": "stream",
     "text": [
      "Geocoding API error for address '3 Masters Road': ZERO_RESULTS\n"
     ]
    },
    {
     "name": "stderr",
     "output_type": "stream",
     "text": [
      "100%|██████████| 20/20 [00:03<00:00,  5.76it/s]\n"
     ]
    },
    {
     "name": "stdout",
     "output_type": "stream",
     "text": [
      "Processed rows 1040 to 1060 and saved to c:\\Users\\Jensu\\OneDrive\\Documents\\GitHub\\CME358-Final_project\\0_raw_data\\house_data\\zolo_with_coords.csv.\n"
     ]
    },
    {
     "name": "stderr",
     "output_type": "stream",
     "text": [
      "100%|██████████| 20/20 [00:03<00:00,  6.39it/s]"
     ]
    },
    {
     "name": "stdout",
     "output_type": "stream",
     "text": [
      "Geocoding API error for address 'nan': ZERO_RESULTS\n"
     ]
    },
    {
     "name": "stderr",
     "output_type": "stream",
     "text": [
      "100%|██████████| 20/20 [00:03<00:00,  5.03it/s]\n"
     ]
    },
    {
     "name": "stdout",
     "output_type": "stream",
     "text": [
      "Processed rows 1060 to 1080 and saved to c:\\Users\\Jensu\\OneDrive\\Documents\\GitHub\\CME358-Final_project\\0_raw_data\\house_data\\zolo_with_coords.csv.\n"
     ]
    },
    {
     "name": "stderr",
     "output_type": "stream",
     "text": [
      "100%|██████████| 20/20 [00:04<00:00,  4.66it/s]\n"
     ]
    },
    {
     "name": "stdout",
     "output_type": "stream",
     "text": [
      "Processed rows 1080 to 1100 and saved to c:\\Users\\Jensu\\OneDrive\\Documents\\GitHub\\CME358-Final_project\\0_raw_data\\house_data\\zolo_with_coords.csv.\n"
     ]
    },
    {
     "name": "stderr",
     "output_type": "stream",
     "text": [
      " 30%|███       | 6/20 [00:00<00:02,  6.27it/s]"
     ]
    },
    {
     "name": "stdout",
     "output_type": "stream",
     "text": [
      "Geocoding API error for address '44 Twentieth Street': ZERO_RESULTS\n"
     ]
    },
    {
     "name": "stderr",
     "output_type": "stream",
     "text": [
      " 45%|████▌     | 9/20 [00:01<00:01,  5.86it/s]"
     ]
    },
    {
     "name": "stdout",
     "output_type": "stream",
     "text": [
      "Geocoding API error for address '34 Northview Avenue': ZERO_RESULTS\n"
     ]
    },
    {
     "name": "stderr",
     "output_type": "stream",
     "text": [
      " 70%|███████   | 14/20 [00:02<00:00,  6.09it/s]"
     ]
    },
    {
     "name": "stdout",
     "output_type": "stream",
     "text": [
      "Geocoding API error for address 'nan': ZERO_RESULTS\n"
     ]
    },
    {
     "name": "stderr",
     "output_type": "stream",
     "text": [
      "100%|██████████| 20/20 [00:03<00:00,  5.44it/s]\n"
     ]
    },
    {
     "name": "stdout",
     "output_type": "stream",
     "text": [
      "Processed rows 1100 to 1120 and saved to c:\\Users\\Jensu\\OneDrive\\Documents\\GitHub\\CME358-Final_project\\0_raw_data\\house_data\\zolo_with_coords.csv.\n"
     ]
    },
    {
     "name": "stderr",
     "output_type": "stream",
     "text": [
      " 60%|██████    | 12/20 [00:01<00:01,  6.53it/s]"
     ]
    },
    {
     "name": "stdout",
     "output_type": "stream",
     "text": [
      "Geocoding API error for address '105 Ashbourne Drive': ZERO_RESULTS\n"
     ]
    },
    {
     "name": "stderr",
     "output_type": "stream",
     "text": [
      " 80%|████████  | 16/20 [00:02<00:00,  5.39it/s]"
     ]
    },
    {
     "name": "stdout",
     "output_type": "stream",
     "text": [
      "Geocoding API error for address '38 South Kingslea Drive': ZERO_RESULTS\n"
     ]
    },
    {
     "name": "stderr",
     "output_type": "stream",
     "text": [
      "100%|██████████| 20/20 [00:03<00:00,  5.28it/s]\n"
     ]
    },
    {
     "name": "stdout",
     "output_type": "stream",
     "text": [
      "Processed rows 1120 to 1140 and saved to c:\\Users\\Jensu\\OneDrive\\Documents\\GitHub\\CME358-Final_project\\0_raw_data\\house_data\\zolo_with_coords.csv.\n"
     ]
    },
    {
     "name": "stderr",
     "output_type": "stream",
     "text": [
      " 60%|██████    | 12/20 [00:02<00:01,  6.46it/s]"
     ]
    },
    {
     "name": "stdout",
     "output_type": "stream",
     "text": [
      "Geocoding API error for address 'nan': ZERO_RESULTS\n"
     ]
    },
    {
     "name": "stderr",
     "output_type": "stream",
     "text": [
      " 70%|███████   | 14/20 [00:02<00:00,  6.06it/s]"
     ]
    },
    {
     "name": "stdout",
     "output_type": "stream",
     "text": [
      "Geocoding API error for address '9 Thirty Sixth Street': ZERO_RESULTS\n"
     ]
    },
    {
     "name": "stderr",
     "output_type": "stream",
     "text": [
      "100%|██████████| 20/20 [00:03<00:00,  5.01it/s]\n"
     ]
    },
    {
     "name": "stdout",
     "output_type": "stream",
     "text": [
      "Processed rows 1140 to 1160 and saved to c:\\Users\\Jensu\\OneDrive\\Documents\\GitHub\\CME358-Final_project\\0_raw_data\\house_data\\zolo_with_coords.csv.\n"
     ]
    },
    {
     "name": "stderr",
     "output_type": "stream",
     "text": [
      "100%|██████████| 20/20 [00:03<00:00,  5.32it/s]\n"
     ]
    },
    {
     "name": "stdout",
     "output_type": "stream",
     "text": [
      "Processed rows 1160 to 1180 and saved to c:\\Users\\Jensu\\OneDrive\\Documents\\GitHub\\CME358-Final_project\\0_raw_data\\house_data\\zolo_with_coords.csv.\n"
     ]
    },
    {
     "name": "stderr",
     "output_type": "stream",
     "text": [
      " 30%|███       | 6/20 [00:01<00:02,  5.09it/s]"
     ]
    },
    {
     "name": "stdout",
     "output_type": "stream",
     "text": [
      "Geocoding API error for address 'nan': ZERO_RESULTS\n"
     ]
    },
    {
     "name": "stderr",
     "output_type": "stream",
     "text": [
      "100%|██████████| 20/20 [00:03<00:00,  5.28it/s]\n"
     ]
    },
    {
     "name": "stdout",
     "output_type": "stream",
     "text": [
      "Processed rows 1180 to 1200 and saved to c:\\Users\\Jensu\\OneDrive\\Documents\\GitHub\\CME358-Final_project\\0_raw_data\\house_data\\zolo_with_coords.csv.\n"
     ]
    },
    {
     "name": "stderr",
     "output_type": "stream",
     "text": [
      " 75%|███████▌  | 15/20 [00:02<00:00,  5.54it/s]"
     ]
    },
    {
     "name": "stdout",
     "output_type": "stream",
     "text": [
      "Geocoding API error for address '478 Melrose Avenue': ZERO_RESULTS\n"
     ]
    },
    {
     "name": "stderr",
     "output_type": "stream",
     "text": [
      " 85%|████████▌ | 17/20 [00:03<00:00,  6.23it/s]"
     ]
    },
    {
     "name": "stdout",
     "output_type": "stream",
     "text": [
      "Geocoding API error for address '47 Eighth Street': ZERO_RESULTS\n"
     ]
    },
    {
     "name": "stderr",
     "output_type": "stream",
     "text": [
      "100%|██████████| 20/20 [00:03<00:00,  5.20it/s]\n"
     ]
    },
    {
     "name": "stdout",
     "output_type": "stream",
     "text": [
      "Processed rows 1200 to 1220 and saved to c:\\Users\\Jensu\\OneDrive\\Documents\\GitHub\\CME358-Final_project\\0_raw_data\\house_data\\zolo_with_coords.csv.\n"
     ]
    },
    {
     "name": "stderr",
     "output_type": "stream",
     "text": [
      " 10%|█         | 2/20 [00:00<00:02,  8.97it/s]"
     ]
    },
    {
     "name": "stdout",
     "output_type": "stream",
     "text": [
      "Geocoding API error for address 'nan': ZERO_RESULTS\n"
     ]
    },
    {
     "name": "stderr",
     "output_type": "stream",
     "text": [
      " 30%|███       | 6/20 [00:00<00:02,  6.77it/s]"
     ]
    },
    {
     "name": "stdout",
     "output_type": "stream",
     "text": [
      "Geocoding API error for address '111 Jones Avenue': ZERO_RESULTS\n"
     ]
    },
    {
     "name": "stderr",
     "output_type": "stream",
     "text": [
      " 55%|█████▌    | 11/20 [00:01<00:01,  6.66it/s]"
     ]
    },
    {
     "name": "stdout",
     "output_type": "stream",
     "text": [
      "Geocoding API error for address '2B Lauderdale Drive': ZERO_RESULTS\n"
     ]
    },
    {
     "name": "stderr",
     "output_type": "stream",
     "text": [
      "100%|██████████| 20/20 [00:03<00:00,  5.61it/s]\n"
     ]
    },
    {
     "name": "stdout",
     "output_type": "stream",
     "text": [
      "Processed rows 1220 to 1240 and saved to c:\\Users\\Jensu\\OneDrive\\Documents\\GitHub\\CME358-Final_project\\0_raw_data\\house_data\\zolo_with_coords.csv.\n"
     ]
    },
    {
     "name": "stderr",
     "output_type": "stream",
     "text": [
      " 75%|███████▌  | 15/20 [00:03<00:01,  4.95it/s]"
     ]
    },
    {
     "name": "stdout",
     "output_type": "stream",
     "text": [
      "Geocoding API error for address '15 Nevada Avenue': ZERO_RESULTS\n"
     ]
    },
    {
     "name": "stderr",
     "output_type": "stream",
     "text": [
      "100%|██████████| 20/20 [00:03<00:00,  6.51it/s]"
     ]
    },
    {
     "name": "stdout",
     "output_type": "stream",
     "text": [
      "Geocoding API error for address 'nan': ZERO_RESULTS\n"
     ]
    },
    {
     "name": "stderr",
     "output_type": "stream",
     "text": [
      "100%|██████████| 20/20 [00:04<00:00,  4.86it/s]\n"
     ]
    },
    {
     "name": "stdout",
     "output_type": "stream",
     "text": [
      "Processed rows 1240 to 1260 and saved to c:\\Users\\Jensu\\OneDrive\\Documents\\GitHub\\CME358-Final_project\\0_raw_data\\house_data\\zolo_with_coords.csv.\n"
     ]
    },
    {
     "name": "stderr",
     "output_type": "stream",
     "text": [
      "100%|██████████| 20/20 [00:03<00:00,  5.31it/s]\n"
     ]
    },
    {
     "name": "stdout",
     "output_type": "stream",
     "text": [
      "Geocoding API error for address '14 Cosmic Drive': ZERO_RESULTS\n",
      "Processed rows 1260 to 1280 and saved to c:\\Users\\Jensu\\OneDrive\\Documents\\GitHub\\CME358-Final_project\\0_raw_data\\house_data\\zolo_with_coords.csv.\n"
     ]
    },
    {
     "name": "stderr",
     "output_type": "stream",
     "text": [
      " 60%|██████    | 12/20 [00:02<00:01,  5.54it/s]"
     ]
    },
    {
     "name": "stdout",
     "output_type": "stream",
     "text": [
      "Geocoding API error for address '22 Denver Place': ZERO_RESULTS\n"
     ]
    },
    {
     "name": "stderr",
     "output_type": "stream",
     "text": [
      " 80%|████████  | 16/20 [00:02<00:00,  7.13it/s]"
     ]
    },
    {
     "name": "stdout",
     "output_type": "stream",
     "text": [
      "Geocoding API error for address 'nan': ZERO_RESULTS\n",
      "Geocoding API error for address '50 William Street': ZERO_RESULTS\n"
     ]
    },
    {
     "name": "stderr",
     "output_type": "stream",
     "text": [
      "100%|██████████| 20/20 [00:03<00:00,  5.57it/s]\n"
     ]
    },
    {
     "name": "stdout",
     "output_type": "stream",
     "text": [
      "Processed rows 1280 to 1300 and saved to c:\\Users\\Jensu\\OneDrive\\Documents\\GitHub\\CME358-Final_project\\0_raw_data\\house_data\\zolo_with_coords.csv.\n"
     ]
    },
    {
     "name": "stderr",
     "output_type": "stream",
     "text": [
      " 85%|████████▌ | 17/20 [00:03<00:00,  5.73it/s]"
     ]
    },
    {
     "name": "stdout",
     "output_type": "stream",
     "text": [
      "Geocoding API error for address '660R College Street': ZERO_RESULTS\n"
     ]
    },
    {
     "name": "stderr",
     "output_type": "stream",
     "text": [
      "100%|██████████| 20/20 [00:03<00:00,  5.22it/s]\n"
     ]
    },
    {
     "name": "stdout",
     "output_type": "stream",
     "text": [
      "Processed rows 1300 to 1320 and saved to c:\\Users\\Jensu\\OneDrive\\Documents\\GitHub\\CME358-Final_project\\0_raw_data\\house_data\\zolo_with_coords.csv.\n"
     ]
    },
    {
     "name": "stderr",
     "output_type": "stream",
     "text": [
      " 10%|█         | 2/20 [00:00<00:01, 14.76it/s]"
     ]
    },
    {
     "name": "stdout",
     "output_type": "stream",
     "text": [
      "Geocoding API error for address '21 Elm Avenue': ZERO_RESULTS\n"
     ]
    },
    {
     "name": "stderr",
     "output_type": "stream",
     "text": [
      " 60%|██████    | 12/20 [00:02<00:01,  5.36it/s]"
     ]
    },
    {
     "name": "stdout",
     "output_type": "stream",
     "text": [
      "Geocoding API error for address 'nan': ZERO_RESULTS\n"
     ]
    },
    {
     "name": "stderr",
     "output_type": "stream",
     "text": [
      "100%|██████████| 20/20 [00:03<00:00,  5.58it/s]"
     ]
    },
    {
     "name": "stdout",
     "output_type": "stream",
     "text": [
      "Geocoding API error for address '71-73 Grace Street': ZERO_RESULTS\n"
     ]
    },
    {
     "name": "stderr",
     "output_type": "stream",
     "text": [
      "100%|██████████| 20/20 [00:03<00:00,  5.22it/s]\n"
     ]
    },
    {
     "name": "stdout",
     "output_type": "stream",
     "text": [
      "Processed rows 1320 to 1340 and saved to c:\\Users\\Jensu\\OneDrive\\Documents\\GitHub\\CME358-Final_project\\0_raw_data\\house_data\\zolo_with_coords.csv.\n"
     ]
    },
    {
     "name": "stderr",
     "output_type": "stream",
     "text": [
      "100%|██████████| 20/20 [00:03<00:00,  5.15it/s]\n"
     ]
    },
    {
     "name": "stdout",
     "output_type": "stream",
     "text": [
      "Processed rows 1340 to 1360 and saved to c:\\Users\\Jensu\\OneDrive\\Documents\\GitHub\\CME358-Final_project\\0_raw_data\\house_data\\zolo_with_coords.csv.\n"
     ]
    },
    {
     "name": "stderr",
     "output_type": "stream",
     "text": [
      " 35%|███▌      | 7/20 [00:00<00:01,  7.83it/s]"
     ]
    },
    {
     "name": "stdout",
     "output_type": "stream",
     "text": [
      "Geocoding API error for address 'nan': ZERO_RESULTS\n"
     ]
    },
    {
     "name": "stderr",
     "output_type": "stream",
     "text": [
      " 85%|████████▌ | 17/20 [00:03<00:00,  5.47it/s]"
     ]
    },
    {
     "name": "stdout",
     "output_type": "stream",
     "text": [
      "Geocoding API error for address '34 Fireside Drive': ZERO_RESULTS\n"
     ]
    },
    {
     "name": "stderr",
     "output_type": "stream",
     "text": [
      "100%|██████████| 20/20 [00:03<00:00,  5.02it/s]\n"
     ]
    },
    {
     "name": "stdout",
     "output_type": "stream",
     "text": [
      "Processed rows 1360 to 1380 and saved to c:\\Users\\Jensu\\OneDrive\\Documents\\GitHub\\CME358-Final_project\\0_raw_data\\house_data\\zolo_with_coords.csv.\n"
     ]
    },
    {
     "name": "stderr",
     "output_type": "stream",
     "text": [
      " 40%|████      | 8/20 [00:01<00:01,  6.02it/s]"
     ]
    },
    {
     "name": "stdout",
     "output_type": "stream",
     "text": [
      "Geocoding API error for address '3 Sunset Avenue': ZERO_RESULTS\n"
     ]
    },
    {
     "name": "stderr",
     "output_type": "stream",
     "text": [
      "100%|██████████| 20/20 [00:03<00:00,  5.62it/s]\n"
     ]
    },
    {
     "name": "stdout",
     "output_type": "stream",
     "text": [
      "Processed rows 1380 to 1400 and saved to c:\\Users\\Jensu\\OneDrive\\Documents\\GitHub\\CME358-Final_project\\0_raw_data\\house_data\\zolo_with_coords.csv.\n"
     ]
    },
    {
     "name": "stderr",
     "output_type": "stream",
     "text": [
      " 10%|█         | 2/20 [00:00<00:01,  9.47it/s]"
     ]
    },
    {
     "name": "stdout",
     "output_type": "stream",
     "text": [
      "Geocoding API error for address 'nan': ZERO_RESULTS\n"
     ]
    },
    {
     "name": "stderr",
     "output_type": "stream",
     "text": [
      " 30%|███       | 6/20 [00:00<00:01,  7.17it/s]"
     ]
    },
    {
     "name": "stdout",
     "output_type": "stream",
     "text": [
      "Geocoding API error for address '26 Thirty Eighth Street': ZERO_RESULTS\n"
     ]
    },
    {
     "name": "stderr",
     "output_type": "stream",
     "text": [
      " 55%|█████▌    | 11/20 [00:01<00:01,  5.93it/s]"
     ]
    },
    {
     "name": "stdout",
     "output_type": "stream",
     "text": [
      "Geocoding API error for address '2103 Avenue Road': ZERO_RESULTS\n"
     ]
    },
    {
     "name": "stderr",
     "output_type": "stream",
     "text": [
      "100%|██████████| 20/20 [00:03<00:00,  5.57it/s]\n"
     ]
    },
    {
     "name": "stdout",
     "output_type": "stream",
     "text": [
      "Processed rows 1400 to 1420 and saved to c:\\Users\\Jensu\\OneDrive\\Documents\\GitHub\\CME358-Final_project\\0_raw_data\\house_data\\zolo_with_coords.csv.\n"
     ]
    },
    {
     "name": "stderr",
     "output_type": "stream",
     "text": [
      "100%|██████████| 20/20 [00:03<00:00,  5.93it/s]"
     ]
    },
    {
     "name": "stdout",
     "output_type": "stream",
     "text": [
      "Geocoding API error for address 'nan': ZERO_RESULTS\n"
     ]
    },
    {
     "name": "stderr",
     "output_type": "stream",
     "text": [
      "100%|██████████| 20/20 [00:03<00:00,  5.12it/s]\n"
     ]
    },
    {
     "name": "stdout",
     "output_type": "stream",
     "text": [
      "Processed rows 1420 to 1440 and saved to c:\\Users\\Jensu\\OneDrive\\Documents\\GitHub\\CME358-Final_project\\0_raw_data\\house_data\\zolo_with_coords.csv.\n"
     ]
    },
    {
     "name": "stderr",
     "output_type": "stream",
     "text": [
      "100%|██████████| 20/20 [00:04<00:00,  4.86it/s]\n"
     ]
    },
    {
     "name": "stdout",
     "output_type": "stream",
     "text": [
      "Geocoding API error for address '47 Laurel Avenue': ZERO_RESULTS\n",
      "Processed rows 1440 to 1460 and saved to c:\\Users\\Jensu\\OneDrive\\Documents\\GitHub\\CME358-Final_project\\0_raw_data\\house_data\\zolo_with_coords.csv.\n"
     ]
    },
    {
     "name": "stderr",
     "output_type": "stream",
     "text": [
      " 80%|████████  | 16/20 [00:02<00:00,  6.74it/s]"
     ]
    },
    {
     "name": "stdout",
     "output_type": "stream",
     "text": [
      "Geocoding API error for address 'nan': ZERO_RESULTS\n"
     ]
    },
    {
     "name": "stderr",
     "output_type": "stream",
     "text": [
      "100%|██████████| 20/20 [00:03<00:00,  5.67it/s]\n"
     ]
    },
    {
     "name": "stdout",
     "output_type": "stream",
     "text": [
      "Processed rows 1460 to 1480 and saved to c:\\Users\\Jensu\\OneDrive\\Documents\\GitHub\\CME358-Final_project\\0_raw_data\\house_data\\zolo_with_coords.csv.\n"
     ]
    },
    {
     "name": "stderr",
     "output_type": "stream",
     "text": [
      " 25%|██▌       | 5/20 [00:00<00:02,  5.93it/s]"
     ]
    },
    {
     "name": "stdout",
     "output_type": "stream",
     "text": [
      "Geocoding API error for address '105 Tenth Street': ZERO_RESULTS\n"
     ]
    },
    {
     "name": "stderr",
     "output_type": "stream",
     "text": [
      " 55%|█████▌    | 11/20 [00:01<00:01,  6.20it/s]"
     ]
    },
    {
     "name": "stdout",
     "output_type": "stream",
     "text": [
      "Geocoding API error for address '782 Crawford Street': ZERO_RESULTS\n"
     ]
    },
    {
     "name": "stderr",
     "output_type": "stream",
     "text": [
      "100%|██████████| 20/20 [00:03<00:00,  5.77it/s]\n"
     ]
    },
    {
     "name": "stdout",
     "output_type": "stream",
     "text": [
      "Processed rows 1480 to 1500 and saved to c:\\Users\\Jensu\\OneDrive\\Documents\\GitHub\\CME358-Final_project\\0_raw_data\\house_data\\zolo_with_coords.csv.\n"
     ]
    },
    {
     "name": "stderr",
     "output_type": "stream",
     "text": [
      " 50%|█████     | 10/20 [00:01<00:01,  5.36it/s]"
     ]
    },
    {
     "name": "stdout",
     "output_type": "stream",
     "text": [
      "Geocoding API error for address 'nan': ZERO_RESULTS\n"
     ]
    },
    {
     "name": "stderr",
     "output_type": "stream",
     "text": [
      "100%|██████████| 20/20 [00:03<00:00,  5.13it/s]\n"
     ]
    },
    {
     "name": "stdout",
     "output_type": "stream",
     "text": [
      "Processed rows 1500 to 1520 and saved to c:\\Users\\Jensu\\OneDrive\\Documents\\GitHub\\CME358-Final_project\\0_raw_data\\house_data\\zolo_with_coords.csv.\n"
     ]
    },
    {
     "name": "stderr",
     "output_type": "stream",
     "text": [
      " 10%|█         | 2/20 [00:00<00:01, 15.04it/s]"
     ]
    },
    {
     "name": "stdout",
     "output_type": "stream",
     "text": [
      "Geocoding API error for address '73 Eleventh Street': ZERO_RESULTS\n"
     ]
    },
    {
     "name": "stderr",
     "output_type": "stream",
     "text": [
      "100%|██████████| 20/20 [00:04<00:00,  4.75it/s]\n"
     ]
    },
    {
     "name": "stdout",
     "output_type": "stream",
     "text": [
      "Processed rows 1520 to 1540 and saved to c:\\Users\\Jensu\\OneDrive\\Documents\\GitHub\\CME358-Final_project\\0_raw_data\\house_data\\zolo_with_coords.csv.\n"
     ]
    },
    {
     "name": "stderr",
     "output_type": "stream",
     "text": [
      " 10%|█         | 2/20 [00:00<00:01, 10.54it/s]"
     ]
    },
    {
     "name": "stdout",
     "output_type": "stream",
     "text": [
      "Geocoding API error for address '93 Elm Avenue': ZERO_RESULTS\n"
     ]
    },
    {
     "name": "stderr",
     "output_type": "stream",
     "text": [
      " 30%|███       | 6/20 [00:01<00:02,  5.49it/s]"
     ]
    },
    {
     "name": "stdout",
     "output_type": "stream",
     "text": [
      "Geocoding API error for address 'nan': ZERO_RESULTS\n"
     ]
    },
    {
     "name": "stderr",
     "output_type": "stream",
     "text": [
      " 70%|███████   | 14/20 [00:02<00:00,  6.39it/s]"
     ]
    },
    {
     "name": "stdout",
     "output_type": "stream",
     "text": [
      "Geocoding API error for address '78 Thirty Ninth Street': ZERO_RESULTS\n"
     ]
    },
    {
     "name": "stderr",
     "output_type": "stream",
     "text": [
      " 80%|████████  | 16/20 [00:02<00:00,  5.97it/s]"
     ]
    },
    {
     "name": "stdout",
     "output_type": "stream",
     "text": [
      "Geocoding API error for address '139 Hudson Drive': ZERO_RESULTS\n"
     ]
    },
    {
     "name": "stderr",
     "output_type": "stream",
     "text": [
      "100%|██████████| 20/20 [00:03<00:00,  5.44it/s]\n"
     ]
    },
    {
     "name": "stdout",
     "output_type": "stream",
     "text": [
      "Processed rows 1540 to 1560 and saved to c:\\Users\\Jensu\\OneDrive\\Documents\\GitHub\\CME358-Final_project\\0_raw_data\\house_data\\zolo_with_coords.csv.\n"
     ]
    },
    {
     "name": "stderr",
     "output_type": "stream",
     "text": [
      "100%|██████████| 20/20 [00:04<00:00,  4.91it/s]\n"
     ]
    },
    {
     "name": "stdout",
     "output_type": "stream",
     "text": [
      "Processed rows 1560 to 1580 and saved to c:\\Users\\Jensu\\OneDrive\\Documents\\GitHub\\CME358-Final_project\\0_raw_data\\house_data\\zolo_with_coords.csv.\n"
     ]
    },
    {
     "name": "stderr",
     "output_type": "stream",
     "text": [
      " 20%|██        | 4/20 [00:00<00:01,  9.12it/s]"
     ]
    },
    {
     "name": "stdout",
     "output_type": "stream",
     "text": [
      "Geocoding API error for address 'nan': ZERO_RESULTS\n"
     ]
    },
    {
     "name": "stderr",
     "output_type": "stream",
     "text": [
      " 90%|█████████ | 18/20 [00:02<00:00,  6.22it/s]"
     ]
    },
    {
     "name": "stdout",
     "output_type": "stream",
     "text": [
      "Geocoding API error for address '539 Crawford Street': ZERO_RESULTS\n"
     ]
    },
    {
     "name": "stderr",
     "output_type": "stream",
     "text": [
      "100%|██████████| 20/20 [00:03<00:00,  5.90it/s]\n"
     ]
    },
    {
     "name": "stdout",
     "output_type": "stream",
     "text": [
      "Geocoding API error for address '9 Swiss Court': ZERO_RESULTS\n",
      "Processed rows 1580 to 1600 and saved to c:\\Users\\Jensu\\OneDrive\\Documents\\GitHub\\CME358-Final_project\\0_raw_data\\house_data\\zolo_with_coords.csv.\n"
     ]
    },
    {
     "name": "stderr",
     "output_type": "stream",
     "text": [
      " 90%|█████████ | 18/20 [00:03<00:00,  6.13it/s]"
     ]
    },
    {
     "name": "stdout",
     "output_type": "stream",
     "text": [
      "Geocoding API error for address 'nan': ZERO_RESULTS\n"
     ]
    },
    {
     "name": "stderr",
     "output_type": "stream",
     "text": [
      "100%|██████████| 20/20 [00:03<00:00,  5.22it/s]\n"
     ]
    },
    {
     "name": "stdout",
     "output_type": "stream",
     "text": [
      "Processed rows 1600 to 1620 and saved to c:\\Users\\Jensu\\OneDrive\\Documents\\GitHub\\CME358-Final_project\\0_raw_data\\house_data\\zolo_with_coords.csv.\n"
     ]
    },
    {
     "name": "stderr",
     "output_type": "stream",
     "text": [
      "100%|██████████| 20/20 [00:04<00:00,  4.85it/s]\n"
     ]
    },
    {
     "name": "stdout",
     "output_type": "stream",
     "text": [
      "Processed rows 1620 to 1640 and saved to c:\\Users\\Jensu\\OneDrive\\Documents\\GitHub\\CME358-Final_project\\0_raw_data\\house_data\\zolo_with_coords.csv.\n"
     ]
    },
    {
     "name": "stderr",
     "output_type": "stream",
     "text": [
      " 65%|██████▌   | 13/20 [00:02<00:01,  5.04it/s]"
     ]
    },
    {
     "name": "stdout",
     "output_type": "stream",
     "text": [
      "Geocoding API error for address 'nan': ZERO_RESULTS\n"
     ]
    },
    {
     "name": "stderr",
     "output_type": "stream",
     "text": [
      "100%|██████████| 20/20 [00:03<00:00,  5.15it/s]\n"
     ]
    },
    {
     "name": "stdout",
     "output_type": "stream",
     "text": [
      "Processed rows 1640 to 1660 and saved to c:\\Users\\Jensu\\OneDrive\\Documents\\GitHub\\CME358-Final_project\\0_raw_data\\house_data\\zolo_with_coords.csv.\n"
     ]
    },
    {
     "name": "stderr",
     "output_type": "stream",
     "text": [
      "100%|██████████| 20/20 [00:04<00:00,  4.82it/s]\n"
     ]
    },
    {
     "name": "stdout",
     "output_type": "stream",
     "text": [
      "Processed rows 1660 to 1680 and saved to c:\\Users\\Jensu\\OneDrive\\Documents\\GitHub\\CME358-Final_project\\0_raw_data\\house_data\\zolo_with_coords.csv.\n"
     ]
    },
    {
     "name": "stderr",
     "output_type": "stream",
     "text": [
      " 45%|████▌     | 9/20 [00:01<00:02,  5.28it/s]"
     ]
    },
    {
     "name": "stdout",
     "output_type": "stream",
     "text": [
      "Geocoding API error for address 'nan': ZERO_RESULTS\n"
     ]
    },
    {
     "name": "stderr",
     "output_type": "stream",
     "text": [
      " 70%|███████   | 14/20 [00:02<00:00,  6.14it/s]"
     ]
    },
    {
     "name": "stdout",
     "output_type": "stream",
     "text": [
      "Geocoding API error for address '697 Richmond Street W': ZERO_RESULTS\n"
     ]
    },
    {
     "name": "stderr",
     "output_type": "stream",
     "text": [
      "100%|██████████| 20/20 [00:03<00:00,  5.06it/s]\n"
     ]
    },
    {
     "name": "stdout",
     "output_type": "stream",
     "text": [
      "Processed rows 1680 to 1700 and saved to c:\\Users\\Jensu\\OneDrive\\Documents\\GitHub\\CME358-Final_project\\0_raw_data\\house_data\\zolo_with_coords.csv.\n"
     ]
    },
    {
     "name": "stderr",
     "output_type": "stream",
     "text": [
      " 55%|█████▌    | 11/20 [00:01<00:01,  5.12it/s]"
     ]
    },
    {
     "name": "stdout",
     "output_type": "stream",
     "text": [
      "Geocoding API error for address '9 Thirteenth Street': ZERO_RESULTS\n"
     ]
    },
    {
     "name": "stderr",
     "output_type": "stream",
     "text": [
      "100%|██████████| 20/20 [00:04<00:00,  4.80it/s]\n"
     ]
    },
    {
     "name": "stdout",
     "output_type": "stream",
     "text": [
      "Processed rows 1700 to 1720 and saved to c:\\Users\\Jensu\\OneDrive\\Documents\\GitHub\\CME358-Final_project\\0_raw_data\\house_data\\zolo_with_coords.csv.\n"
     ]
    },
    {
     "name": "stderr",
     "output_type": "stream",
     "text": [
      " 35%|███▌      | 7/20 [00:00<00:01,  7.51it/s]"
     ]
    },
    {
     "name": "stdout",
     "output_type": "stream",
     "text": [
      "Geocoding API error for address 'nan': ZERO_RESULTS\n"
     ]
    },
    {
     "name": "stderr",
     "output_type": "stream",
     "text": [
      "100%|██████████| 20/20 [00:03<00:00,  5.03it/s]\n"
     ]
    },
    {
     "name": "stdout",
     "output_type": "stream",
     "text": [
      "Processed rows 1720 to 1740 and saved to c:\\Users\\Jensu\\OneDrive\\Documents\\GitHub\\CME358-Final_project\\0_raw_data\\house_data\\zolo_with_coords.csv.\n"
     ]
    },
    {
     "name": "stderr",
     "output_type": "stream",
     "text": [
      " 45%|████▌     | 9/20 [00:01<00:01,  6.94it/s]"
     ]
    },
    {
     "name": "stdout",
     "output_type": "stream",
     "text": [
      "Geocoding API error for address '128 Laurel Avenue': ZERO_RESULTS\n"
     ]
    },
    {
     "name": "stderr",
     "output_type": "stream",
     "text": [
      "100%|██████████| 20/20 [00:03<00:00,  5.60it/s]\n"
     ]
    },
    {
     "name": "stdout",
     "output_type": "stream",
     "text": [
      "Processed rows 1740 to 1760 and saved to c:\\Users\\Jensu\\OneDrive\\Documents\\GitHub\\CME358-Final_project\\0_raw_data\\house_data\\zolo_with_coords.csv.\n"
     ]
    },
    {
     "name": "stderr",
     "output_type": "stream",
     "text": [
      "  0%|          | 0/20 [00:00<?, ?it/s]"
     ]
    },
    {
     "name": "stdout",
     "output_type": "stream",
     "text": [
      "Geocoding API error for address 'nan': ZERO_RESULTS\n"
     ]
    },
    {
     "name": "stderr",
     "output_type": "stream",
     "text": [
      "100%|██████████| 20/20 [00:01<00:00, 10.08it/s]\n"
     ]
    },
    {
     "name": "stdout",
     "output_type": "stream",
     "text": [
      "Processed rows 1760 to 1780 and saved to c:\\Users\\Jensu\\OneDrive\\Documents\\GitHub\\CME358-Final_project\\0_raw_data\\house_data\\zolo_with_coords.csv.\n"
     ]
    },
    {
     "name": "stderr",
     "output_type": "stream",
     "text": [
      " 95%|█████████▌| 19/20 [00:01<00:00, 12.23it/s]"
     ]
    },
    {
     "name": "stdout",
     "output_type": "stream",
     "text": [
      "Geocoding API error for address 'nan': ZERO_RESULTS\n"
     ]
    },
    {
     "name": "stderr",
     "output_type": "stream",
     "text": [
      "100%|██████████| 20/20 [00:01<00:00, 12.42it/s]\n"
     ]
    },
    {
     "name": "stdout",
     "output_type": "stream",
     "text": [
      "Processed rows 1780 to 1800 and saved to c:\\Users\\Jensu\\OneDrive\\Documents\\GitHub\\CME358-Final_project\\0_raw_data\\house_data\\zolo_with_coords.csv.\n"
     ]
    },
    {
     "name": "stderr",
     "output_type": "stream",
     "text": [
      " 35%|███▌      | 7/20 [00:00<00:00, 14.88it/s]"
     ]
    },
    {
     "name": "stdout",
     "output_type": "stream",
     "text": [
      "Geocoding API error for address '3 Shoreview Drive': ZERO_RESULTS\n"
     ]
    },
    {
     "name": "stderr",
     "output_type": "stream",
     "text": [
      "100%|██████████| 20/20 [00:01<00:00, 12.35it/s]\n"
     ]
    },
    {
     "name": "stdout",
     "output_type": "stream",
     "text": [
      "Processed rows 1800 to 1820 and saved to c:\\Users\\Jensu\\OneDrive\\Documents\\GitHub\\CME358-Final_project\\0_raw_data\\house_data\\zolo_with_coords.csv.\n"
     ]
    },
    {
     "name": "stderr",
     "output_type": "stream",
     "text": [
      " 75%|███████▌  | 15/20 [00:01<00:00, 11.72it/s]"
     ]
    },
    {
     "name": "stdout",
     "output_type": "stream",
     "text": [
      "Geocoding API error for address 'nan': ZERO_RESULTS\n"
     ]
    },
    {
     "name": "stderr",
     "output_type": "stream",
     "text": [
      "100%|██████████| 20/20 [00:01<00:00, 12.58it/s]\n"
     ]
    },
    {
     "name": "stdout",
     "output_type": "stream",
     "text": [
      "Processed rows 1820 to 1840 and saved to c:\\Users\\Jensu\\OneDrive\\Documents\\GitHub\\CME358-Final_project\\0_raw_data\\house_data\\zolo_with_coords.csv.\n"
     ]
    },
    {
     "name": "stderr",
     "output_type": "stream",
     "text": [
      "100%|██████████| 20/20 [00:01<00:00, 12.46it/s]\n"
     ]
    },
    {
     "name": "stdout",
     "output_type": "stream",
     "text": [
      "Processed rows 1840 to 1860 and saved to c:\\Users\\Jensu\\OneDrive\\Documents\\GitHub\\CME358-Final_project\\0_raw_data\\house_data\\zolo_with_coords.csv.\n"
     ]
    },
    {
     "name": "stderr",
     "output_type": "stream",
     "text": [
      " 55%|█████▌    | 11/20 [00:00<00:00, 13.08it/s]"
     ]
    },
    {
     "name": "stdout",
     "output_type": "stream",
     "text": [
      "Geocoding API error for address 'nan': ZERO_RESULTS\n"
     ]
    },
    {
     "name": "stderr",
     "output_type": "stream",
     "text": [
      " 85%|████████▌ | 17/20 [00:01<00:00, 13.32it/s]"
     ]
    },
    {
     "name": "stdout",
     "output_type": "stream",
     "text": [
      "Geocoding API error for address '1378 Wilson Avenue': ZERO_RESULTS\n"
     ]
    },
    {
     "name": "stderr",
     "output_type": "stream",
     "text": [
      "100%|██████████| 20/20 [00:01<00:00, 12.57it/s]\n"
     ]
    },
    {
     "name": "stdout",
     "output_type": "stream",
     "text": [
      "Processed rows 1860 to 1880 and saved to c:\\Users\\Jensu\\OneDrive\\Documents\\GitHub\\CME358-Final_project\\0_raw_data\\house_data\\zolo_with_coords.csv.\n"
     ]
    },
    {
     "name": "stderr",
     "output_type": "stream",
     "text": [
      "100%|██████████| 20/20 [00:01<00:00, 12.52it/s]\n"
     ]
    },
    {
     "name": "stdout",
     "output_type": "stream",
     "text": [
      "Processed rows 1880 to 1900 and saved to c:\\Users\\Jensu\\OneDrive\\Documents\\GitHub\\CME358-Final_project\\0_raw_data\\house_data\\zolo_with_coords.csv.\n"
     ]
    },
    {
     "name": "stderr",
     "output_type": "stream",
     "text": [
      " 35%|███▌      | 7/20 [00:00<00:00, 14.28it/s]"
     ]
    },
    {
     "name": "stdout",
     "output_type": "stream",
     "text": [
      "Geocoding API error for address 'nan': ZERO_RESULTS\n"
     ]
    },
    {
     "name": "stderr",
     "output_type": "stream",
     "text": [
      "100%|██████████| 20/20 [00:01<00:00, 12.89it/s]\n"
     ]
    },
    {
     "name": "stdout",
     "output_type": "stream",
     "text": [
      "Processed rows 1900 to 1920 and saved to c:\\Users\\Jensu\\OneDrive\\Documents\\GitHub\\CME358-Final_project\\0_raw_data\\house_data\\zolo_with_coords.csv.\n"
     ]
    },
    {
     "name": "stderr",
     "output_type": "stream",
     "text": [
      "100%|██████████| 20/20 [00:01<00:00, 12.94it/s]\n"
     ]
    },
    {
     "name": "stdout",
     "output_type": "stream",
     "text": [
      "Processed rows 1920 to 1940 and saved to c:\\Users\\Jensu\\OneDrive\\Documents\\GitHub\\CME358-Final_project\\0_raw_data\\house_data\\zolo_with_coords.csv.\n"
     ]
    },
    {
     "name": "stderr",
     "output_type": "stream",
     "text": [
      " 15%|█▌        | 3/20 [00:00<00:00, 20.15it/s]"
     ]
    },
    {
     "name": "stdout",
     "output_type": "stream",
     "text": [
      "Geocoding API error for address 'nan': ZERO_RESULTS\n"
     ]
    },
    {
     "name": "stderr",
     "output_type": "stream",
     "text": [
      " 30%|███       | 6/20 [00:00<00:00, 15.90it/s]"
     ]
    },
    {
     "name": "stdout",
     "output_type": "stream",
     "text": [
      "Geocoding API error for address '119 Preston Street': ZERO_RESULTS\n"
     ]
    },
    {
     "name": "stderr",
     "output_type": "stream",
     "text": [
      "100%|██████████| 20/20 [00:01<00:00, 12.96it/s]\n"
     ]
    },
    {
     "name": "stdout",
     "output_type": "stream",
     "text": [
      "Processed rows 1940 to 1960 and saved to c:\\Users\\Jensu\\OneDrive\\Documents\\GitHub\\CME358-Final_project\\0_raw_data\\house_data\\zolo_with_coords.csv.\n"
     ]
    },
    {
     "name": "stderr",
     "output_type": "stream",
     "text": [
      " 90%|█████████ | 18/20 [00:01<00:00, 11.89it/s]"
     ]
    },
    {
     "name": "stdout",
     "output_type": "stream",
     "text": [
      "Geocoding API error for address 'nan': ZERO_RESULTS\n"
     ]
    },
    {
     "name": "stderr",
     "output_type": "stream",
     "text": [
      "100%|██████████| 20/20 [00:01<00:00, 11.81it/s]\n"
     ]
    },
    {
     "name": "stdout",
     "output_type": "stream",
     "text": [
      "Processed rows 1960 to 1980 and saved to c:\\Users\\Jensu\\OneDrive\\Documents\\GitHub\\CME358-Final_project\\0_raw_data\\house_data\\zolo_with_coords.csv.\n"
     ]
    },
    {
     "name": "stderr",
     "output_type": "stream",
     "text": [
      " 25%|██▌       | 5/20 [00:00<00:01, 12.53it/s]"
     ]
    },
    {
     "name": "stdout",
     "output_type": "stream",
     "text": [
      "Geocoding API error for address '267 Hidden Trail E': ZERO_RESULTS\n"
     ]
    },
    {
     "name": "stderr",
     "output_type": "stream",
     "text": [
      "100%|██████████| 20/20 [00:01<00:00, 10.68it/s]\n"
     ]
    },
    {
     "name": "stdout",
     "output_type": "stream",
     "text": [
      "Processed rows 1980 to 2000 and saved to c:\\Users\\Jensu\\OneDrive\\Documents\\GitHub\\CME358-Final_project\\0_raw_data\\house_data\\zolo_with_coords.csv.\n"
     ]
    },
    {
     "name": "stderr",
     "output_type": "stream",
     "text": [
      " 80%|████████  | 16/20 [00:01<00:00, 12.25it/s]"
     ]
    },
    {
     "name": "stdout",
     "output_type": "stream",
     "text": [
      "Geocoding API error for address 'nan': ZERO_RESULTS\n"
     ]
    },
    {
     "name": "stderr",
     "output_type": "stream",
     "text": [
      "100%|██████████| 20/20 [00:01<00:00, 12.03it/s]\n"
     ]
    },
    {
     "name": "stdout",
     "output_type": "stream",
     "text": [
      "Geocoding API error for address '9 Plains Road': ZERO_RESULTS\n",
      "Processed rows 2000 to 2020 and saved to c:\\Users\\Jensu\\OneDrive\\Documents\\GitHub\\CME358-Final_project\\0_raw_data\\house_data\\zolo_with_coords.csv.\n"
     ]
    },
    {
     "name": "stderr",
     "output_type": "stream",
     "text": [
      " 75%|███████▌  | 15/20 [00:01<00:00, 13.59it/s]"
     ]
    },
    {
     "name": "stdout",
     "output_type": "stream",
     "text": [
      "Geocoding API error for address '19 Country Lane': ZERO_RESULTS\n"
     ]
    },
    {
     "name": "stderr",
     "output_type": "stream",
     "text": [
      " 95%|█████████▌| 19/20 [00:01<00:00, 13.40it/s]"
     ]
    },
    {
     "name": "stdout",
     "output_type": "stream",
     "text": [
      "Geocoding API error for address '101 Ninth Street': ZERO_RESULTS\n"
     ]
    },
    {
     "name": "stderr",
     "output_type": "stream",
     "text": [
      "100%|██████████| 20/20 [00:01<00:00, 13.29it/s]\n"
     ]
    },
    {
     "name": "stdout",
     "output_type": "stream",
     "text": [
      "Processed rows 2020 to 2040 and saved to c:\\Users\\Jensu\\OneDrive\\Documents\\GitHub\\CME358-Final_project\\0_raw_data\\house_data\\zolo_with_coords.csv.\n"
     ]
    },
    {
     "name": "stderr",
     "output_type": "stream",
     "text": [
      " 60%|██████    | 12/20 [00:00<00:00, 13.07it/s]"
     ]
    },
    {
     "name": "stdout",
     "output_type": "stream",
     "text": [
      "Geocoding API error for address 'nan': ZERO_RESULTS\n"
     ]
    },
    {
     "name": "stderr",
     "output_type": "stream",
     "text": [
      "100%|██████████| 20/20 [00:01<00:00, 12.47it/s]\n"
     ]
    },
    {
     "name": "stdout",
     "output_type": "stream",
     "text": [
      "Processed rows 2040 to 2060 and saved to c:\\Users\\Jensu\\OneDrive\\Documents\\GitHub\\CME358-Final_project\\0_raw_data\\house_data\\zolo_with_coords.csv.\n"
     ]
    },
    {
     "name": "stderr",
     "output_type": "stream",
     "text": [
      " 55%|█████▌    | 11/20 [00:00<00:00, 13.26it/s]"
     ]
    },
    {
     "name": "stdout",
     "output_type": "stream",
     "text": [
      "Geocoding API error for address '42A Linden Avenue': ZERO_RESULTS\n"
     ]
    },
    {
     "name": "stderr",
     "output_type": "stream",
     "text": [
      "100%|██████████| 20/20 [00:01<00:00, 12.76it/s]\n"
     ]
    },
    {
     "name": "stdout",
     "output_type": "stream",
     "text": [
      "Processed rows 2060 to 2080 and saved to c:\\Users\\Jensu\\OneDrive\\Documents\\GitHub\\CME358-Final_project\\0_raw_data\\house_data\\zolo_with_coords.csv.\n"
     ]
    },
    {
     "name": "stderr",
     "output_type": "stream",
     "text": [
      " 35%|███▌      | 7/20 [00:00<00:00, 14.98it/s]"
     ]
    },
    {
     "name": "stdout",
     "output_type": "stream",
     "text": [
      "Geocoding API error for address 'nan': ZERO_RESULTS\n"
     ]
    },
    {
     "name": "stderr",
     "output_type": "stream",
     "text": [
      "100%|██████████| 20/20 [00:01<00:00, 11.76it/s]\n"
     ]
    },
    {
     "name": "stdout",
     "output_type": "stream",
     "text": [
      "Geocoding API error for address '28 Pine Avenue': ZERO_RESULTS\n",
      "Processed rows 2080 to 2100 and saved to c:\\Users\\Jensu\\OneDrive\\Documents\\GitHub\\CME358-Final_project\\0_raw_data\\house_data\\zolo_with_coords.csv.\n"
     ]
    },
    {
     "name": "stderr",
     "output_type": "stream",
     "text": [
      "100%|██████████| 20/20 [00:01<00:00, 12.01it/s]\n"
     ]
    },
    {
     "name": "stdout",
     "output_type": "stream",
     "text": [
      "Processed rows 2100 to 2120 and saved to c:\\Users\\Jensu\\OneDrive\\Documents\\GitHub\\CME358-Final_project\\0_raw_data\\house_data\\zolo_with_coords.csv.\n"
     ]
    },
    {
     "name": "stderr",
     "output_type": "stream",
     "text": [
      " 15%|█▌        | 3/20 [00:00<00:00, 20.37it/s]"
     ]
    },
    {
     "name": "stdout",
     "output_type": "stream",
     "text": [
      "Geocoding API error for address 'nan': ZERO_RESULTS\n"
     ]
    },
    {
     "name": "stderr",
     "output_type": "stream",
     "text": [
      "100%|██████████| 20/20 [00:01<00:00, 12.22it/s]\n"
     ]
    },
    {
     "name": "stdout",
     "output_type": "stream",
     "text": [
      "Geocoding API error for address '76 Thirty Fifth Street': ZERO_RESULTS\n",
      "Processed rows 2120 to 2140 and saved to c:\\Users\\Jensu\\OneDrive\\Documents\\GitHub\\CME358-Final_project\\0_raw_data\\house_data\\zolo_with_coords.csv.\n"
     ]
    },
    {
     "name": "stderr",
     "output_type": "stream",
     "text": [
      " 55%|█████▌    | 11/20 [00:00<00:00, 14.42it/s]"
     ]
    },
    {
     "name": "stdout",
     "output_type": "stream",
     "text": [
      "Geocoding API error for address '303 Delta Street': ZERO_RESULTS\n"
     ]
    },
    {
     "name": "stderr",
     "output_type": "stream",
     "text": [
      " 95%|█████████▌| 19/20 [00:01<00:00, 12.71it/s]"
     ]
    },
    {
     "name": "stdout",
     "output_type": "stream",
     "text": [
      "Geocoding API error for address 'nan': ZERO_RESULTS\n"
     ]
    },
    {
     "name": "stderr",
     "output_type": "stream",
     "text": [
      "100%|██████████| 20/20 [00:01<00:00, 12.96it/s]\n"
     ]
    },
    {
     "name": "stdout",
     "output_type": "stream",
     "text": [
      "Processed rows 2140 to 2160 and saved to c:\\Users\\Jensu\\OneDrive\\Documents\\GitHub\\CME358-Final_project\\0_raw_data\\house_data\\zolo_with_coords.csv.\n"
     ]
    },
    {
     "name": "stderr",
     "output_type": "stream",
     "text": [
      " 45%|████▌     | 9/20 [00:00<00:00, 13.76it/s]"
     ]
    },
    {
     "name": "stdout",
     "output_type": "stream",
     "text": [
      "Geocoding API error for address '59 Riverview Heights': ZERO_RESULTS\n"
     ]
    },
    {
     "name": "stderr",
     "output_type": "stream",
     "text": [
      "100%|██████████| 20/20 [00:01<00:00, 11.98it/s]\n"
     ]
    },
    {
     "name": "stdout",
     "output_type": "stream",
     "text": [
      "Processed rows 2160 to 2180 and saved to c:\\Users\\Jensu\\OneDrive\\Documents\\GitHub\\CME358-Final_project\\0_raw_data\\house_data\\zolo_with_coords.csv.\n"
     ]
    },
    {
     "name": "stderr",
     "output_type": "stream",
     "text": [
      " 25%|██▌       | 3/12 [00:00<00:00, 19.73it/s]"
     ]
    },
    {
     "name": "stdout",
     "output_type": "stream",
     "text": [
      "Geocoding API error for address '1198 Avenue Road': ZERO_RESULTS\n"
     ]
    },
    {
     "name": "stderr",
     "output_type": "stream",
     "text": [
      " 42%|████▏     | 5/12 [00:00<00:00, 15.29it/s]"
     ]
    },
    {
     "name": "stdout",
     "output_type": "stream",
     "text": [
      "Geocoding API error for address '1196 Avenue Road': ZERO_RESULTS\n"
     ]
    },
    {
     "name": "stderr",
     "output_type": "stream",
     "text": [
      "100%|██████████| 12/12 [00:00<00:00, 12.94it/s]"
     ]
    },
    {
     "name": "stdout",
     "output_type": "stream",
     "text": [
      "Geocoding API error for address 'nan': ZERO_RESULTS\n",
      "Processed rows 2180 to 2192 and saved to c:\\Users\\Jensu\\OneDrive\\Documents\\GitHub\\CME358-Final_project\\0_raw_data\\house_data\\zolo_with_coords.csv.\n"
     ]
    },
    {
     "name": "stderr",
     "output_type": "stream",
     "text": [
      "\n"
     ]
    }
   ],
   "source": [
    "\n",
    "process_dataframe_in_chunks(zolo_data, chunk_size=20, api_key=api_key, output_csv=output_csv)\n"
   ]
  },
  {
   "cell_type": "code",
   "execution_count": 30,
   "metadata": {},
   "outputs": [
    {
     "data": {
      "text/html": [
       "<div>\n",
       "<style scoped>\n",
       "    .dataframe tbody tr th:only-of-type {\n",
       "        vertical-align: middle;\n",
       "    }\n",
       "\n",
       "    .dataframe tbody tr th {\n",
       "        vertical-align: top;\n",
       "    }\n",
       "\n",
       "    .dataframe thead th {\n",
       "        text-align: right;\n",
       "    }\n",
       "</style>\n",
       "<table border=\"1\" class=\"dataframe\">\n",
       "  <thead>\n",
       "    <tr style=\"text-align: right;\">\n",
       "      <th></th>\n",
       "      <th>price</th>\n",
       "      <th>address</th>\n",
       "      <th>mls</th>\n",
       "      <th>rooms</th>\n",
       "      <th>room dimensions</th>\n",
       "      <th>room_properties</th>\n",
       "      <th>Status</th>\n",
       "      <th>Type</th>\n",
       "      <th>Style</th>\n",
       "      <th>Size (sq ft)</th>\n",
       "      <th>...</th>\n",
       "      <th>Percent Building</th>\n",
       "      <th>Soil Test</th>\n",
       "      <th>Com_cn_fee</th>\n",
       "      <th>Ceiling Height</th>\n",
       "      <th>Crane</th>\n",
       "      <th>Industrial Area</th>\n",
       "      <th>Industrial Area Units</th>\n",
       "      <th>Central Vac</th>\n",
       "      <th>lat</th>\n",
       "      <th>long</th>\n",
       "    </tr>\n",
       "  </thead>\n",
       "  <tbody>\n",
       "    <tr>\n",
       "      <th>0</th>\n",
       "      <td>$635,000</td>\n",
       "      <td>104 - 95 La Rose Avenue</td>\n",
       "      <td>MLS® W11237359</td>\n",
       "      <td>['Kitchen', 'Living', 'Dining', 'Prim Bdrm', '...</td>\n",
       "      <td>['2.44 x 3.36', '4.47 x 5.49', '3.05 x 3.36', ...</td>\n",
       "      <td>['Eat-In Kitchen, Hardwood Floor', 'Open Conce...</td>\n",
       "      <td>Sale</td>\n",
       "      <td>Condo Apt</td>\n",
       "      <td>Apartment</td>\n",
       "      <td>1000-1199</td>\n",
       "      <td>...</td>\n",
       "      <td>NaN</td>\n",
       "      <td>NaN</td>\n",
       "      <td>NaN</td>\n",
       "      <td>NaN</td>\n",
       "      <td>NaN</td>\n",
       "      <td>NaN</td>\n",
       "      <td>NaN</td>\n",
       "      <td>NaN</td>\n",
       "      <td>43.685463</td>\n",
       "      <td>-79.519376</td>\n",
       "    </tr>\n",
       "    <tr>\n",
       "      <th>1</th>\n",
       "      <td>$1,895,000</td>\n",
       "      <td>612 - 1 Strathgowan Avenue</td>\n",
       "      <td>MLS® C11238266</td>\n",
       "      <td>['Foyer', 'Living', 'Dining', 'Kitchen', 'Prim...</td>\n",
       "      <td>['1.38 x 2.86', '3.66 x 4.18', '3.05 x 3.82', ...</td>\n",
       "      <td>['Closet, Closet Organizers, Hardwood Floor', ...</td>\n",
       "      <td>Sale</td>\n",
       "      <td>Condo Apt</td>\n",
       "      <td>Apartment</td>\n",
       "      <td>1000-1199</td>\n",
       "      <td>...</td>\n",
       "      <td>NaN</td>\n",
       "      <td>NaN</td>\n",
       "      <td>NaN</td>\n",
       "      <td>NaN</td>\n",
       "      <td>NaN</td>\n",
       "      <td>NaN</td>\n",
       "      <td>NaN</td>\n",
       "      <td>NaN</td>\n",
       "      <td>43.718664</td>\n",
       "      <td>-79.400593</td>\n",
       "    </tr>\n",
       "    <tr>\n",
       "      <th>2</th>\n",
       "      <td>$499,000</td>\n",
       "      <td>1107 - 68 Shuter Street</td>\n",
       "      <td>MLS® C11238058</td>\n",
       "      <td>['Living', 'Dining', 'Kitchen', 'Prim Bdrm', '...</td>\n",
       "      <td>['3.05 x 3.63', '3.05 x 3.63', '3.00 x 3.05', ...</td>\n",
       "      <td>['W/O To Balcony, Large Window, Laminate', 'Op...</td>\n",
       "      <td>Sale</td>\n",
       "      <td>Condo Apt</td>\n",
       "      <td>Apartment</td>\n",
       "      <td>500-599</td>\n",
       "      <td>...</td>\n",
       "      <td>NaN</td>\n",
       "      <td>NaN</td>\n",
       "      <td>NaN</td>\n",
       "      <td>NaN</td>\n",
       "      <td>NaN</td>\n",
       "      <td>NaN</td>\n",
       "      <td>NaN</td>\n",
       "      <td>NaN</td>\n",
       "      <td>43.655113</td>\n",
       "      <td>-79.375735</td>\n",
       "    </tr>\n",
       "    <tr>\n",
       "      <th>3</th>\n",
       "      <td>$777,777</td>\n",
       "      <td>2701 - 65 St Mary Street</td>\n",
       "      <td>MLS® C11236562</td>\n",
       "      <td>['Living', 'Dining', 'Prim Bdrm']</td>\n",
       "      <td>['3.51 x 6.34', '3.51 x 6.34', '3.75 x 2.92']</td>\n",
       "      <td>['Hardwood Floor, Combined W/Dining, W/O To Ba...</td>\n",
       "      <td>Sale</td>\n",
       "      <td>Condo Apt</td>\n",
       "      <td>Apartment</td>\n",
       "      <td>500-599</td>\n",
       "      <td>...</td>\n",
       "      <td>NaN</td>\n",
       "      <td>NaN</td>\n",
       "      <td>NaN</td>\n",
       "      <td>NaN</td>\n",
       "      <td>NaN</td>\n",
       "      <td>NaN</td>\n",
       "      <td>NaN</td>\n",
       "      <td>NaN</td>\n",
       "      <td>43.667206</td>\n",
       "      <td>-79.389162</td>\n",
       "    </tr>\n",
       "    <tr>\n",
       "      <th>4</th>\n",
       "      <td>$1,299,999</td>\n",
       "      <td>95 Grovedale Avenue</td>\n",
       "      <td>MLS® W11237401</td>\n",
       "      <td>['Br', '2nd Br', '3rd Br', 'Bathroom', 'Kitche...</td>\n",
       "      <td>['3.03 x 4.18', '3.67 x 2.90', '3.67 x 4.33', ...</td>\n",
       "      <td>['Above Grade Window, Closet', 'Above Grade Wi...</td>\n",
       "      <td>Sale</td>\n",
       "      <td>Detached</td>\n",
       "      <td>Bungalow</td>\n",
       "      <td>NaN</td>\n",
       "      <td>...</td>\n",
       "      <td>NaN</td>\n",
       "      <td>NaN</td>\n",
       "      <td>NaN</td>\n",
       "      <td>NaN</td>\n",
       "      <td>NaN</td>\n",
       "      <td>NaN</td>\n",
       "      <td>NaN</td>\n",
       "      <td>NaN</td>\n",
       "      <td>43.716534</td>\n",
       "      <td>-79.489481</td>\n",
       "    </tr>\n",
       "  </tbody>\n",
       "</table>\n",
       "<p>5 rows × 221 columns</p>\n",
       "</div>"
      ],
      "text/plain": [
       "        price                     address             mls  \\\n",
       "0    $635,000     104 - 95 La Rose Avenue  MLS® W11237359   \n",
       "1  $1,895,000  612 - 1 Strathgowan Avenue  MLS® C11238266   \n",
       "2    $499,000     1107 - 68 Shuter Street  MLS® C11238058   \n",
       "3    $777,777    2701 - 65 St Mary Street  MLS® C11236562   \n",
       "4  $1,299,999         95 Grovedale Avenue  MLS® W11237401   \n",
       "\n",
       "                                               rooms  \\\n",
       "0  ['Kitchen', 'Living', 'Dining', 'Prim Bdrm', '...   \n",
       "1  ['Foyer', 'Living', 'Dining', 'Kitchen', 'Prim...   \n",
       "2  ['Living', 'Dining', 'Kitchen', 'Prim Bdrm', '...   \n",
       "3                  ['Living', 'Dining', 'Prim Bdrm']   \n",
       "4  ['Br', '2nd Br', '3rd Br', 'Bathroom', 'Kitche...   \n",
       "\n",
       "                                     room dimensions  \\\n",
       "0  ['2.44 x 3.36', '4.47 x 5.49', '3.05 x 3.36', ...   \n",
       "1  ['1.38 x 2.86', '3.66 x 4.18', '3.05 x 3.82', ...   \n",
       "2  ['3.05 x 3.63', '3.05 x 3.63', '3.00 x 3.05', ...   \n",
       "3      ['3.51 x 6.34', '3.51 x 6.34', '3.75 x 2.92']   \n",
       "4  ['3.03 x 4.18', '3.67 x 2.90', '3.67 x 4.33', ...   \n",
       "\n",
       "                                     room_properties Status       Type  \\\n",
       "0  ['Eat-In Kitchen, Hardwood Floor', 'Open Conce...   Sale  Condo Apt   \n",
       "1  ['Closet, Closet Organizers, Hardwood Floor', ...   Sale  Condo Apt   \n",
       "2  ['W/O To Balcony, Large Window, Laminate', 'Op...   Sale  Condo Apt   \n",
       "3  ['Hardwood Floor, Combined W/Dining, W/O To Ba...   Sale  Condo Apt   \n",
       "4  ['Above Grade Window, Closet', 'Above Grade Wi...   Sale   Detached   \n",
       "\n",
       "       Style Size (sq ft)  ... Percent Building Soil Test Com_cn_fee  \\\n",
       "0  Apartment    1000-1199  ...              NaN       NaN        NaN   \n",
       "1  Apartment    1000-1199  ...              NaN       NaN        NaN   \n",
       "2  Apartment      500-599  ...              NaN       NaN        NaN   \n",
       "3  Apartment      500-599  ...              NaN       NaN        NaN   \n",
       "4   Bungalow          NaN  ...              NaN       NaN        NaN   \n",
       "\n",
       "   Ceiling Height  Crane  Industrial Area  Industrial Area Units Central Vac  \\\n",
       "0             NaN    NaN              NaN                    NaN         NaN   \n",
       "1             NaN    NaN              NaN                    NaN         NaN   \n",
       "2             NaN    NaN              NaN                    NaN         NaN   \n",
       "3             NaN    NaN              NaN                    NaN         NaN   \n",
       "4             NaN    NaN              NaN                    NaN         NaN   \n",
       "\n",
       "         lat       long  \n",
       "0  43.685463 -79.519376  \n",
       "1  43.718664 -79.400593  \n",
       "2  43.655113 -79.375735  \n",
       "3  43.667206 -79.389162  \n",
       "4  43.716534 -79.489481  \n",
       "\n",
       "[5 rows x 221 columns]"
      ]
     },
     "execution_count": 30,
     "metadata": {},
     "output_type": "execute_result"
    }
   ],
   "source": [
    "zolo_data = pd.read_csv(zolo_csv)\n",
    "clean_and_update_coords(zolo_csv, output_csv).head()\n",
    "# pd.read_csv(output_csv).shape"
   ]
  },
  {
   "cell_type": "code",
   "execution_count": null,
   "metadata": {},
   "outputs": [
    {
     "data": {
      "text/html": [
       "<div>\n",
       "<style scoped>\n",
       "    .dataframe tbody tr th:only-of-type {\n",
       "        vertical-align: middle;\n",
       "    }\n",
       "\n",
       "    .dataframe tbody tr th {\n",
       "        vertical-align: top;\n",
       "    }\n",
       "\n",
       "    .dataframe thead th {\n",
       "        text-align: right;\n",
       "    }\n",
       "</style>\n",
       "<table border=\"1\" class=\"dataframe\">\n",
       "  <thead>\n",
       "    <tr style=\"text-align: right;\">\n",
       "      <th></th>\n",
       "      <th>Listed Price</th>\n",
       "      <th>Sold Price</th>\n",
       "      <th>Type</th>\n",
       "      <th>address</th>\n",
       "      <th>Lat</th>\n",
       "      <th>Long</th>\n",
       "      <th>Column_7</th>\n",
       "      <th>Column_8</th>\n",
       "      <th>Column_9</th>\n",
       "    </tr>\n",
       "  </thead>\n",
       "  <tbody>\n",
       "    <tr>\n",
       "      <th>0</th>\n",
       "      <td>$600,000</td>\n",
       "      <td>$605,000</td>\n",
       "      <td>Condo Apt</td>\n",
       "      <td>204 - 330 Red Maple Rd , Richmond Hill - Langs...</td>\n",
       "      <td>NaN</td>\n",
       "      <td>NaN</td>\n",
       "      <td>NaN</td>\n",
       "      <td>43.850877</td>\n",
       "      <td>-79.428248</td>\n",
       "    </tr>\n",
       "    <tr>\n",
       "      <th>1</th>\n",
       "      <td>$729,888</td>\n",
       "      <td>$680,000</td>\n",
       "      <td>Condo Apt</td>\n",
       "      <td>508 - 40 Richview Rd , Etobicoke - Humber Heights</td>\n",
       "      <td>NaN</td>\n",
       "      <td>NaN</td>\n",
       "      <td>NaN</td>\n",
       "      <td>43.685146</td>\n",
       "      <td>-79.515954</td>\n",
       "    </tr>\n",
       "    <tr>\n",
       "      <th>2</th>\n",
       "      <td>$619,900</td>\n",
       "      <td>$595,000</td>\n",
       "      <td>Condo Apt</td>\n",
       "      <td>1616 - 50 Mississauga Valley Blvd , Mississaug...</td>\n",
       "      <td>NaN</td>\n",
       "      <td>NaN</td>\n",
       "      <td>NaN</td>\n",
       "      <td>43.589720</td>\n",
       "      <td>-79.625824</td>\n",
       "    </tr>\n",
       "    <tr>\n",
       "      <th>3</th>\n",
       "      <td>$874,999</td>\n",
       "      <td>$815,000</td>\n",
       "      <td>Detached</td>\n",
       "      <td>24 Wallis Cres , Etobicoke - Mount Olive-Silve...</td>\n",
       "      <td>NaN</td>\n",
       "      <td>NaN</td>\n",
       "      <td>NaN</td>\n",
       "      <td>43.754292</td>\n",
       "      <td>-79.592347</td>\n",
       "    </tr>\n",
       "    <tr>\n",
       "      <th>4</th>\n",
       "      <td>$1,198,000</td>\n",
       "      <td>$1,148,000</td>\n",
       "      <td>Semi-Detached</td>\n",
       "      <td>27 Novella Rd , Vaughan - Patterson</td>\n",
       "      <td>NaN</td>\n",
       "      <td>NaN</td>\n",
       "      <td>NaN</td>\n",
       "      <td>43.840408</td>\n",
       "      <td>-79.487654</td>\n",
       "    </tr>\n",
       "    <tr>\n",
       "      <th>...</th>\n",
       "      <td>...</td>\n",
       "      <td>...</td>\n",
       "      <td>...</td>\n",
       "      <td>...</td>\n",
       "      <td>...</td>\n",
       "      <td>...</td>\n",
       "      <td>...</td>\n",
       "      <td>...</td>\n",
       "      <td>...</td>\n",
       "    </tr>\n",
       "    <tr>\n",
       "      <th>3995</th>\n",
       "      <td>$1,950,000</td>\n",
       "      <td>$1,900,000</td>\n",
       "      <td>Detached</td>\n",
       "      <td>9 Maxwell Ave , Toronto - Yonge-Eglinton</td>\n",
       "      <td>NaN</td>\n",
       "      <td>NaN</td>\n",
       "      <td>NaN</td>\n",
       "      <td>43.704518</td>\n",
       "      <td>-79.400851</td>\n",
       "    </tr>\n",
       "    <tr>\n",
       "      <th>3996</th>\n",
       "      <td>$719,000</td>\n",
       "      <td>$715,000</td>\n",
       "      <td>Condo Apt</td>\n",
       "      <td>1411 - 35 Mercer St , Toronto - Waterfront Com...</td>\n",
       "      <td>NaN</td>\n",
       "      <td>NaN</td>\n",
       "      <td>NaN</td>\n",
       "      <td>43.645486</td>\n",
       "      <td>-79.390941</td>\n",
       "    </tr>\n",
       "    <tr>\n",
       "      <th>3997</th>\n",
       "      <td>$578,000</td>\n",
       "      <td>$540,000</td>\n",
       "      <td>Condo Apt</td>\n",
       "      <td>402 - 131 Upper Duke Cres , Markham - Unionville</td>\n",
       "      <td>NaN</td>\n",
       "      <td>NaN</td>\n",
       "      <td>NaN</td>\n",
       "      <td>43.851981</td>\n",
       "      <td>-79.327382</td>\n",
       "    </tr>\n",
       "    <tr>\n",
       "      <th>3998</th>\n",
       "      <td>$599,000</td>\n",
       "      <td>$556,000</td>\n",
       "      <td>Condo Apt</td>\n",
       "      <td>902 - 300 Webb Dr , Mississauga - City Centre</td>\n",
       "      <td>NaN</td>\n",
       "      <td>NaN</td>\n",
       "      <td>NaN</td>\n",
       "      <td>43.585950</td>\n",
       "      <td>-79.640600</td>\n",
       "    </tr>\n",
       "    <tr>\n",
       "      <th>3999</th>\n",
       "      <td>$4,998,000</td>\n",
       "      <td>$4,650,000</td>\n",
       "      <td>Detached</td>\n",
       "      <td>32 Little Celeste Crt , Vaughan - Patterson</td>\n",
       "      <td>NaN</td>\n",
       "      <td>NaN</td>\n",
       "      <td>NaN</td>\n",
       "      <td>43.872705</td>\n",
       "      <td>-79.486828</td>\n",
       "    </tr>\n",
       "  </tbody>\n",
       "</table>\n",
       "<p>4000 rows × 9 columns</p>\n",
       "</div>"
      ],
      "text/plain": [
       "     Listed Price  Sold Price           Type  \\\n",
       "0        $600,000    $605,000      Condo Apt   \n",
       "1        $729,888    $680,000      Condo Apt   \n",
       "2        $619,900    $595,000      Condo Apt   \n",
       "3        $874,999    $815,000       Detached   \n",
       "4      $1,198,000  $1,148,000  Semi-Detached   \n",
       "...           ...         ...            ...   \n",
       "3995   $1,950,000  $1,900,000       Detached   \n",
       "3996     $719,000    $715,000      Condo Apt   \n",
       "3997     $578,000    $540,000      Condo Apt   \n",
       "3998     $599,000    $556,000      Condo Apt   \n",
       "3999   $4,998,000  $4,650,000       Detached   \n",
       "\n",
       "                                                address  Lat  Long  Column_7  \\\n",
       "0     204 - 330 Red Maple Rd , Richmond Hill - Langs...  NaN   NaN       NaN   \n",
       "1     508 - 40 Richview Rd , Etobicoke - Humber Heights  NaN   NaN       NaN   \n",
       "2     1616 - 50 Mississauga Valley Blvd , Mississaug...  NaN   NaN       NaN   \n",
       "3     24 Wallis Cres , Etobicoke - Mount Olive-Silve...  NaN   NaN       NaN   \n",
       "4                   27 Novella Rd , Vaughan - Patterson  NaN   NaN       NaN   \n",
       "...                                                 ...  ...   ...       ...   \n",
       "3995           9 Maxwell Ave , Toronto - Yonge-Eglinton  NaN   NaN       NaN   \n",
       "3996  1411 - 35 Mercer St , Toronto - Waterfront Com...  NaN   NaN       NaN   \n",
       "3997   402 - 131 Upper Duke Cres , Markham - Unionville  NaN   NaN       NaN   \n",
       "3998      902 - 300 Webb Dr , Mississauga - City Centre  NaN   NaN       NaN   \n",
       "3999        32 Little Celeste Crt , Vaughan - Patterson  NaN   NaN       NaN   \n",
       "\n",
       "       Column_8   Column_9  \n",
       "0     43.850877 -79.428248  \n",
       "1     43.685146 -79.515954  \n",
       "2     43.589720 -79.625824  \n",
       "3     43.754292 -79.592347  \n",
       "4     43.840408 -79.487654  \n",
       "...         ...        ...  \n",
       "3995  43.704518 -79.400851  \n",
       "3996  43.645486 -79.390941  \n",
       "3997  43.851981 -79.327382  \n",
       "3998  43.585950 -79.640600  \n",
       "3999  43.872705 -79.486828  \n",
       "\n",
       "[4000 rows x 9 columns]"
      ]
     },
     "execution_count": 112,
     "metadata": {},
     "output_type": "execute_result"
    }
   ],
   "source": [
    "housesigma_csv = parent_dir/'0_raw_data'/'house_data'/'extracted_houses_housesigma.csv'\n",
    "housesigma_with_coords_csv =  parent_dir/'0_raw_data'/'house_data'/'housesigma_data_with_coords.csv'\n",
    "df = pd.read_csv(housesigma_with_coords_csv)\n",
    "# Drop the first column by specifying its name\n",
    "\n",
    "process_dataframe_in_chunks(pd.read_csv(housesigma_csv), chunk_size=20, api_key=api_key, output_csv=output_csv)\n",
    "\n"
   ]
  },
  {
   "cell_type": "code",
   "execution_count": 29,
   "metadata": {},
   "outputs": [
    {
     "ename": "NameError",
     "evalue": "name 'housesigma_csv' is not defined",
     "output_type": "error",
     "traceback": [
      "\u001b[1;31m---------------------------------------------------------------------------\u001b[0m",
      "\u001b[1;31mNameError\u001b[0m                                 Traceback (most recent call last)",
      "Cell \u001b[1;32mIn[29], line 1\u001b[0m\n\u001b[1;32m----> 1\u001b[0m clean_and_update_coords(\u001b[43mhousesigma_csv\u001b[49m, housesigma_with_coords_csv)\u001b[38;5;241m.\u001b[39mhead()\n",
      "\u001b[1;31mNameError\u001b[0m: name 'housesigma_csv' is not defined"
     ]
    }
   ],
   "source": [
    "clean_and_update_coords(housesigma_csv, housesigma_with_coords_csv).head()\n"
   ]
  },
  {
   "cell_type": "code",
   "execution_count": 5,
   "metadata": {},
   "outputs": [
    {
     "ename": "NameError",
     "evalue": "name 'parent_dir' is not defined",
     "output_type": "error",
     "traceback": [
      "\u001b[1;31m---------------------------------------------------------------------------\u001b[0m",
      "\u001b[1;31mNameError\u001b[0m                                 Traceback (most recent call last)",
      "Cell \u001b[1;32mIn[5], line 1\u001b[0m\n\u001b[1;32m----> 1\u001b[0m housesigma_csv \u001b[38;5;241m=\u001b[39m \u001b[43mparent_dir\u001b[49m\u001b[38;5;241m/\u001b[39m\u001b[38;5;124m'\u001b[39m\u001b[38;5;124m0_raw_data\u001b[39m\u001b[38;5;124m'\u001b[39m\u001b[38;5;241m/\u001b[39m\u001b[38;5;124m'\u001b[39m\u001b[38;5;124mhouse_data\u001b[39m\u001b[38;5;124m'\u001b[39m\u001b[38;5;241m/\u001b[39m\u001b[38;5;124m'\u001b[39m\u001b[38;5;124mextracted_houses_housesigma_Year 2003.csv\u001b[39m\u001b[38;5;124m'\u001b[39m\n\u001b[0;32m      2\u001b[0m housesigma_with_coords_csv \u001b[38;5;241m=\u001b[39m  parent_dir\u001b[38;5;241m/\u001b[39m\u001b[38;5;124m'\u001b[39m\u001b[38;5;124m2_data_cleaning\u001b[39m\u001b[38;5;124m'\u001b[39m\u001b[38;5;241m/\u001b[39m\u001b[38;5;124m'\u001b[39m\u001b[38;5;124mcleaned_csv\u001b[39m\u001b[38;5;124m'\u001b[39m\u001b[38;5;241m/\u001b[39m\u001b[38;5;124m'\u001b[39m\u001b[38;5;124mhousesigma_data_2003_with_coords.csv\u001b[39m\u001b[38;5;124m'\u001b[39m\n\u001b[0;32m      3\u001b[0m historical_housesigma \u001b[38;5;241m=\u001b[39m pd\u001b[38;5;241m.\u001b[39mread_csv(housesigma_csv)\n",
      "\u001b[1;31mNameError\u001b[0m: name 'parent_dir' is not defined"
     ]
    }
   ],
   "source": [
    "housesigma_csv = parent_dir/'0_raw_data'/'house_data'/'extracted_houses_housesigma_Year 2003.csv'\n",
    "housesigma_with_coords_csv =  parent_dir/'2_data_cleaning'/'cleaned_csv'/'housesigma_data_2003_with_coords.csv'\n",
    "historical_housesigma = pd.read_csv(housesigma_csv)"
   ]
  },
  {
   "cell_type": "code",
   "execution_count": null,
   "metadata": {},
   "outputs": [
    {
     "name": "stdout",
     "output_type": "stream",
     "text": [
      "Resuming from row 8939.\n"
     ]
    },
    {
     "name": "stderr",
     "output_type": "stream",
     "text": [
      "100%|██████████| 1000/1000 [02:57<00:00,  5.64it/s]\n"
     ]
    },
    {
     "name": "stdout",
     "output_type": "stream",
     "text": [
      "Processed rows 8939 to 9939 and saved to c:\\Users\\Jensu\\OneDrive\\Documents\\GitHub\\CME358-Final_project\\2_data_cleaning\\cleaned_csv\\housesigma_data_2003_with_coords.csv.\n"
     ]
    },
    {
     "name": "stderr",
     "output_type": "stream",
     "text": [
      "100%|██████████| 1000/1000 [02:57<00:00,  5.64it/s]\n"
     ]
    },
    {
     "name": "stdout",
     "output_type": "stream",
     "text": [
      "Processed rows 9939 to 10939 and saved to c:\\Users\\Jensu\\OneDrive\\Documents\\GitHub\\CME358-Final_project\\2_data_cleaning\\cleaned_csv\\housesigma_data_2003_with_coords.csv.\n"
     ]
    },
    {
     "name": "stderr",
     "output_type": "stream",
     "text": [
      "100%|██████████| 1000/1000 [03:01<00:00,  5.52it/s]\n"
     ]
    },
    {
     "name": "stdout",
     "output_type": "stream",
     "text": [
      "Processed rows 10939 to 11939 and saved to c:\\Users\\Jensu\\OneDrive\\Documents\\GitHub\\CME358-Final_project\\2_data_cleaning\\cleaned_csv\\housesigma_data_2003_with_coords.csv.\n"
     ]
    },
    {
     "name": "stderr",
     "output_type": "stream",
     "text": [
      "100%|██████████| 1000/1000 [02:56<00:00,  5.65it/s]\n"
     ]
    },
    {
     "name": "stdout",
     "output_type": "stream",
     "text": [
      "Processed rows 11939 to 12939 and saved to c:\\Users\\Jensu\\OneDrive\\Documents\\GitHub\\CME358-Final_project\\2_data_cleaning\\cleaned_csv\\housesigma_data_2003_with_coords.csv.\n"
     ]
    },
    {
     "name": "stderr",
     "output_type": "stream",
     "text": [
      " 94%|█████████▍| 939/1000 [02:41<00:09,  6.16it/s]"
     ]
    },
    {
     "name": "stdout",
     "output_type": "stream",
     "text": [
      "Geocoding API error for address '117 Prairie Dr , Scarborough - Oakridge': ZERO_RESULTS\n"
     ]
    },
    {
     "name": "stderr",
     "output_type": "stream",
     "text": [
      "100%|██████████| 1000/1000 [02:51<00:00,  5.84it/s]\n"
     ]
    },
    {
     "name": "stdout",
     "output_type": "stream",
     "text": [
      "Processed rows 12939 to 13939 and saved to c:\\Users\\Jensu\\OneDrive\\Documents\\GitHub\\CME358-Final_project\\2_data_cleaning\\cleaned_csv\\housesigma_data_2003_with_coords.csv.\n"
     ]
    },
    {
     "name": "stderr",
     "output_type": "stream",
     "text": [
      "100%|██████████| 1000/1000 [02:53<00:00,  5.76it/s]\n"
     ]
    },
    {
     "name": "stdout",
     "output_type": "stream",
     "text": [
      "Processed rows 13939 to 14939 and saved to c:\\Users\\Jensu\\OneDrive\\Documents\\GitHub\\CME358-Final_project\\2_data_cleaning\\cleaned_csv\\housesigma_data_2003_with_coords.csv.\n"
     ]
    },
    {
     "name": "stderr",
     "output_type": "stream",
     "text": [
      "100%|██████████| 1000/1000 [02:55<00:00,  5.71it/s]\n"
     ]
    },
    {
     "name": "stdout",
     "output_type": "stream",
     "text": [
      "Processed rows 14939 to 15939 and saved to c:\\Users\\Jensu\\OneDrive\\Documents\\GitHub\\CME358-Final_project\\2_data_cleaning\\cleaned_csv\\housesigma_data_2003_with_coords.csv.\n"
     ]
    },
    {
     "name": "stderr",
     "output_type": "stream",
     "text": [
      " 80%|███████▉  | 798/1000 [02:17<00:32,  6.24it/s]"
     ]
    },
    {
     "name": "stdout",
     "output_type": "stream",
     "text": [
      "Geocoding API error for address '93 Prairie Dr , Scarborough - Oakridge': ZERO_RESULTS\n"
     ]
    },
    {
     "name": "stderr",
     "output_type": "stream",
     "text": [
      "100%|██████████| 1000/1000 [02:52<00:00,  5.80it/s]\n"
     ]
    },
    {
     "name": "stdout",
     "output_type": "stream",
     "text": [
      "Processed rows 15939 to 16939 and saved to c:\\Users\\Jensu\\OneDrive\\Documents\\GitHub\\CME358-Final_project\\2_data_cleaning\\cleaned_csv\\housesigma_data_2003_with_coords.csv.\n"
     ]
    },
    {
     "name": "stderr",
     "output_type": "stream",
     "text": [
      "100%|██████████| 1000/1000 [02:57<00:00,  5.63it/s]\n"
     ]
    },
    {
     "name": "stdout",
     "output_type": "stream",
     "text": [
      "Processed rows 16939 to 17939 and saved to c:\\Users\\Jensu\\OneDrive\\Documents\\GitHub\\CME358-Final_project\\2_data_cleaning\\cleaned_csv\\housesigma_data_2003_with_coords.csv.\n"
     ]
    },
    {
     "name": "stderr",
     "output_type": "stream",
     "text": [
      "100%|██████████| 1000/1000 [02:56<00:00,  5.66it/s]\n"
     ]
    },
    {
     "name": "stdout",
     "output_type": "stream",
     "text": [
      "Processed rows 17939 to 18939 and saved to c:\\Users\\Jensu\\OneDrive\\Documents\\GitHub\\CME358-Final_project\\2_data_cleaning\\cleaned_csv\\housesigma_data_2003_with_coords.csv.\n"
     ]
    },
    {
     "name": "stderr",
     "output_type": "stream",
     "text": [
      "100%|██████████| 1000/1000 [02:56<00:00,  5.66it/s]\n"
     ]
    },
    {
     "name": "stdout",
     "output_type": "stream",
     "text": [
      "Processed rows 18939 to 19939 and saved to c:\\Users\\Jensu\\OneDrive\\Documents\\GitHub\\CME358-Final_project\\2_data_cleaning\\cleaned_csv\\housesigma_data_2003_with_coords.csv.\n"
     ]
    },
    {
     "name": "stderr",
     "output_type": "stream",
     "text": [
      " 54%|█████▎    | 535/1000 [01:29<01:20,  5.80it/s]"
     ]
    },
    {
     "name": "stdout",
     "output_type": "stream",
     "text": [
      "Geocoding API error for address '94 Prairie Dr , Scarborough - Oakridge': ZERO_RESULTS\n"
     ]
    },
    {
     "name": "stderr",
     "output_type": "stream",
     "text": [
      "100%|██████████| 1000/1000 [02:51<00:00,  5.82it/s]\n"
     ]
    },
    {
     "name": "stdout",
     "output_type": "stream",
     "text": [
      "Processed rows 19939 to 20939 and saved to c:\\Users\\Jensu\\OneDrive\\Documents\\GitHub\\CME358-Final_project\\2_data_cleaning\\cleaned_csv\\housesigma_data_2003_with_coords.csv.\n"
     ]
    },
    {
     "name": "stderr",
     "output_type": "stream",
     "text": [
      " 67%|██████▋   | 669/1000 [01:58<00:52,  6.25it/s]"
     ]
    },
    {
     "name": "stdout",
     "output_type": "stream",
     "text": [
      "Geocoding API error for address '91 Prairie Dr , Scarborough - Oakridge': ZERO_RESULTS\n"
     ]
    },
    {
     "name": "stderr",
     "output_type": "stream",
     "text": [
      "100%|██████████| 1000/1000 [02:56<00:00,  5.66it/s]\n"
     ]
    },
    {
     "name": "stdout",
     "output_type": "stream",
     "text": [
      "Processed rows 20939 to 21939 and saved to c:\\Users\\Jensu\\OneDrive\\Documents\\GitHub\\CME358-Final_project\\2_data_cleaning\\cleaned_csv\\housesigma_data_2003_with_coords.csv.\n"
     ]
    },
    {
     "name": "stderr",
     "output_type": "stream",
     "text": [
      " 13%|█▎        | 130/1000 [00:22<02:29,  5.83it/s]"
     ]
    },
    {
     "name": "stdout",
     "output_type": "stream",
     "text": [
      "Geocoding API error for address '437 Indian Grve , Toronto - Junction Area': ZERO_RESULTS\n"
     ]
    },
    {
     "name": "stderr",
     "output_type": "stream",
     "text": [
      "100%|██████████| 1000/1000 [02:58<00:00,  5.61it/s]\n"
     ]
    },
    {
     "name": "stdout",
     "output_type": "stream",
     "text": [
      "Processed rows 21939 to 22939 and saved to c:\\Users\\Jensu\\OneDrive\\Documents\\GitHub\\CME358-Final_project\\2_data_cleaning\\cleaned_csv\\housesigma_data_2003_with_coords.csv.\n"
     ]
    },
    {
     "name": "stderr",
     "output_type": "stream",
     "text": [
      "100%|██████████| 1000/1000 [02:58<00:00,  5.61it/s]\n"
     ]
    },
    {
     "name": "stdout",
     "output_type": "stream",
     "text": [
      "Processed rows 22939 to 23939 and saved to c:\\Users\\Jensu\\OneDrive\\Documents\\GitHub\\CME358-Final_project\\2_data_cleaning\\cleaned_csv\\housesigma_data_2003_with_coords.csv.\n"
     ]
    },
    {
     "name": "stderr",
     "output_type": "stream",
     "text": [
      "100%|██████████| 1000/1000 [02:56<00:00,  5.67it/s]\n"
     ]
    },
    {
     "name": "stdout",
     "output_type": "stream",
     "text": [
      "Processed rows 23939 to 24939 and saved to c:\\Users\\Jensu\\OneDrive\\Documents\\GitHub\\CME358-Final_project\\2_data_cleaning\\cleaned_csv\\housesigma_data_2003_with_coords.csv.\n"
     ]
    },
    {
     "name": "stderr",
     "output_type": "stream",
     "text": [
      "100%|██████████| 1000/1000 [02:59<00:00,  5.57it/s]\n"
     ]
    },
    {
     "name": "stdout",
     "output_type": "stream",
     "text": [
      "Processed rows 24939 to 25939 and saved to c:\\Users\\Jensu\\OneDrive\\Documents\\GitHub\\CME358-Final_project\\2_data_cleaning\\cleaned_csv\\housesigma_data_2003_with_coords.csv.\n"
     ]
    },
    {
     "name": "stderr",
     "output_type": "stream",
     "text": [
      "100%|██████████| 1000/1000 [03:01<00:00,  5.50it/s]\n"
     ]
    },
    {
     "name": "stdout",
     "output_type": "stream",
     "text": [
      "Processed rows 25939 to 26939 and saved to c:\\Users\\Jensu\\OneDrive\\Documents\\GitHub\\CME358-Final_project\\2_data_cleaning\\cleaned_csv\\housesigma_data_2003_with_coords.csv.\n"
     ]
    },
    {
     "name": "stderr",
     "output_type": "stream",
     "text": [
      "100%|██████████| 1000/1000 [02:52<00:00,  5.78it/s]\n"
     ]
    },
    {
     "name": "stdout",
     "output_type": "stream",
     "text": [
      "Processed rows 26939 to 27939 and saved to c:\\Users\\Jensu\\OneDrive\\Documents\\GitHub\\CME358-Final_project\\2_data_cleaning\\cleaned_csv\\housesigma_data_2003_with_coords.csv.\n"
     ]
    },
    {
     "name": "stderr",
     "output_type": "stream",
     "text": [
      "100%|██████████| 1000/1000 [02:55<00:00,  5.69it/s]\n"
     ]
    },
    {
     "name": "stdout",
     "output_type": "stream",
     "text": [
      "Processed rows 27939 to 28939 and saved to c:\\Users\\Jensu\\OneDrive\\Documents\\GitHub\\CME358-Final_project\\2_data_cleaning\\cleaned_csv\\housesigma_data_2003_with_coords.csv.\n"
     ]
    },
    {
     "name": "stderr",
     "output_type": "stream",
     "text": [
      " 93%|█████████▎| 928/1000 [02:43<00:11,  6.00it/s]"
     ]
    },
    {
     "name": "stdout",
     "output_type": "stream",
     "text": [
      "Geocoding API error for address '87 Prairie Dr , Scarborough - Oakridge': ZERO_RESULTS\n"
     ]
    },
    {
     "name": "stderr",
     "output_type": "stream",
     "text": [
      "100%|██████████| 1000/1000 [02:56<00:00,  5.66it/s]\n"
     ]
    },
    {
     "name": "stdout",
     "output_type": "stream",
     "text": [
      "Processed rows 28939 to 29939 and saved to c:\\Users\\Jensu\\OneDrive\\Documents\\GitHub\\CME358-Final_project\\2_data_cleaning\\cleaned_csv\\housesigma_data_2003_with_coords.csv.\n"
     ]
    },
    {
     "name": "stderr",
     "output_type": "stream",
     "text": [
      "100%|██████████| 1000/1000 [02:54<00:00,  5.74it/s]\n"
     ]
    },
    {
     "name": "stdout",
     "output_type": "stream",
     "text": [
      "Processed rows 29939 to 30939 and saved to c:\\Users\\Jensu\\OneDrive\\Documents\\GitHub\\CME358-Final_project\\2_data_cleaning\\cleaned_csv\\housesigma_data_2003_with_coords.csv.\n"
     ]
    },
    {
     "name": "stderr",
     "output_type": "stream",
     "text": [
      "100%|██████████| 1000/1000 [02:47<00:00,  5.95it/s]\n"
     ]
    },
    {
     "name": "stdout",
     "output_type": "stream",
     "text": [
      "Processed rows 30939 to 31939 and saved to c:\\Users\\Jensu\\OneDrive\\Documents\\GitHub\\CME358-Final_project\\2_data_cleaning\\cleaned_csv\\housesigma_data_2003_with_coords.csv.\n"
     ]
    },
    {
     "name": "stderr",
     "output_type": "stream",
     "text": [
      "100%|██████████| 1000/1000 [02:53<00:00,  5.77it/s]\n"
     ]
    },
    {
     "name": "stdout",
     "output_type": "stream",
     "text": [
      "Processed rows 31939 to 32939 and saved to c:\\Users\\Jensu\\OneDrive\\Documents\\GitHub\\CME358-Final_project\\2_data_cleaning\\cleaned_csv\\housesigma_data_2003_with_coords.csv.\n"
     ]
    },
    {
     "name": "stderr",
     "output_type": "stream",
     "text": [
      " 22%|██▏       | 222/1000 [00:39<02:10,  5.96it/s]"
     ]
    },
    {
     "name": "stdout",
     "output_type": "stream",
     "text": [
      "Geocoding API error for address '2310 6 Cn , Ramara - Rural Ramara': ZERO_RESULTS\n"
     ]
    },
    {
     "name": "stderr",
     "output_type": "stream",
     "text": [
      "100%|██████████| 1000/1000 [02:53<00:00,  5.78it/s]\n"
     ]
    },
    {
     "name": "stdout",
     "output_type": "stream",
     "text": [
      "Processed rows 32939 to 33939 and saved to c:\\Users\\Jensu\\OneDrive\\Documents\\GitHub\\CME358-Final_project\\2_data_cleaning\\cleaned_csv\\housesigma_data_2003_with_coords.csv.\n"
     ]
    },
    {
     "name": "stderr",
     "output_type": "stream",
     "text": [
      "100%|██████████| 1000/1000 [02:52<00:00,  5.80it/s]\n"
     ]
    },
    {
     "name": "stdout",
     "output_type": "stream",
     "text": [
      "Processed rows 33939 to 34939 and saved to c:\\Users\\Jensu\\OneDrive\\Documents\\GitHub\\CME358-Final_project\\2_data_cleaning\\cleaned_csv\\housesigma_data_2003_with_coords.csv.\n"
     ]
    },
    {
     "name": "stderr",
     "output_type": "stream",
     "text": [
      "100%|██████████| 1000/1000 [02:55<00:00,  5.71it/s]\n"
     ]
    },
    {
     "name": "stdout",
     "output_type": "stream",
     "text": [
      "Processed rows 34939 to 35939 and saved to c:\\Users\\Jensu\\OneDrive\\Documents\\GitHub\\CME358-Final_project\\2_data_cleaning\\cleaned_csv\\housesigma_data_2003_with_coords.csv.\n"
     ]
    },
    {
     "name": "stderr",
     "output_type": "stream",
     "text": [
      " 43%|████▎     | 431/1000 [01:04<01:32,  6.16it/s]"
     ]
    },
    {
     "name": "stdout",
     "output_type": "stream",
     "text": [
      "Geocoding API error for address '86 Prairie Dr , Scarborough - Oakridge': ZERO_RESULTS\n"
     ]
    },
    {
     "name": "stderr",
     "output_type": "stream",
     "text": [
      "100%|██████████| 1000/1000 [02:37<00:00,  6.37it/s]\n"
     ]
    },
    {
     "name": "stdout",
     "output_type": "stream",
     "text": [
      "Processed rows 35939 to 36939 and saved to c:\\Users\\Jensu\\OneDrive\\Documents\\GitHub\\CME358-Final_project\\2_data_cleaning\\cleaned_csv\\housesigma_data_2003_with_coords.csv.\n"
     ]
    },
    {
     "name": "stderr",
     "output_type": "stream",
     "text": [
      " 10%|▉         | 97/1000 [00:16<02:28,  6.07it/s]"
     ]
    },
    {
     "name": "stdout",
     "output_type": "stream",
     "text": [
      "Geocoding API error for address '110 Prairie Dr , Scarborough - Oakridge': ZERO_RESULTS\n"
     ]
    },
    {
     "name": "stderr",
     "output_type": "stream",
     "text": [
      "100%|██████████| 1000/1000 [02:56<00:00,  5.67it/s]\n"
     ]
    },
    {
     "name": "stdout",
     "output_type": "stream",
     "text": [
      "Processed rows 36939 to 37939 and saved to c:\\Users\\Jensu\\OneDrive\\Documents\\GitHub\\CME358-Final_project\\2_data_cleaning\\cleaned_csv\\housesigma_data_2003_with_coords.csv.\n"
     ]
    },
    {
     "name": "stderr",
     "output_type": "stream",
     "text": [
      "  5%|▍         | 47/1000 [00:07<02:39,  5.97it/s]"
     ]
    },
    {
     "name": "stdout",
     "output_type": "stream",
     "text": [
      "Geocoding API error for address '89 Prairie Dr , Scarborough - Oakridge': ZERO_RESULTS\n"
     ]
    },
    {
     "name": "stderr",
     "output_type": "stream",
     "text": [
      "100%|██████████| 1000/1000 [02:51<00:00,  5.82it/s]\n"
     ]
    },
    {
     "name": "stdout",
     "output_type": "stream",
     "text": [
      "Processed rows 37939 to 38939 and saved to c:\\Users\\Jensu\\OneDrive\\Documents\\GitHub\\CME358-Final_project\\2_data_cleaning\\cleaned_csv\\housesigma_data_2003_with_coords.csv.\n"
     ]
    },
    {
     "name": "stderr",
     "output_type": "stream",
     "text": [
      "100%|██████████| 1000/1000 [02:54<00:00,  5.73it/s]\n"
     ]
    },
    {
     "name": "stdout",
     "output_type": "stream",
     "text": [
      "Processed rows 38939 to 39939 and saved to c:\\Users\\Jensu\\OneDrive\\Documents\\GitHub\\CME358-Final_project\\2_data_cleaning\\cleaned_csv\\housesigma_data_2003_with_coords.csv.\n"
     ]
    },
    {
     "name": "stderr",
     "output_type": "stream",
     "text": [
      "100%|██████████| 1000/1000 [02:54<00:00,  5.72it/s]\n"
     ]
    },
    {
     "name": "stdout",
     "output_type": "stream",
     "text": [
      "Processed rows 39939 to 40939 and saved to c:\\Users\\Jensu\\OneDrive\\Documents\\GitHub\\CME358-Final_project\\2_data_cleaning\\cleaned_csv\\housesigma_data_2003_with_coords.csv.\n"
     ]
    },
    {
     "name": "stderr",
     "output_type": "stream",
     "text": [
      "  9%|▉         | 91/1000 [00:15<02:36,  5.82it/s]"
     ]
    },
    {
     "name": "stdout",
     "output_type": "stream",
     "text": [
      "Geocoding API error for address '88 Prairie Dr , Scarborough - Oakridge': ZERO_RESULTS\n"
     ]
    },
    {
     "name": "stderr",
     "output_type": "stream",
     "text": [
      " 95%|█████████▌| 952/1000 [02:46<00:08,  5.74it/s]"
     ]
    },
    {
     "name": "stdout",
     "output_type": "stream",
     "text": [
      "Geocoding API error for address '95 Prairie Dr , Scarborough - Oakridge': ZERO_RESULTS\n"
     ]
    },
    {
     "name": "stderr",
     "output_type": "stream",
     "text": [
      "100%|██████████| 1000/1000 [02:55<00:00,  5.71it/s]\n"
     ]
    },
    {
     "name": "stdout",
     "output_type": "stream",
     "text": [
      "Processed rows 40939 to 41939 and saved to c:\\Users\\Jensu\\OneDrive\\Documents\\GitHub\\CME358-Final_project\\2_data_cleaning\\cleaned_csv\\housesigma_data_2003_with_coords.csv.\n"
     ]
    },
    {
     "name": "stderr",
     "output_type": "stream",
     "text": [
      " 64%|██████▎   | 637/1000 [01:50<00:59,  6.11it/s]"
     ]
    },
    {
     "name": "stdout",
     "output_type": "stream",
     "text": [
      "Geocoding API error for address '86 Prairie Dr , Scarborough - Oakridge': ZERO_RESULTS\n"
     ]
    },
    {
     "name": "stderr",
     "output_type": "stream",
     "text": [
      "100%|██████████| 1000/1000 [02:54<00:00,  5.72it/s]\n"
     ]
    },
    {
     "name": "stdout",
     "output_type": "stream",
     "text": [
      "Processed rows 41939 to 42939 and saved to c:\\Users\\Jensu\\OneDrive\\Documents\\GitHub\\CME358-Final_project\\2_data_cleaning\\cleaned_csv\\housesigma_data_2003_with_coords.csv.\n"
     ]
    },
    {
     "name": "stderr",
     "output_type": "stream",
     "text": [
      "100%|██████████| 1000/1000 [02:55<00:00,  5.68it/s]\n"
     ]
    },
    {
     "name": "stdout",
     "output_type": "stream",
     "text": [
      "Processed rows 42939 to 43939 and saved to c:\\Users\\Jensu\\OneDrive\\Documents\\GitHub\\CME358-Final_project\\2_data_cleaning\\cleaned_csv\\housesigma_data_2003_with_coords.csv.\n"
     ]
    },
    {
     "name": "stderr",
     "output_type": "stream",
     "text": [
      "100%|██████████| 1000/1000 [02:54<00:00,  5.72it/s]\n"
     ]
    },
    {
     "name": "stdout",
     "output_type": "stream",
     "text": [
      "Processed rows 43939 to 44939 and saved to c:\\Users\\Jensu\\OneDrive\\Documents\\GitHub\\CME358-Final_project\\2_data_cleaning\\cleaned_csv\\housesigma_data_2003_with_coords.csv.\n"
     ]
    },
    {
     "name": "stderr",
     "output_type": "stream",
     "text": [
      "100%|██████████| 1000/1000 [02:55<00:00,  5.69it/s]\n"
     ]
    },
    {
     "name": "stdout",
     "output_type": "stream",
     "text": [
      "Processed rows 44939 to 45939 and saved to c:\\Users\\Jensu\\OneDrive\\Documents\\GitHub\\CME358-Final_project\\2_data_cleaning\\cleaned_csv\\housesigma_data_2003_with_coords.csv.\n"
     ]
    },
    {
     "name": "stderr",
     "output_type": "stream",
     "text": [
      "100%|██████████| 1000/1000 [02:51<00:00,  5.85it/s]\n"
     ]
    },
    {
     "name": "stdout",
     "output_type": "stream",
     "text": [
      "Processed rows 45939 to 46939 and saved to c:\\Users\\Jensu\\OneDrive\\Documents\\GitHub\\CME358-Final_project\\2_data_cleaning\\cleaned_csv\\housesigma_data_2003_with_coords.csv.\n"
     ]
    },
    {
     "name": "stderr",
     "output_type": "stream",
     "text": [
      "100%|██████████| 1000/1000 [02:53<00:00,  5.77it/s]\n"
     ]
    },
    {
     "name": "stdout",
     "output_type": "stream",
     "text": [
      "Processed rows 46939 to 47939 and saved to c:\\Users\\Jensu\\OneDrive\\Documents\\GitHub\\CME358-Final_project\\2_data_cleaning\\cleaned_csv\\housesigma_data_2003_with_coords.csv.\n"
     ]
    },
    {
     "name": "stderr",
     "output_type": "stream",
     "text": [
      "100%|██████████| 1000/1000 [02:51<00:00,  5.84it/s]\n"
     ]
    },
    {
     "name": "stdout",
     "output_type": "stream",
     "text": [
      "Processed rows 47939 to 48939 and saved to c:\\Users\\Jensu\\OneDrive\\Documents\\GitHub\\CME358-Final_project\\2_data_cleaning\\cleaned_csv\\housesigma_data_2003_with_coords.csv.\n"
     ]
    },
    {
     "name": "stderr",
     "output_type": "stream",
     "text": [
      " 14%|█▍        | 140/1000 [00:24<02:27,  5.82it/s]"
     ]
    },
    {
     "name": "stdout",
     "output_type": "stream",
     "text": [
      "Geocoding API error for address '3 Donside Dr , Scarborough - Oakridge': ZERO_RESULTS\n"
     ]
    },
    {
     "name": "stderr",
     "output_type": "stream",
     "text": [
      "100%|██████████| 1000/1000 [02:52<00:00,  5.81it/s]\n"
     ]
    },
    {
     "name": "stdout",
     "output_type": "stream",
     "text": [
      "Processed rows 48939 to 49939 and saved to c:\\Users\\Jensu\\OneDrive\\Documents\\GitHub\\CME358-Final_project\\2_data_cleaning\\cleaned_csv\\housesigma_data_2003_with_coords.csv.\n"
     ]
    },
    {
     "name": "stderr",
     "output_type": "stream",
     "text": [
      "100%|██████████| 1000/1000 [02:51<00:00,  5.82it/s]\n"
     ]
    },
    {
     "name": "stdout",
     "output_type": "stream",
     "text": [
      "Processed rows 49939 to 50939 and saved to c:\\Users\\Jensu\\OneDrive\\Documents\\GitHub\\CME358-Final_project\\2_data_cleaning\\cleaned_csv\\housesigma_data_2003_with_coords.csv.\n"
     ]
    },
    {
     "name": "stderr",
     "output_type": "stream",
     "text": [
      " 10%|▉         | 97/1000 [00:16<02:30,  6.02it/s]"
     ]
    },
    {
     "name": "stdout",
     "output_type": "stream",
     "text": [
      "Geocoding API error for address '111 Prairie Dr , Scarborough - Oakridge': ZERO_RESULTS\n"
     ]
    },
    {
     "name": "stderr",
     "output_type": "stream",
     "text": [
      "100%|██████████| 1000/1000 [02:54<00:00,  5.73it/s]\n"
     ]
    },
    {
     "name": "stdout",
     "output_type": "stream",
     "text": [
      "Processed rows 50939 to 51939 and saved to c:\\Users\\Jensu\\OneDrive\\Documents\\GitHub\\CME358-Final_project\\2_data_cleaning\\cleaned_csv\\housesigma_data_2003_with_coords.csv.\n"
     ]
    },
    {
     "name": "stderr",
     "output_type": "stream",
     "text": [
      "100%|██████████| 1000/1000 [02:47<00:00,  5.96it/s]\n"
     ]
    },
    {
     "name": "stdout",
     "output_type": "stream",
     "text": [
      "Processed rows 51939 to 52939 and saved to c:\\Users\\Jensu\\OneDrive\\Documents\\GitHub\\CME358-Final_project\\2_data_cleaning\\cleaned_csv\\housesigma_data_2003_with_coords.csv.\n"
     ]
    },
    {
     "name": "stderr",
     "output_type": "stream",
     "text": [
      "100%|██████████| 1000/1000 [02:51<00:00,  5.83it/s]\n"
     ]
    },
    {
     "name": "stdout",
     "output_type": "stream",
     "text": [
      "Processed rows 52939 to 53939 and saved to c:\\Users\\Jensu\\OneDrive\\Documents\\GitHub\\CME358-Final_project\\2_data_cleaning\\cleaned_csv\\housesigma_data_2003_with_coords.csv.\n"
     ]
    },
    {
     "name": "stderr",
     "output_type": "stream",
     "text": [
      "100%|██████████| 1000/1000 [02:53<00:00,  5.76it/s]\n"
     ]
    },
    {
     "name": "stdout",
     "output_type": "stream",
     "text": [
      "Processed rows 53939 to 54939 and saved to c:\\Users\\Jensu\\OneDrive\\Documents\\GitHub\\CME358-Final_project\\2_data_cleaning\\cleaned_csv\\housesigma_data_2003_with_coords.csv.\n"
     ]
    },
    {
     "name": "stderr",
     "output_type": "stream",
     "text": [
      " 94%|█████████▍| 944/1000 [02:46<00:11,  4.94it/s]"
     ]
    },
    {
     "name": "stdout",
     "output_type": "stream",
     "text": [
      "Geocoding API error for address '89 Prairie Dr , Scarborough - Oakridge': ZERO_RESULTS\n"
     ]
    },
    {
     "name": "stderr",
     "output_type": "stream",
     "text": [
      "100%|██████████| 1000/1000 [02:56<00:00,  5.67it/s]\n"
     ]
    },
    {
     "name": "stdout",
     "output_type": "stream",
     "text": [
      "Processed rows 54939 to 55939 and saved to c:\\Users\\Jensu\\OneDrive\\Documents\\GitHub\\CME358-Final_project\\2_data_cleaning\\cleaned_csv\\housesigma_data_2003_with_coords.csv.\n"
     ]
    },
    {
     "name": "stderr",
     "output_type": "stream",
     "text": [
      "100%|██████████| 1000/1000 [02:50<00:00,  5.87it/s]\n"
     ]
    },
    {
     "name": "stdout",
     "output_type": "stream",
     "text": [
      "Processed rows 55939 to 56939 and saved to c:\\Users\\Jensu\\OneDrive\\Documents\\GitHub\\CME358-Final_project\\2_data_cleaning\\cleaned_csv\\housesigma_data_2003_with_coords.csv.\n"
     ]
    },
    {
     "name": "stderr",
     "output_type": "stream",
     "text": [
      "100%|██████████| 1000/1000 [02:54<00:00,  5.74it/s]\n"
     ]
    },
    {
     "name": "stdout",
     "output_type": "stream",
     "text": [
      "Processed rows 56939 to 57939 and saved to c:\\Users\\Jensu\\OneDrive\\Documents\\GitHub\\CME358-Final_project\\2_data_cleaning\\cleaned_csv\\housesigma_data_2003_with_coords.csv.\n"
     ]
    },
    {
     "name": "stderr",
     "output_type": "stream",
     "text": [
      "  7%|▋         | 68/1000 [00:11<02:34,  6.02it/s]"
     ]
    },
    {
     "name": "stdout",
     "output_type": "stream",
     "text": [
      "Geocoding API error for address '83 5 Cn E , Tiny - Rural Tiny': ZERO_RESULTS\n"
     ]
    },
    {
     "name": "stderr",
     "output_type": "stream",
     "text": [
      " 61%|██████▏   | 613/1000 [01:46<01:04,  6.03it/s]"
     ]
    },
    {
     "name": "stdout",
     "output_type": "stream",
     "text": [
      "Geocoding API error for address '90 Prairie Dr , Scarborough - Oakridge': ZERO_RESULTS\n"
     ]
    },
    {
     "name": "stderr",
     "output_type": "stream",
     "text": [
      "100%|██████████| 1000/1000 [02:53<00:00,  5.76it/s]\n"
     ]
    },
    {
     "name": "stdout",
     "output_type": "stream",
     "text": [
      "Processed rows 57939 to 58939 and saved to c:\\Users\\Jensu\\OneDrive\\Documents\\GitHub\\CME358-Final_project\\2_data_cleaning\\cleaned_csv\\housesigma_data_2003_with_coords.csv.\n"
     ]
    },
    {
     "name": "stderr",
     "output_type": "stream",
     "text": [
      " 13%|█▎        | 126/1000 [00:21<02:27,  5.92it/s]"
     ]
    },
    {
     "name": "stdout",
     "output_type": "stream",
     "text": [
      "Geocoding API error for address '92 Prairie Dr , Scarborough - Oakridge': ZERO_RESULTS\n"
     ]
    },
    {
     "name": "stderr",
     "output_type": "stream",
     "text": [
      "100%|██████████| 1000/1000 [02:53<00:00,  5.76it/s]\n"
     ]
    },
    {
     "name": "stdout",
     "output_type": "stream",
     "text": [
      "Processed rows 58939 to 59939 and saved to c:\\Users\\Jensu\\OneDrive\\Documents\\GitHub\\CME358-Final_project\\2_data_cleaning\\cleaned_csv\\housesigma_data_2003_with_coords.csv.\n"
     ]
    },
    {
     "name": "stderr",
     "output_type": "stream",
     "text": [
      "100%|██████████| 1000/1000 [02:51<00:00,  5.85it/s]\n"
     ]
    },
    {
     "name": "stdout",
     "output_type": "stream",
     "text": [
      "Processed rows 59939 to 60939 and saved to c:\\Users\\Jensu\\OneDrive\\Documents\\GitHub\\CME358-Final_project\\2_data_cleaning\\cleaned_csv\\housesigma_data_2003_with_coords.csv.\n"
     ]
    },
    {
     "name": "stderr",
     "output_type": "stream",
     "text": [
      "100%|██████████| 1000/1000 [02:52<00:00,  5.80it/s]\n"
     ]
    },
    {
     "name": "stdout",
     "output_type": "stream",
     "text": [
      "Processed rows 60939 to 61939 and saved to c:\\Users\\Jensu\\OneDrive\\Documents\\GitHub\\CME358-Final_project\\2_data_cleaning\\cleaned_csv\\housesigma_data_2003_with_coords.csv.\n"
     ]
    },
    {
     "name": "stderr",
     "output_type": "stream",
     "text": [
      "100%|██████████| 1000/1000 [02:54<00:00,  5.72it/s]\n"
     ]
    },
    {
     "name": "stdout",
     "output_type": "stream",
     "text": [
      "Processed rows 61939 to 62939 and saved to c:\\Users\\Jensu\\OneDrive\\Documents\\GitHub\\CME358-Final_project\\2_data_cleaning\\cleaned_csv\\housesigma_data_2003_with_coords.csv.\n"
     ]
    },
    {
     "name": "stderr",
     "output_type": "stream",
     "text": [
      "100%|██████████| 1000/1000 [02:55<00:00,  5.71it/s]\n"
     ]
    },
    {
     "name": "stdout",
     "output_type": "stream",
     "text": [
      "Processed rows 62939 to 63939 and saved to c:\\Users\\Jensu\\OneDrive\\Documents\\GitHub\\CME358-Final_project\\2_data_cleaning\\cleaned_csv\\housesigma_data_2003_with_coords.csv.\n"
     ]
    },
    {
     "name": "stderr",
     "output_type": "stream",
     "text": [
      "100%|██████████| 1000/1000 [02:52<00:00,  5.79it/s]\n"
     ]
    },
    {
     "name": "stdout",
     "output_type": "stream",
     "text": [
      "Processed rows 63939 to 64939 and saved to c:\\Users\\Jensu\\OneDrive\\Documents\\GitHub\\CME358-Final_project\\2_data_cleaning\\cleaned_csv\\housesigma_data_2003_with_coords.csv.\n"
     ]
    },
    {
     "name": "stderr",
     "output_type": "stream",
     "text": [
      "100%|██████████| 1000/1000 [02:54<00:00,  5.73it/s]\n"
     ]
    },
    {
     "name": "stdout",
     "output_type": "stream",
     "text": [
      "Processed rows 64939 to 65939 and saved to c:\\Users\\Jensu\\OneDrive\\Documents\\GitHub\\CME358-Final_project\\2_data_cleaning\\cleaned_csv\\housesigma_data_2003_with_coords.csv.\n"
     ]
    },
    {
     "name": "stderr",
     "output_type": "stream",
     "text": [
      "100%|██████████| 1000/1000 [02:54<00:00,  5.75it/s]\n"
     ]
    },
    {
     "name": "stdout",
     "output_type": "stream",
     "text": [
      "Processed rows 65939 to 66939 and saved to c:\\Users\\Jensu\\OneDrive\\Documents\\GitHub\\CME358-Final_project\\2_data_cleaning\\cleaned_csv\\housesigma_data_2003_with_coords.csv.\n"
     ]
    },
    {
     "name": "stderr",
     "output_type": "stream",
     "text": [
      " 52%|█████▏    | 517/1000 [01:30<01:21,  5.96it/s]"
     ]
    },
    {
     "name": "stdout",
     "output_type": "stream",
     "text": [
      "Geocoding API error for address '365 Mill St , Essa - Angus': ZERO_RESULTS\n"
     ]
    },
    {
     "name": "stderr",
     "output_type": "stream",
     "text": [
      "100%|██████████| 1000/1000 [02:55<00:00,  5.69it/s]\n"
     ]
    },
    {
     "name": "stdout",
     "output_type": "stream",
     "text": [
      "Processed rows 66939 to 67939 and saved to c:\\Users\\Jensu\\OneDrive\\Documents\\GitHub\\CME358-Final_project\\2_data_cleaning\\cleaned_csv\\housesigma_data_2003_with_coords.csv.\n"
     ]
    },
    {
     "name": "stderr",
     "output_type": "stream",
     "text": [
      "100%|██████████| 1000/1000 [02:50<00:00,  5.86it/s]\n"
     ]
    },
    {
     "name": "stdout",
     "output_type": "stream",
     "text": [
      "Processed rows 67939 to 68939 and saved to c:\\Users\\Jensu\\OneDrive\\Documents\\GitHub\\CME358-Final_project\\2_data_cleaning\\cleaned_csv\\housesigma_data_2003_with_coords.csv.\n"
     ]
    },
    {
     "name": "stderr",
     "output_type": "stream",
     "text": [
      "100%|██████████| 1000/1000 [02:55<00:00,  5.71it/s]\n"
     ]
    },
    {
     "name": "stdout",
     "output_type": "stream",
     "text": [
      "Processed rows 68939 to 69939 and saved to c:\\Users\\Jensu\\OneDrive\\Documents\\GitHub\\CME358-Final_project\\2_data_cleaning\\cleaned_csv\\housesigma_data_2003_with_coords.csv.\n"
     ]
    },
    {
     "name": "stderr",
     "output_type": "stream",
     "text": [
      " 51%|█████     | 509/1000 [01:27<01:17,  6.35it/s]"
     ]
    },
    {
     "name": "stdout",
     "output_type": "stream",
     "text": [
      "Geocoding API error for address '14 Reilly's Ru , Springwater - Snow Valley': ZERO_RESULTS\n"
     ]
    },
    {
     "name": "stderr",
     "output_type": "stream",
     "text": [
      " 79%|███████▉  | 789/1000 [02:16<00:35,  5.89it/s]"
     ]
    },
    {
     "name": "stdout",
     "output_type": "stream",
     "text": [
      "Geocoding API error for address '118 Prairie Dr , Scarborough - Oakridge': ZERO_RESULTS\n"
     ]
    },
    {
     "name": "stderr",
     "output_type": "stream",
     "text": [
      "100%|██████████| 1000/1000 [02:54<00:00,  5.73it/s]\n"
     ]
    },
    {
     "name": "stdout",
     "output_type": "stream",
     "text": [
      "Processed rows 69939 to 70939 and saved to c:\\Users\\Jensu\\OneDrive\\Documents\\GitHub\\CME358-Final_project\\2_data_cleaning\\cleaned_csv\\housesigma_data_2003_with_coords.csv.\n"
     ]
    },
    {
     "name": "stderr",
     "output_type": "stream",
     "text": [
      " 74%|███████▎  | 735/1000 [02:08<00:43,  6.15it/s]"
     ]
    },
    {
     "name": "stdout",
     "output_type": "stream",
     "text": [
      "Geocoding API error for address '84 Prairie Dr , Scarborough - Oakridge': ZERO_RESULTS\n"
     ]
    },
    {
     "name": "stderr",
     "output_type": "stream",
     "text": [
      "100%|██████████| 1000/1000 [02:54<00:00,  5.73it/s]\n"
     ]
    },
    {
     "name": "stdout",
     "output_type": "stream",
     "text": [
      "Processed rows 70939 to 71939 and saved to c:\\Users\\Jensu\\OneDrive\\Documents\\GitHub\\CME358-Final_project\\2_data_cleaning\\cleaned_csv\\housesigma_data_2003_with_coords.csv.\n"
     ]
    },
    {
     "name": "stderr",
     "output_type": "stream",
     "text": [
      "100%|██████████| 1000/1000 [02:34<00:00,  6.47it/s]\n"
     ]
    },
    {
     "name": "stdout",
     "output_type": "stream",
     "text": [
      "Processed rows 71939 to 72939 and saved to c:\\Users\\Jensu\\OneDrive\\Documents\\GitHub\\CME358-Final_project\\2_data_cleaning\\cleaned_csv\\housesigma_data_2003_with_coords.csv.\n"
     ]
    },
    {
     "name": "stderr",
     "output_type": "stream",
     "text": [
      "100%|██████████| 1000/1000 [02:25<00:00,  6.89it/s]\n"
     ]
    },
    {
     "name": "stdout",
     "output_type": "stream",
     "text": [
      "Processed rows 72939 to 73939 and saved to c:\\Users\\Jensu\\OneDrive\\Documents\\GitHub\\CME358-Final_project\\2_data_cleaning\\cleaned_csv\\housesigma_data_2003_with_coords.csv.\n"
     ]
    },
    {
     "name": "stderr",
     "output_type": "stream",
     "text": [
      "100%|██████████| 1000/1000 [02:26<00:00,  6.83it/s]\n"
     ]
    },
    {
     "name": "stdout",
     "output_type": "stream",
     "text": [
      "Processed rows 73939 to 74939 and saved to c:\\Users\\Jensu\\OneDrive\\Documents\\GitHub\\CME358-Final_project\\2_data_cleaning\\cleaned_csv\\housesigma_data_2003_with_coords.csv.\n"
     ]
    },
    {
     "name": "stderr",
     "output_type": "stream",
     "text": [
      " 59%|█████▉    | 592/1000 [01:26<01:03,  6.43it/s]"
     ]
    },
    {
     "name": "stdout",
     "output_type": "stream",
     "text": [
      "Geocoding API error for address '10 Lakeshore Dr , Toronto - The Islands': ZERO_RESULTS\n"
     ]
    },
    {
     "name": "stderr",
     "output_type": "stream",
     "text": [
      "100%|██████████| 1000/1000 [02:23<00:00,  6.97it/s]\n"
     ]
    },
    {
     "name": "stdout",
     "output_type": "stream",
     "text": [
      "Processed rows 74939 to 75939 and saved to c:\\Users\\Jensu\\OneDrive\\Documents\\GitHub\\CME358-Final_project\\2_data_cleaning\\cleaned_csv\\housesigma_data_2003_with_coords.csv.\n"
     ]
    },
    {
     "name": "stderr",
     "output_type": "stream",
     "text": [
      "100%|██████████| 1000/1000 [02:20<00:00,  7.12it/s]\n"
     ]
    },
    {
     "name": "stdout",
     "output_type": "stream",
     "text": [
      "Processed rows 75939 to 76939 and saved to c:\\Users\\Jensu\\OneDrive\\Documents\\GitHub\\CME358-Final_project\\2_data_cleaning\\cleaned_csv\\housesigma_data_2003_with_coords.csv.\n"
     ]
    },
    {
     "name": "stderr",
     "output_type": "stream",
     "text": [
      "100%|██████████| 1000/1000 [02:18<00:00,  7.25it/s]\n"
     ]
    },
    {
     "name": "stdout",
     "output_type": "stream",
     "text": [
      "Processed rows 76939 to 77939 and saved to c:\\Users\\Jensu\\OneDrive\\Documents\\GitHub\\CME358-Final_project\\2_data_cleaning\\cleaned_csv\\housesigma_data_2003_with_coords.csv.\n"
     ]
    },
    {
     "name": "stderr",
     "output_type": "stream",
     "text": [
      "100%|██████████| 1000/1000 [02:22<00:00,  7.03it/s]\n"
     ]
    },
    {
     "name": "stdout",
     "output_type": "stream",
     "text": [
      "Processed rows 77939 to 78939 and saved to c:\\Users\\Jensu\\OneDrive\\Documents\\GitHub\\CME358-Final_project\\2_data_cleaning\\cleaned_csv\\housesigma_data_2003_with_coords.csv.\n"
     ]
    },
    {
     "name": "stderr",
     "output_type": "stream",
     "text": [
      "100%|██████████| 1000/1000 [02:29<00:00,  6.67it/s]\n"
     ]
    },
    {
     "name": "stdout",
     "output_type": "stream",
     "text": [
      "Processed rows 78939 to 79939 and saved to c:\\Users\\Jensu\\OneDrive\\Documents\\GitHub\\CME358-Final_project\\2_data_cleaning\\cleaned_csv\\housesigma_data_2003_with_coords.csv.\n"
     ]
    },
    {
     "name": "stderr",
     "output_type": "stream",
     "text": [
      " 60%|██████    | 603/1000 [01:24<00:53,  7.48it/s]"
     ]
    },
    {
     "name": "stdout",
     "output_type": "stream",
     "text": [
      "Geocoding API error for address '112 Prairie Dr , Scarborough - Oakridge': ZERO_RESULTS\n"
     ]
    },
    {
     "name": "stderr",
     "output_type": "stream",
     "text": [
      "100%|██████████| 1000/1000 [02:21<00:00,  7.07it/s]\n"
     ]
    },
    {
     "name": "stdout",
     "output_type": "stream",
     "text": [
      "Processed rows 79939 to 80939 and saved to c:\\Users\\Jensu\\OneDrive\\Documents\\GitHub\\CME358-Final_project\\2_data_cleaning\\cleaned_csv\\housesigma_data_2003_with_coords.csv.\n"
     ]
    },
    {
     "name": "stderr",
     "output_type": "stream",
     "text": [
      "100%|██████████| 1000/1000 [02:21<00:00,  7.07it/s]\n"
     ]
    },
    {
     "name": "stdout",
     "output_type": "stream",
     "text": [
      "Processed rows 80939 to 81939 and saved to c:\\Users\\Jensu\\OneDrive\\Documents\\GitHub\\CME358-Final_project\\2_data_cleaning\\cleaned_csv\\housesigma_data_2003_with_coords.csv.\n"
     ]
    },
    {
     "name": "stderr",
     "output_type": "stream",
     "text": [
      "100%|██████████| 1000/1000 [02:16<00:00,  7.31it/s]\n"
     ]
    },
    {
     "name": "stdout",
     "output_type": "stream",
     "text": [
      "Processed rows 81939 to 82939 and saved to c:\\Users\\Jensu\\OneDrive\\Documents\\GitHub\\CME358-Final_project\\2_data_cleaning\\cleaned_csv\\housesigma_data_2003_with_coords.csv.\n"
     ]
    },
    {
     "name": "stderr",
     "output_type": "stream",
     "text": [
      "100%|██████████| 1000/1000 [02:16<00:00,  7.33it/s]\n"
     ]
    },
    {
     "name": "stdout",
     "output_type": "stream",
     "text": [
      "Processed rows 82939 to 83939 and saved to c:\\Users\\Jensu\\OneDrive\\Documents\\GitHub\\CME358-Final_project\\2_data_cleaning\\cleaned_csv\\housesigma_data_2003_with_coords.csv.\n"
     ]
    },
    {
     "name": "stderr",
     "output_type": "stream",
     "text": [
      "100%|██████████| 1000/1000 [02:06<00:00,  7.90it/s]\n"
     ]
    },
    {
     "name": "stdout",
     "output_type": "stream",
     "text": [
      "Processed rows 83939 to 84939 and saved to c:\\Users\\Jensu\\OneDrive\\Documents\\GitHub\\CME358-Final_project\\2_data_cleaning\\cleaned_csv\\housesigma_data_2003_with_coords.csv.\n"
     ]
    },
    {
     "name": "stderr",
     "output_type": "stream",
     "text": [
      " 70%|██████▉   | 698/1000 [01:30<00:42,  7.12it/s]"
     ]
    },
    {
     "name": "stdout",
     "output_type": "stream",
     "text": [
      "Geocoding API error for address '26 Magnolia Dr , Scarborough - Kennedy Park': ZERO_RESULTS\n"
     ]
    },
    {
     "name": "stderr",
     "output_type": "stream",
     "text": [
      "100%|██████████| 1000/1000 [02:09<00:00,  7.70it/s]\n"
     ]
    },
    {
     "name": "stdout",
     "output_type": "stream",
     "text": [
      "Processed rows 84939 to 85939 and saved to c:\\Users\\Jensu\\OneDrive\\Documents\\GitHub\\CME358-Final_project\\2_data_cleaning\\cleaned_csv\\housesigma_data_2003_with_coords.csv.\n"
     ]
    },
    {
     "name": "stderr",
     "output_type": "stream",
     "text": [
      "100%|██████████| 1000/1000 [02:05<00:00,  7.94it/s]\n"
     ]
    },
    {
     "name": "stdout",
     "output_type": "stream",
     "text": [
      "Processed rows 85939 to 86939 and saved to c:\\Users\\Jensu\\OneDrive\\Documents\\GitHub\\CME358-Final_project\\2_data_cleaning\\cleaned_csv\\housesigma_data_2003_with_coords.csv.\n"
     ]
    },
    {
     "name": "stderr",
     "output_type": "stream",
     "text": [
      "100%|██████████| 1000/1000 [02:01<00:00,  8.21it/s]\n"
     ]
    },
    {
     "name": "stdout",
     "output_type": "stream",
     "text": [
      "Processed rows 86939 to 87939 and saved to c:\\Users\\Jensu\\OneDrive\\Documents\\GitHub\\CME358-Final_project\\2_data_cleaning\\cleaned_csv\\housesigma_data_2003_with_coords.csv.\n"
     ]
    },
    {
     "name": "stderr",
     "output_type": "stream",
     "text": [
      "100%|██████████| 61/61 [00:07<00:00,  7.98it/s]"
     ]
    },
    {
     "name": "stdout",
     "output_type": "stream",
     "text": [
      "Processed rows 87939 to 88000 and saved to c:\\Users\\Jensu\\OneDrive\\Documents\\GitHub\\CME358-Final_project\\2_data_cleaning\\cleaned_csv\\housesigma_data_2003_with_coords.csv.\n"
     ]
    },
    {
     "name": "stderr",
     "output_type": "stream",
     "text": [
      "\n"
     ]
    }
   ],
   "source": [
    "\n",
    "process_dataframe_in_chunks(historical_housesigma, chunk_size=1000, api_key=api_key, output_csv=housesigma_with_coords_csv)\n"
   ]
  },
  {
   "cell_type": "code",
   "execution_count": 4,
   "metadata": {},
   "outputs": [
    {
     "ename": "NameError",
     "evalue": "name 'housesigma_csv' is not defined",
     "output_type": "error",
     "traceback": [
      "\u001b[1;31m---------------------------------------------------------------------------\u001b[0m",
      "\u001b[1;31mNameError\u001b[0m                                 Traceback (most recent call last)",
      "Cell \u001b[1;32mIn[4], line 1\u001b[0m\n\u001b[1;32m----> 1\u001b[0m clean_and_update_coords(\u001b[43mhousesigma_csv\u001b[49m, housesigma_with_coords_csv)\u001b[38;5;241m.\u001b[39mhead()\n",
      "\u001b[1;31mNameError\u001b[0m: name 'housesigma_csv' is not defined"
     ]
    }
   ],
   "source": [
    "clean_and_update_coords(housesigma_csv, housesigma_with_coords_csv).head()\n"
   ]
  }
 ],
 "metadata": {
  "kernelspec": {
   "display_name": "venv",
   "language": "python",
   "name": "python3"
  },
  "language_info": {
   "codemirror_mode": {
    "name": "ipython",
    "version": 3
   },
   "file_extension": ".py",
   "mimetype": "text/x-python",
   "name": "python",
   "nbconvert_exporter": "python",
   "pygments_lexer": "ipython3",
   "version": "3.12.7"
  }
 },
 "nbformat": 4,
 "nbformat_minor": 2
}
