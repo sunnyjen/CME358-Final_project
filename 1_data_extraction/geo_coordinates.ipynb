{
 "cells": [
  {
   "cell_type": "code",
   "execution_count": 2,
   "metadata": {},
   "outputs": [],
   "source": [
    "import pandas as pd\n",
    "from pathlib import Path\n",
    "\n",
    "current_dir = Path.cwd()\n",
    "\n",
    "df = pd.read_csv(current_dir.parent/'house_data'/'extracted_houses_housesigma.csv')\n"
   ]
  },
  {
   "cell_type": "code",
   "execution_count": 12,
   "metadata": {},
   "outputs": [],
   "source": [
    "import pandas as pd\n",
    "from tqdm import tqdm\n",
    "import requests\n",
    "\n",
    "tqdm.pandas()  # Enable progress bar for Pandas apply\n",
    "\n"
   ]
  },
  {
   "cell_type": "code",
   "execution_count": 9,
   "metadata": {},
   "outputs": [],
   "source": [
    "def get_coordinates(address, api_key):\n",
    "    \"\"\"\n",
    "    Fetch latitude and longitude for a given address using Google Geocoding API.\n",
    "    \n",
    "    Parameters:\n",
    "        address (str): The address to geocode.\n",
    "        api_key (str): API key for Google Geocoding API.\n",
    "    \n",
    "    Returns:\n",
    "        tuple: Latitude and Longitude as (lat, long). Returns (None, None) if an error occurs.\n",
    "    \"\"\"\n",
    "    try:\n",
    "        # Construct the Geocoding API URL\n",
    "        base_url = \"https://maps.googleapis.com/maps/api/geocode/json\"\n",
    "        params = {\n",
    "            \"address\": address,\n",
    "            \"key\": api_key\n",
    "        }\n",
    "\n",
    "        # Send the request to the API\n",
    "        response = requests.get(base_url, params=params)\n",
    "        response.raise_for_status()  # Raise an HTTPError for bad responses (4xx and 5xx)\n",
    "\n",
    "        # Parse the JSON response\n",
    "        data = response.json()\n",
    "\n",
    "        if data[\"status\"] == \"OK\":\n",
    "            # Extract latitude and longitude from the response\n",
    "            location = data[\"results\"][0][\"geometry\"][\"location\"]\n",
    "            return location[\"lat\"], location[\"lng\"]\n",
    "        else:\n",
    "            print(f\"Geocoding API error for address '{address}': {data['status']}\")\n",
    "            return None, None\n",
    "    except requests.exceptions.RequestException as e:\n",
    "        print(f\"Request error for address '{address}': {e}\")\n",
    "        return None, None\n",
    "\n",
    "def process_dataframe_in_chunks(df, chunk_size, api_key, output_csv):\n",
    "    \"\"\"\n",
    "    Processes a DataFrame in chunks to find latitude and longitude for each row.\n",
    "    \n",
    "    Parameters:\n",
    "        df (pd.DataFrame): Input DataFrame containing the 'address' column.\n",
    "        chunk_size (int): Number of rows to process in each chunk.\n",
    "        api_key (str): API key for the geocoding service.\n",
    "        output_csv (str): Filepath to append the results.\n",
    "\n",
    "    Returns:\n",
    "        None\n",
    "    \"\"\"\n",
    "    # Check if the output CSV already exists\n",
    "    try:\n",
    "        processed_rows = pd.read_csv(output_csv).shape[0]\n",
    "        print(f\"Resuming from row {processed_rows}.\")\n",
    "    except FileNotFoundError:\n",
    "        # Initialize the output file if it doesn't exist\n",
    "        processed_rows = 0\n",
    "        pd.DataFrame().to_csv(output_csv, index=False)\n",
    "\n",
    "    # Process the DataFrame in chunks\n",
    "    for start_idx in range(processed_rows, len(df), chunk_size):\n",
    "        chunk = df.iloc[start_idx:start_idx + chunk_size].copy()  # Copy the chunk\n",
    "\n",
    "        # Process each row in the chunk to get lat and long\n",
    "        chunk[['lat', 'long']] = chunk['address'].progress_apply(\n",
    "            lambda addr: pd.Series(get_coordinates(addr, api_key))\n",
    "        )\n",
    "\n",
    "        # Append the results to the CSV\n",
    "        chunk.to_csv(output_csv, mode='a', header=False, index=False)\n",
    "        print(f\"Processed rows {start_idx} to {start_idx + len(chunk)} and saved to {output_csv}.\")\n",
    "\n",
    "\n"
   ]
  },
  {
   "cell_type": "code",
   "execution_count": null,
   "metadata": {},
   "outputs": [
    {
     "name": "stdout",
     "output_type": "stream",
     "text": [
      "Resuming from row 0.\n"
     ]
    },
    {
     "name": "stderr",
     "output_type": "stream",
     "text": [
      "100%|██████████| 20/20 [00:04<00:00,  4.03it/s]\n"
     ]
    },
    {
     "name": "stdout",
     "output_type": "stream",
     "text": [
      "Processed rows 0 to 20 and saved to c:\\Users\\Jensu\\OneDrive\\Documents\\GitHub\\CME358-Final_project\\house_data\\realtor_with_coords.csv.\n"
     ]
    },
    {
     "name": "stderr",
     "output_type": "stream",
     "text": [
      "100%|██████████| 20/20 [00:04<00:00,  4.16it/s]\n"
     ]
    },
    {
     "name": "stdout",
     "output_type": "stream",
     "text": [
      "Processed rows 20 to 40 and saved to c:\\Users\\Jensu\\OneDrive\\Documents\\GitHub\\CME358-Final_project\\house_data\\realtor_with_coords.csv.\n"
     ]
    },
    {
     "name": "stderr",
     "output_type": "stream",
     "text": [
      "100%|██████████| 20/20 [00:05<00:00,  3.64it/s]\n"
     ]
    },
    {
     "name": "stdout",
     "output_type": "stream",
     "text": [
      "Processed rows 40 to 60 and saved to c:\\Users\\Jensu\\OneDrive\\Documents\\GitHub\\CME358-Final_project\\house_data\\realtor_with_coords.csv.\n"
     ]
    },
    {
     "name": "stderr",
     "output_type": "stream",
     "text": [
      "100%|██████████| 20/20 [00:05<00:00,  3.67it/s]\n"
     ]
    },
    {
     "name": "stdout",
     "output_type": "stream",
     "text": [
      "Processed rows 60 to 80 and saved to c:\\Users\\Jensu\\OneDrive\\Documents\\GitHub\\CME358-Final_project\\house_data\\realtor_with_coords.csv.\n"
     ]
    },
    {
     "name": "stderr",
     "output_type": "stream",
     "text": [
      " 40%|████      | 8/20 [00:10<00:38,  3.17s/it]"
     ]
    },
    {
     "name": "stdout",
     "output_type": "stream",
     "text": [
      "Request error for address '115 - 360 RIDELLE AVENUEToronto (Briar Hill-Belgravia), Ontario M6B1K1': ('Connection aborted.', ConnectionResetError(10054, 'An existing connection was forcibly closed by the remote host', None, 10054, None))\n"
     ]
    },
    {
     "name": "stderr",
     "output_type": "stream",
     "text": [
      "100%|██████████| 20/20 [00:14<00:00,  1.39it/s]\n"
     ]
    },
    {
     "name": "stdout",
     "output_type": "stream",
     "text": [
      "Processed rows 80 to 100 and saved to c:\\Users\\Jensu\\OneDrive\\Documents\\GitHub\\CME358-Final_project\\house_data\\realtor_with_coords.csv.\n"
     ]
    },
    {
     "name": "stderr",
     "output_type": "stream",
     "text": [
      "100%|██████████| 20/20 [00:05<00:00,  3.80it/s]\n"
     ]
    },
    {
     "name": "stdout",
     "output_type": "stream",
     "text": [
      "Processed rows 100 to 120 and saved to c:\\Users\\Jensu\\OneDrive\\Documents\\GitHub\\CME358-Final_project\\house_data\\realtor_with_coords.csv.\n"
     ]
    },
    {
     "name": "stderr",
     "output_type": "stream",
     "text": [
      "100%|██████████| 20/20 [00:04<00:00,  4.12it/s]\n"
     ]
    },
    {
     "name": "stdout",
     "output_type": "stream",
     "text": [
      "Processed rows 120 to 140 and saved to c:\\Users\\Jensu\\OneDrive\\Documents\\GitHub\\CME358-Final_project\\house_data\\realtor_with_coords.csv.\n"
     ]
    },
    {
     "name": "stderr",
     "output_type": "stream",
     "text": [
      "100%|██████████| 20/20 [00:05<00:00,  3.49it/s]\n"
     ]
    },
    {
     "name": "stdout",
     "output_type": "stream",
     "text": [
      "Processed rows 140 to 160 and saved to c:\\Users\\Jensu\\OneDrive\\Documents\\GitHub\\CME358-Final_project\\house_data\\realtor_with_coords.csv.\n"
     ]
    },
    {
     "name": "stderr",
     "output_type": "stream",
     "text": [
      "100%|██████████| 20/20 [00:05<00:00,  3.60it/s]\n"
     ]
    },
    {
     "name": "stdout",
     "output_type": "stream",
     "text": [
      "Processed rows 160 to 180 and saved to c:\\Users\\Jensu\\OneDrive\\Documents\\GitHub\\CME358-Final_project\\house_data\\realtor_with_coords.csv.\n"
     ]
    },
    {
     "name": "stderr",
     "output_type": "stream",
     "text": [
      "100%|██████████| 20/20 [00:05<00:00,  3.64it/s]\n"
     ]
    },
    {
     "name": "stdout",
     "output_type": "stream",
     "text": [
      "Processed rows 180 to 200 and saved to c:\\Users\\Jensu\\OneDrive\\Documents\\GitHub\\CME358-Final_project\\house_data\\realtor_with_coords.csv.\n"
     ]
    },
    {
     "name": "stderr",
     "output_type": "stream",
     "text": [
      "100%|██████████| 20/20 [00:05<00:00,  3.82it/s]\n"
     ]
    },
    {
     "name": "stdout",
     "output_type": "stream",
     "text": [
      "Processed rows 200 to 220 and saved to c:\\Users\\Jensu\\OneDrive\\Documents\\GitHub\\CME358-Final_project\\house_data\\realtor_with_coords.csv.\n"
     ]
    },
    {
     "name": "stderr",
     "output_type": "stream",
     "text": [
      "100%|██████████| 20/20 [00:05<00:00,  3.44it/s]\n"
     ]
    },
    {
     "name": "stdout",
     "output_type": "stream",
     "text": [
      "Processed rows 220 to 240 and saved to c:\\Users\\Jensu\\OneDrive\\Documents\\GitHub\\CME358-Final_project\\house_data\\realtor_with_coords.csv.\n"
     ]
    },
    {
     "name": "stderr",
     "output_type": "stream",
     "text": [
      "100%|██████████| 20/20 [00:08<00:00,  2.35it/s]\n"
     ]
    },
    {
     "name": "stdout",
     "output_type": "stream",
     "text": [
      "Processed rows 240 to 260 and saved to c:\\Users\\Jensu\\OneDrive\\Documents\\GitHub\\CME358-Final_project\\house_data\\realtor_with_coords.csv.\n"
     ]
    },
    {
     "name": "stderr",
     "output_type": "stream",
     "text": [
      "100%|██████████| 20/20 [00:05<00:00,  3.69it/s]\n"
     ]
    },
    {
     "name": "stdout",
     "output_type": "stream",
     "text": [
      "Processed rows 260 to 280 and saved to c:\\Users\\Jensu\\OneDrive\\Documents\\GitHub\\CME358-Final_project\\house_data\\realtor_with_coords.csv.\n"
     ]
    },
    {
     "name": "stderr",
     "output_type": "stream",
     "text": [
      "100%|██████████| 20/20 [00:06<00:00,  3.31it/s]\n"
     ]
    },
    {
     "name": "stdout",
     "output_type": "stream",
     "text": [
      "Processed rows 280 to 300 and saved to c:\\Users\\Jensu\\OneDrive\\Documents\\GitHub\\CME358-Final_project\\house_data\\realtor_with_coords.csv.\n"
     ]
    },
    {
     "name": "stderr",
     "output_type": "stream",
     "text": [
      "100%|██████████| 20/20 [00:05<00:00,  3.56it/s]\n"
     ]
    },
    {
     "name": "stdout",
     "output_type": "stream",
     "text": [
      "Processed rows 300 to 320 and saved to c:\\Users\\Jensu\\OneDrive\\Documents\\GitHub\\CME358-Final_project\\house_data\\realtor_with_coords.csv.\n"
     ]
    },
    {
     "name": "stderr",
     "output_type": "stream",
     "text": [
      "100%|██████████| 20/20 [00:05<00:00,  3.74it/s]\n"
     ]
    },
    {
     "name": "stdout",
     "output_type": "stream",
     "text": [
      "Processed rows 320 to 340 and saved to c:\\Users\\Jensu\\OneDrive\\Documents\\GitHub\\CME358-Final_project\\house_data\\realtor_with_coords.csv.\n"
     ]
    },
    {
     "name": "stderr",
     "output_type": "stream",
     "text": [
      "100%|██████████| 20/20 [00:04<00:00,  4.02it/s]\n"
     ]
    },
    {
     "name": "stdout",
     "output_type": "stream",
     "text": [
      "Processed rows 340 to 360 and saved to c:\\Users\\Jensu\\OneDrive\\Documents\\GitHub\\CME358-Final_project\\house_data\\realtor_with_coords.csv.\n"
     ]
    },
    {
     "name": "stderr",
     "output_type": "stream",
     "text": [
      "100%|██████████| 20/20 [00:05<00:00,  3.67it/s]\n"
     ]
    },
    {
     "name": "stdout",
     "output_type": "stream",
     "text": [
      "Processed rows 360 to 380 and saved to c:\\Users\\Jensu\\OneDrive\\Documents\\GitHub\\CME358-Final_project\\house_data\\realtor_with_coords.csv.\n"
     ]
    },
    {
     "name": "stderr",
     "output_type": "stream",
     "text": [
      "100%|██████████| 20/20 [00:05<00:00,  3.51it/s]\n"
     ]
    },
    {
     "name": "stdout",
     "output_type": "stream",
     "text": [
      "Processed rows 380 to 400 and saved to c:\\Users\\Jensu\\OneDrive\\Documents\\GitHub\\CME358-Final_project\\house_data\\realtor_with_coords.csv.\n"
     ]
    },
    {
     "name": "stderr",
     "output_type": "stream",
     "text": [
      "100%|██████████| 20/20 [00:05<00:00,  3.98it/s]\n"
     ]
    },
    {
     "name": "stdout",
     "output_type": "stream",
     "text": [
      "Processed rows 400 to 420 and saved to c:\\Users\\Jensu\\OneDrive\\Documents\\GitHub\\CME358-Final_project\\house_data\\realtor_with_coords.csv.\n"
     ]
    },
    {
     "name": "stderr",
     "output_type": "stream",
     "text": [
      "100%|██████████| 20/20 [00:05<00:00,  3.84it/s]\n"
     ]
    },
    {
     "name": "stdout",
     "output_type": "stream",
     "text": [
      "Processed rows 420 to 440 and saved to c:\\Users\\Jensu\\OneDrive\\Documents\\GitHub\\CME358-Final_project\\house_data\\realtor_with_coords.csv.\n"
     ]
    },
    {
     "name": "stderr",
     "output_type": "stream",
     "text": [
      "100%|██████████| 20/20 [00:05<00:00,  3.97it/s]\n"
     ]
    },
    {
     "name": "stdout",
     "output_type": "stream",
     "text": [
      "Processed rows 440 to 460 and saved to c:\\Users\\Jensu\\OneDrive\\Documents\\GitHub\\CME358-Final_project\\house_data\\realtor_with_coords.csv.\n"
     ]
    },
    {
     "name": "stderr",
     "output_type": "stream",
     "text": [
      "100%|██████████| 20/20 [00:05<00:00,  3.64it/s]\n"
     ]
    },
    {
     "name": "stdout",
     "output_type": "stream",
     "text": [
      "Processed rows 460 to 480 and saved to c:\\Users\\Jensu\\OneDrive\\Documents\\GitHub\\CME358-Final_project\\house_data\\realtor_with_coords.csv.\n"
     ]
    },
    {
     "name": "stderr",
     "output_type": "stream",
     "text": [
      "100%|██████████| 20/20 [00:05<00:00,  3.59it/s]\n"
     ]
    },
    {
     "name": "stdout",
     "output_type": "stream",
     "text": [
      "Processed rows 480 to 500 and saved to c:\\Users\\Jensu\\OneDrive\\Documents\\GitHub\\CME358-Final_project\\house_data\\realtor_with_coords.csv.\n"
     ]
    },
    {
     "name": "stderr",
     "output_type": "stream",
     "text": [
      "100%|██████████| 20/20 [00:06<00:00,  3.28it/s]\n"
     ]
    },
    {
     "name": "stdout",
     "output_type": "stream",
     "text": [
      "Processed rows 500 to 520 and saved to c:\\Users\\Jensu\\OneDrive\\Documents\\GitHub\\CME358-Final_project\\house_data\\realtor_with_coords.csv.\n"
     ]
    },
    {
     "name": "stderr",
     "output_type": "stream",
     "text": [
      "100%|██████████| 20/20 [00:06<00:00,  3.28it/s]\n"
     ]
    },
    {
     "name": "stdout",
     "output_type": "stream",
     "text": [
      "Processed rows 520 to 540 and saved to c:\\Users\\Jensu\\OneDrive\\Documents\\GitHub\\CME358-Final_project\\house_data\\realtor_with_coords.csv.\n"
     ]
    },
    {
     "name": "stderr",
     "output_type": "stream",
     "text": [
      "100%|██████████| 20/20 [00:12<00:00,  1.65it/s]\n"
     ]
    },
    {
     "name": "stdout",
     "output_type": "stream",
     "text": [
      "Processed rows 540 to 560 and saved to c:\\Users\\Jensu\\OneDrive\\Documents\\GitHub\\CME358-Final_project\\house_data\\realtor_with_coords.csv.\n"
     ]
    },
    {
     "name": "stderr",
     "output_type": "stream",
     "text": [
      " 50%|█████     | 10/20 [00:03<00:02,  3.48it/s]"
     ]
    },
    {
     "name": "stdout",
     "output_type": "stream",
     "text": [
      "Geocoding API error for address 'Address not available': ZERO_RESULTS\n"
     ]
    },
    {
     "name": "stderr",
     "output_type": "stream",
     "text": [
      "100%|██████████| 20/20 [00:06<00:00,  3.00it/s]\n"
     ]
    },
    {
     "name": "stdout",
     "output_type": "stream",
     "text": [
      "Processed rows 560 to 580 and saved to c:\\Users\\Jensu\\OneDrive\\Documents\\GitHub\\CME358-Final_project\\house_data\\realtor_with_coords.csv.\n"
     ]
    },
    {
     "name": "stderr",
     "output_type": "stream",
     "text": [
      "100%|██████████| 20/20 [00:06<00:00,  3.19it/s]\n"
     ]
    },
    {
     "name": "stdout",
     "output_type": "stream",
     "text": [
      "Processed rows 580 to 600 and saved to c:\\Users\\Jensu\\OneDrive\\Documents\\GitHub\\CME358-Final_project\\house_data\\realtor_with_coords.csv.\n"
     ]
    },
    {
     "name": "stderr",
     "output_type": "stream",
     "text": [
      "100%|██████████| 20/20 [00:05<00:00,  3.89it/s]\n"
     ]
    },
    {
     "name": "stdout",
     "output_type": "stream",
     "text": [
      "Processed rows 600 to 620 and saved to c:\\Users\\Jensu\\OneDrive\\Documents\\GitHub\\CME358-Final_project\\house_data\\realtor_with_coords.csv.\n"
     ]
    },
    {
     "name": "stderr",
     "output_type": "stream",
     "text": [
      "100%|██████████| 20/20 [00:05<00:00,  3.96it/s]\n"
     ]
    },
    {
     "name": "stdout",
     "output_type": "stream",
     "text": [
      "Processed rows 620 to 640 and saved to c:\\Users\\Jensu\\OneDrive\\Documents\\GitHub\\CME358-Final_project\\house_data\\realtor_with_coords.csv.\n"
     ]
    },
    {
     "name": "stderr",
     "output_type": "stream",
     "text": [
      "100%|██████████| 20/20 [00:05<00:00,  3.85it/s]\n"
     ]
    },
    {
     "name": "stdout",
     "output_type": "stream",
     "text": [
      "Processed rows 640 to 660 and saved to c:\\Users\\Jensu\\OneDrive\\Documents\\GitHub\\CME358-Final_project\\house_data\\realtor_with_coords.csv.\n"
     ]
    },
    {
     "name": "stderr",
     "output_type": "stream",
     "text": [
      "100%|██████████| 20/20 [00:05<00:00,  3.64it/s]\n"
     ]
    },
    {
     "name": "stdout",
     "output_type": "stream",
     "text": [
      "Processed rows 660 to 680 and saved to c:\\Users\\Jensu\\OneDrive\\Documents\\GitHub\\CME358-Final_project\\house_data\\realtor_with_coords.csv.\n"
     ]
    },
    {
     "name": "stderr",
     "output_type": "stream",
     "text": [
      "100%|██████████| 20/20 [00:05<00:00,  3.95it/s]\n"
     ]
    },
    {
     "name": "stdout",
     "output_type": "stream",
     "text": [
      "Processed rows 680 to 700 and saved to c:\\Users\\Jensu\\OneDrive\\Documents\\GitHub\\CME358-Final_project\\house_data\\realtor_with_coords.csv.\n"
     ]
    },
    {
     "name": "stderr",
     "output_type": "stream",
     "text": [
      "100%|██████████| 20/20 [00:06<00:00,  3.32it/s]\n"
     ]
    },
    {
     "name": "stdout",
     "output_type": "stream",
     "text": [
      "Processed rows 700 to 720 and saved to c:\\Users\\Jensu\\OneDrive\\Documents\\GitHub\\CME358-Final_project\\house_data\\realtor_with_coords.csv.\n"
     ]
    },
    {
     "name": "stderr",
     "output_type": "stream",
     "text": [
      "100%|██████████| 20/20 [00:09<00:00,  2.13it/s]\n"
     ]
    },
    {
     "name": "stdout",
     "output_type": "stream",
     "text": [
      "Processed rows 720 to 740 and saved to c:\\Users\\Jensu\\OneDrive\\Documents\\GitHub\\CME358-Final_project\\house_data\\realtor_with_coords.csv.\n"
     ]
    },
    {
     "name": "stderr",
     "output_type": "stream",
     "text": [
      "100%|██████████| 20/20 [00:05<00:00,  3.38it/s]\n"
     ]
    },
    {
     "name": "stdout",
     "output_type": "stream",
     "text": [
      "Processed rows 740 to 760 and saved to c:\\Users\\Jensu\\OneDrive\\Documents\\GitHub\\CME358-Final_project\\house_data\\realtor_with_coords.csv.\n"
     ]
    },
    {
     "name": "stderr",
     "output_type": "stream",
     "text": [
      "100%|██████████| 20/20 [00:06<00:00,  3.31it/s]\n"
     ]
    },
    {
     "name": "stdout",
     "output_type": "stream",
     "text": [
      "Processed rows 760 to 780 and saved to c:\\Users\\Jensu\\OneDrive\\Documents\\GitHub\\CME358-Final_project\\house_data\\realtor_with_coords.csv.\n"
     ]
    },
    {
     "name": "stderr",
     "output_type": "stream",
     "text": [
      "100%|██████████| 20/20 [00:05<00:00,  3.76it/s]\n"
     ]
    },
    {
     "name": "stdout",
     "output_type": "stream",
     "text": [
      "Processed rows 780 to 800 and saved to c:\\Users\\Jensu\\OneDrive\\Documents\\GitHub\\CME358-Final_project\\house_data\\realtor_with_coords.csv.\n"
     ]
    },
    {
     "name": "stderr",
     "output_type": "stream",
     "text": [
      "100%|██████████| 20/20 [00:05<00:00,  3.75it/s]\n"
     ]
    },
    {
     "name": "stdout",
     "output_type": "stream",
     "text": [
      "Processed rows 800 to 820 and saved to c:\\Users\\Jensu\\OneDrive\\Documents\\GitHub\\CME358-Final_project\\house_data\\realtor_with_coords.csv.\n"
     ]
    },
    {
     "name": "stderr",
     "output_type": "stream",
     "text": [
      "100%|██████████| 20/20 [00:05<00:00,  3.69it/s]\n"
     ]
    },
    {
     "name": "stdout",
     "output_type": "stream",
     "text": [
      "Processed rows 820 to 840 and saved to c:\\Users\\Jensu\\OneDrive\\Documents\\GitHub\\CME358-Final_project\\house_data\\realtor_with_coords.csv.\n"
     ]
    },
    {
     "name": "stderr",
     "output_type": "stream",
     "text": [
      "100%|██████████| 20/20 [00:06<00:00,  3.15it/s]\n"
     ]
    },
    {
     "name": "stdout",
     "output_type": "stream",
     "text": [
      "Processed rows 840 to 860 and saved to c:\\Users\\Jensu\\OneDrive\\Documents\\GitHub\\CME358-Final_project\\house_data\\realtor_with_coords.csv.\n"
     ]
    },
    {
     "name": "stderr",
     "output_type": "stream",
     "text": [
      "100%|██████████| 20/20 [00:05<00:00,  3.56it/s]\n"
     ]
    },
    {
     "name": "stdout",
     "output_type": "stream",
     "text": [
      "Processed rows 860 to 880 and saved to c:\\Users\\Jensu\\OneDrive\\Documents\\GitHub\\CME358-Final_project\\house_data\\realtor_with_coords.csv.\n"
     ]
    },
    {
     "name": "stderr",
     "output_type": "stream",
     "text": [
      "100%|██████████| 20/20 [00:05<00:00,  3.76it/s]\n"
     ]
    },
    {
     "name": "stdout",
     "output_type": "stream",
     "text": [
      "Processed rows 880 to 900 and saved to c:\\Users\\Jensu\\OneDrive\\Documents\\GitHub\\CME358-Final_project\\house_data\\realtor_with_coords.csv.\n"
     ]
    },
    {
     "name": "stderr",
     "output_type": "stream",
     "text": [
      "100%|██████████| 20/20 [00:05<00:00,  3.69it/s]\n"
     ]
    },
    {
     "name": "stdout",
     "output_type": "stream",
     "text": [
      "Processed rows 900 to 920 and saved to c:\\Users\\Jensu\\OneDrive\\Documents\\GitHub\\CME358-Final_project\\house_data\\realtor_with_coords.csv.\n"
     ]
    },
    {
     "name": "stderr",
     "output_type": "stream",
     "text": [
      "100%|██████████| 20/20 [00:05<00:00,  3.62it/s]\n"
     ]
    },
    {
     "name": "stdout",
     "output_type": "stream",
     "text": [
      "Processed rows 920 to 940 and saved to c:\\Users\\Jensu\\OneDrive\\Documents\\GitHub\\CME358-Final_project\\house_data\\realtor_with_coords.csv.\n"
     ]
    },
    {
     "name": "stderr",
     "output_type": "stream",
     "text": [
      "100%|██████████| 20/20 [00:05<00:00,  3.74it/s]\n"
     ]
    },
    {
     "name": "stdout",
     "output_type": "stream",
     "text": [
      "Processed rows 940 to 960 and saved to c:\\Users\\Jensu\\OneDrive\\Documents\\GitHub\\CME358-Final_project\\house_data\\realtor_with_coords.csv.\n"
     ]
    },
    {
     "name": "stderr",
     "output_type": "stream",
     "text": [
      "100%|██████████| 20/20 [00:05<00:00,  3.72it/s]\n"
     ]
    },
    {
     "name": "stdout",
     "output_type": "stream",
     "text": [
      "Processed rows 960 to 980 and saved to c:\\Users\\Jensu\\OneDrive\\Documents\\GitHub\\CME358-Final_project\\house_data\\realtor_with_coords.csv.\n"
     ]
    },
    {
     "name": "stderr",
     "output_type": "stream",
     "text": [
      "100%|██████████| 20/20 [00:05<00:00,  3.46it/s]\n"
     ]
    },
    {
     "name": "stdout",
     "output_type": "stream",
     "text": [
      "Processed rows 980 to 1000 and saved to c:\\Users\\Jensu\\OneDrive\\Documents\\GitHub\\CME358-Final_project\\house_data\\realtor_with_coords.csv.\n"
     ]
    },
    {
     "name": "stderr",
     "output_type": "stream",
     "text": [
      "100%|██████████| 20/20 [00:05<00:00,  3.73it/s]\n"
     ]
    },
    {
     "name": "stdout",
     "output_type": "stream",
     "text": [
      "Processed rows 1000 to 1020 and saved to c:\\Users\\Jensu\\OneDrive\\Documents\\GitHub\\CME358-Final_project\\house_data\\realtor_with_coords.csv.\n"
     ]
    },
    {
     "name": "stderr",
     "output_type": "stream",
     "text": [
      "100%|██████████| 20/20 [00:05<00:00,  3.67it/s]\n"
     ]
    },
    {
     "name": "stdout",
     "output_type": "stream",
     "text": [
      "Processed rows 1020 to 1040 and saved to c:\\Users\\Jensu\\OneDrive\\Documents\\GitHub\\CME358-Final_project\\house_data\\realtor_with_coords.csv.\n"
     ]
    },
    {
     "name": "stderr",
     "output_type": "stream",
     "text": [
      "100%|██████████| 20/20 [00:05<00:00,  3.88it/s]\n"
     ]
    },
    {
     "name": "stdout",
     "output_type": "stream",
     "text": [
      "Processed rows 1040 to 1060 and saved to c:\\Users\\Jensu\\OneDrive\\Documents\\GitHub\\CME358-Final_project\\house_data\\realtor_with_coords.csv.\n"
     ]
    },
    {
     "name": "stderr",
     "output_type": "stream",
     "text": [
      "100%|██████████| 10/10 [00:02<00:00,  4.38it/s]"
     ]
    },
    {
     "name": "stdout",
     "output_type": "stream",
     "text": [
      "Processed rows 1060 to 1070 and saved to c:\\Users\\Jensu\\OneDrive\\Documents\\GitHub\\CME358-Final_project\\house_data\\realtor_with_coords.csv.\n"
     ]
    },
    {
     "name": "stderr",
     "output_type": "stream",
     "text": [
      "\n"
     ]
    }
   ],
   "source": [
    "from pathlib import Path\n",
    "current_dir = Path.cwd().parent\n",
    "realtor_data = pd.read_csv(current_dir/\"data_cleaning\"/\"realtor_dropped_duplicates.csv\")\n",
    "api_key = \"mystery\"\n",
    "output_csv = current_dir/\"house_data\"/\"realtor_with_coords.csv\"\n",
    "process_dataframe_in_chunks(realtor_data, chunk_size=20, api_key=api_key, output_csv=output_csv)\n"
   ]
  },
  {
   "cell_type": "code",
   "execution_count": 50,
   "metadata": {},
   "outputs": [],
   "source": [
    "realtor_with_coords = pd.read_csv(output_csv)\n",
    "realtor_with_coords.reset_index(inplace=True)\n",
    "realtor_with_coords_new_cols = list(realtor_data.columns)\n",
    "realtor_with_coords_new_cols.append(\"lat\")\n",
    "realtor_with_coords_new_cols.append(\"long\")\n",
    "\n",
    "realtor_with_coords.columns = realtor_with_coords_new_cols\n",
    "missing_coords_df = realtor_with_coords[\n",
    "    realtor_with_coords['lat']== None\n",
    "]\n",
    "realtor_with_coords.isna().sum()\n",
    "realtor_with_coords.dropna(subset=['lat','long'], inplace=True)\n",
    "realtor_with_coords.isna().sum()\n",
    "\n",
    "realtor_with_coords.to_csv(output_csv)"
   ]
  },
  {
   "cell_type": "code",
   "execution_count": null,
   "metadata": {},
   "outputs": [],
   "source": []
  },
  {
   "cell_type": "code",
   "execution_count": 19,
   "metadata": {},
   "outputs": [],
   "source": [
    "zolo_data = pd.read_csv(current_dir.parent/'data_cleaning'/'zolo.csv')"
   ]
  },
  {
   "cell_type": "code",
   "execution_count": null,
   "metadata": {},
   "outputs": [
    {
     "name": "stdout",
     "output_type": "stream",
     "text": [
      "Resuming from row 139.\n"
     ]
    },
    {
     "name": "stderr",
     "output_type": "stream",
     "text": [
      " 85%|████████▌ | 17/20 [00:02<00:00,  5.97it/s]"
     ]
    },
    {
     "name": "stdout",
     "output_type": "stream",
     "text": [
      "Geocoding API error for address '24 Carousel Court': ZERO_RESULTS\n"
     ]
    },
    {
     "name": "stderr",
     "output_type": "stream",
     "text": [
      "100%|██████████| 20/20 [00:03<00:00,  6.33it/s]\n"
     ]
    },
    {
     "name": "stdout",
     "output_type": "stream",
     "text": [
      "Processed rows 139 to 159 and saved to c:\\Users\\Jensu\\OneDrive\\Documents\\GitHub\\CME358-Final_project\\house_data\\zolo_with_coords.csv.\n"
     ]
    },
    {
     "name": "stderr",
     "output_type": "stream",
     "text": [
      " 25%|██▌       | 5/20 [00:00<00:02,  6.57it/s]"
     ]
    },
    {
     "name": "stdout",
     "output_type": "stream",
     "text": [
      "Geocoding API error for address '4 Pinehurst Crescent': ZERO_RESULTS\n"
     ]
    },
    {
     "name": "stderr",
     "output_type": "stream",
     "text": [
      "100%|██████████| 20/20 [00:03<00:00,  5.81it/s]\n"
     ]
    },
    {
     "name": "stdout",
     "output_type": "stream",
     "text": [
      "Processed rows 159 to 179 and saved to c:\\Users\\Jensu\\OneDrive\\Documents\\GitHub\\CME358-Final_project\\house_data\\zolo_with_coords.csv.\n"
     ]
    },
    {
     "name": "stderr",
     "output_type": "stream",
     "text": [
      " 55%|█████▌    | 11/20 [00:01<00:01,  6.55it/s]"
     ]
    },
    {
     "name": "stdout",
     "output_type": "stream",
     "text": [
      "Geocoding API error for address '91 Fortieth Street': ZERO_RESULTS\n"
     ]
    },
    {
     "name": "stderr",
     "output_type": "stream",
     "text": [
      "100%|██████████| 20/20 [00:03<00:00,  6.29it/s]\n"
     ]
    },
    {
     "name": "stdout",
     "output_type": "stream",
     "text": [
      "Processed rows 179 to 199 and saved to c:\\Users\\Jensu\\OneDrive\\Documents\\GitHub\\CME358-Final_project\\house_data\\zolo_with_coords.csv.\n"
     ]
    },
    {
     "name": "stderr",
     "output_type": "stream",
     "text": [
      "100%|██████████| 20/20 [00:03<00:00,  6.28it/s]\n"
     ]
    },
    {
     "name": "stdout",
     "output_type": "stream",
     "text": [
      "Processed rows 199 to 219 and saved to c:\\Users\\Jensu\\OneDrive\\Documents\\GitHub\\CME358-Final_project\\house_data\\zolo_with_coords.csv.\n"
     ]
    },
    {
     "name": "stderr",
     "output_type": "stream",
     "text": [
      "100%|██████████| 20/20 [00:03<00:00,  5.83it/s]\n"
     ]
    },
    {
     "name": "stdout",
     "output_type": "stream",
     "text": [
      "Processed rows 219 to 239 and saved to c:\\Users\\Jensu\\OneDrive\\Documents\\GitHub\\CME358-Final_project\\house_data\\zolo_with_coords.csv.\n"
     ]
    },
    {
     "name": "stderr",
     "output_type": "stream",
     "text": [
      "100%|██████████| 20/20 [00:03<00:00,  6.08it/s]\n"
     ]
    },
    {
     "name": "stdout",
     "output_type": "stream",
     "text": [
      "Processed rows 239 to 259 and saved to c:\\Users\\Jensu\\OneDrive\\Documents\\GitHub\\CME358-Final_project\\house_data\\zolo_with_coords.csv.\n"
     ]
    },
    {
     "name": "stderr",
     "output_type": "stream",
     "text": [
      " 35%|███▌      | 7/20 [00:00<00:01,  6.91it/s]"
     ]
    },
    {
     "name": "stdout",
     "output_type": "stream",
     "text": [
      "Geocoding API error for address '75 Chelliah Court S': ZERO_RESULTS\n"
     ]
    },
    {
     "name": "stderr",
     "output_type": "stream",
     "text": [
      " 45%|████▌     | 9/20 [00:01<00:01,  6.47it/s]"
     ]
    },
    {
     "name": "stdout",
     "output_type": "stream",
     "text": [
      "Geocoding API error for address '117 Wedgewood Drive': ZERO_RESULTS\n"
     ]
    },
    {
     "name": "stderr",
     "output_type": "stream",
     "text": [
      "100%|██████████| 20/20 [00:03<00:00,  6.46it/s]\n"
     ]
    },
    {
     "name": "stdout",
     "output_type": "stream",
     "text": [
      "Geocoding API error for address '226 Oakridge Drive': ZERO_RESULTS\n",
      "Processed rows 259 to 279 and saved to c:\\Users\\Jensu\\OneDrive\\Documents\\GitHub\\CME358-Final_project\\house_data\\zolo_with_coords.csv.\n"
     ]
    },
    {
     "name": "stderr",
     "output_type": "stream",
     "text": [
      "100%|██████████| 20/20 [00:03<00:00,  6.10it/s]\n"
     ]
    },
    {
     "name": "stdout",
     "output_type": "stream",
     "text": [
      "Processed rows 279 to 299 and saved to c:\\Users\\Jensu\\OneDrive\\Documents\\GitHub\\CME358-Final_project\\house_data\\zolo_with_coords.csv.\n"
     ]
    },
    {
     "name": "stderr",
     "output_type": "stream",
     "text": [
      " 30%|███       | 6/20 [00:00<00:01,  7.13it/s]"
     ]
    },
    {
     "name": "stdout",
     "output_type": "stream",
     "text": [
      "Geocoding API error for address '1019 Greenwood Avenue': ZERO_RESULTS\n"
     ]
    },
    {
     "name": "stderr",
     "output_type": "stream",
     "text": [
      "100%|██████████| 20/20 [00:03<00:00,  6.11it/s]\n"
     ]
    },
    {
     "name": "stdout",
     "output_type": "stream",
     "text": [
      "Geocoding API error for address '411 Main Street': ZERO_RESULTS\n",
      "Processed rows 299 to 319 and saved to c:\\Users\\Jensu\\OneDrive\\Documents\\GitHub\\CME358-Final_project\\house_data\\zolo_with_coords.csv.\n"
     ]
    },
    {
     "name": "stderr",
     "output_type": "stream",
     "text": [
      "100%|██████████| 20/20 [00:03<00:00,  6.43it/s]\n"
     ]
    },
    {
     "name": "stdout",
     "output_type": "stream",
     "text": [
      "Processed rows 319 to 339 and saved to c:\\Users\\Jensu\\OneDrive\\Documents\\GitHub\\CME358-Final_project\\house_data\\zolo_with_coords.csv.\n"
     ]
    },
    {
     "name": "stderr",
     "output_type": "stream",
     "text": [
      " 40%|████      | 8/20 [00:01<00:01,  6.45it/s]"
     ]
    },
    {
     "name": "stdout",
     "output_type": "stream",
     "text": [
      "Geocoding API error for address '35 Daniellie Moore Circle': ZERO_RESULTS\n"
     ]
    },
    {
     "name": "stderr",
     "output_type": "stream",
     "text": [
      "100%|██████████| 20/20 [00:03<00:00,  6.33it/s]\n"
     ]
    },
    {
     "name": "stdout",
     "output_type": "stream",
     "text": [
      "Processed rows 339 to 359 and saved to c:\\Users\\Jensu\\OneDrive\\Documents\\GitHub\\CME358-Final_project\\house_data\\zolo_with_coords.csv.\n"
     ]
    },
    {
     "name": "stderr",
     "output_type": "stream",
     "text": [
      "100%|██████████| 20/20 [00:03<00:00,  6.15it/s]\n"
     ]
    },
    {
     "name": "stdout",
     "output_type": "stream",
     "text": [
      "Processed rows 359 to 379 and saved to c:\\Users\\Jensu\\OneDrive\\Documents\\GitHub\\CME358-Final_project\\house_data\\zolo_with_coords.csv.\n"
     ]
    },
    {
     "name": "stderr",
     "output_type": "stream",
     "text": [
      " 70%|███████   | 14/20 [00:01<00:00,  6.85it/s]"
     ]
    },
    {
     "name": "stdout",
     "output_type": "stream",
     "text": [
      "Geocoding API error for address '97 Chelliah Court': ZERO_RESULTS\n"
     ]
    },
    {
     "name": "stderr",
     "output_type": "stream",
     "text": [
      "100%|██████████| 20/20 [00:03<00:00,  6.10it/s]\n"
     ]
    },
    {
     "name": "stdout",
     "output_type": "stream",
     "text": [
      "Processed rows 379 to 399 and saved to c:\\Users\\Jensu\\OneDrive\\Documents\\GitHub\\CME358-Final_project\\house_data\\zolo_with_coords.csv.\n"
     ]
    },
    {
     "name": "stderr",
     "output_type": "stream",
     "text": [
      "100%|██████████| 20/20 [00:03<00:00,  6.24it/s]\n"
     ]
    },
    {
     "name": "stdout",
     "output_type": "stream",
     "text": [
      "Processed rows 399 to 419 and saved to c:\\Users\\Jensu\\OneDrive\\Documents\\GitHub\\CME358-Final_project\\house_data\\zolo_with_coords.csv.\n"
     ]
    },
    {
     "name": "stderr",
     "output_type": "stream",
     "text": [
      "100%|██████████| 20/20 [00:03<00:00,  6.30it/s]\n"
     ]
    },
    {
     "name": "stdout",
     "output_type": "stream",
     "text": [
      "Processed rows 419 to 439 and saved to c:\\Users\\Jensu\\OneDrive\\Documents\\GitHub\\CME358-Final_project\\house_data\\zolo_with_coords.csv.\n"
     ]
    },
    {
     "name": "stderr",
     "output_type": "stream",
     "text": [
      " 75%|███████▌  | 15/20 [00:02<00:00,  6.94it/s]"
     ]
    },
    {
     "name": "stdout",
     "output_type": "stream",
     "text": [
      "Geocoding API error for address '28 Eleventh Street': ZERO_RESULTS\n"
     ]
    },
    {
     "name": "stderr",
     "output_type": "stream",
     "text": [
      "100%|██████████| 20/20 [00:03<00:00,  6.42it/s]\n"
     ]
    },
    {
     "name": "stdout",
     "output_type": "stream",
     "text": [
      "Processed rows 439 to 459 and saved to c:\\Users\\Jensu\\OneDrive\\Documents\\GitHub\\CME358-Final_project\\house_data\\zolo_with_coords.csv.\n"
     ]
    },
    {
     "name": "stderr",
     "output_type": "stream",
     "text": [
      "100%|██████████| 20/20 [00:03<00:00,  5.98it/s]\n"
     ]
    },
    {
     "name": "stdout",
     "output_type": "stream",
     "text": [
      "Processed rows 459 to 479 and saved to c:\\Users\\Jensu\\OneDrive\\Documents\\GitHub\\CME358-Final_project\\house_data\\zolo_with_coords.csv.\n"
     ]
    },
    {
     "name": "stderr",
     "output_type": "stream",
     "text": [
      "100%|██████████| 20/20 [00:03<00:00,  6.22it/s]\n"
     ]
    },
    {
     "name": "stdout",
     "output_type": "stream",
     "text": [
      "Processed rows 479 to 499 and saved to c:\\Users\\Jensu\\OneDrive\\Documents\\GitHub\\CME358-Final_project\\house_data\\zolo_with_coords.csv.\n"
     ]
    },
    {
     "name": "stderr",
     "output_type": "stream",
     "text": [
      " 70%|███████   | 14/20 [00:01<00:00,  6.70it/s]"
     ]
    },
    {
     "name": "stdout",
     "output_type": "stream",
     "text": [
      "Geocoding API error for address '38 Leroy Avenue': ZERO_RESULTS\n"
     ]
    },
    {
     "name": "stderr",
     "output_type": "stream",
     "text": [
      " 85%|████████▌ | 17/20 [00:02<00:00,  6.72it/s]"
     ]
    },
    {
     "name": "stdout",
     "output_type": "stream",
     "text": [
      "Geocoding API error for address '896 Kennedy Road': ZERO_RESULTS\n"
     ]
    },
    {
     "name": "stderr",
     "output_type": "stream",
     "text": [
      "100%|██████████| 20/20 [00:03<00:00,  6.48it/s]\n"
     ]
    },
    {
     "name": "stdout",
     "output_type": "stream",
     "text": [
      "Processed rows 499 to 519 and saved to c:\\Users\\Jensu\\OneDrive\\Documents\\GitHub\\CME358-Final_project\\house_data\\zolo_with_coords.csv.\n"
     ]
    },
    {
     "name": "stderr",
     "output_type": "stream",
     "text": [
      " 55%|█████▌    | 11/20 [00:01<00:01,  6.34it/s]"
     ]
    },
    {
     "name": "stdout",
     "output_type": "stream",
     "text": [
      "Geocoding API error for address '23 24th Street': ZERO_RESULTS\n"
     ]
    },
    {
     "name": "stderr",
     "output_type": "stream",
     "text": [
      "100%|██████████| 20/20 [00:03<00:00,  6.19it/s]\n"
     ]
    },
    {
     "name": "stdout",
     "output_type": "stream",
     "text": [
      "Processed rows 519 to 539 and saved to c:\\Users\\Jensu\\OneDrive\\Documents\\GitHub\\CME358-Final_project\\house_data\\zolo_with_coords.csv.\n"
     ]
    },
    {
     "name": "stderr",
     "output_type": "stream",
     "text": [
      " 95%|█████████▌| 19/20 [00:02<00:00,  6.81it/s]"
     ]
    },
    {
     "name": "stdout",
     "output_type": "stream",
     "text": [
      "Geocoding API error for address '270 Brighton Avenue': ZERO_RESULTS\n"
     ]
    },
    {
     "name": "stderr",
     "output_type": "stream",
     "text": [
      "100%|██████████| 20/20 [00:03<00:00,  6.31it/s]\n"
     ]
    },
    {
     "name": "stdout",
     "output_type": "stream",
     "text": [
      "Processed rows 539 to 559 and saved to c:\\Users\\Jensu\\OneDrive\\Documents\\GitHub\\CME358-Final_project\\house_data\\zolo_with_coords.csv.\n"
     ]
    },
    {
     "name": "stderr",
     "output_type": "stream",
     "text": [
      "100%|██████████| 20/20 [00:03<00:00,  6.39it/s]\n"
     ]
    },
    {
     "name": "stdout",
     "output_type": "stream",
     "text": [
      "Processed rows 559 to 579 and saved to c:\\Users\\Jensu\\OneDrive\\Documents\\GitHub\\CME358-Final_project\\house_data\\zolo_with_coords.csv.\n"
     ]
    },
    {
     "name": "stderr",
     "output_type": "stream",
     "text": [
      " 60%|██████    | 12/20 [00:01<00:01,  6.39it/s]"
     ]
    },
    {
     "name": "stdout",
     "output_type": "stream",
     "text": [
      "Geocoding API error for address '333 Brighton Avenue': ZERO_RESULTS\n"
     ]
    },
    {
     "name": "stderr",
     "output_type": "stream",
     "text": [
      " 85%|████████▌ | 17/20 [00:02<00:00,  6.35it/s]"
     ]
    },
    {
     "name": "stdout",
     "output_type": "stream",
     "text": [
      "Geocoding API error for address '4 Allen Avenue': ZERO_RESULTS\n"
     ]
    },
    {
     "name": "stderr",
     "output_type": "stream",
     "text": [
      "100%|██████████| 20/20 [00:03<00:00,  6.29it/s]\n"
     ]
    },
    {
     "name": "stdout",
     "output_type": "stream",
     "text": [
      "Processed rows 579 to 599 and saved to c:\\Users\\Jensu\\OneDrive\\Documents\\GitHub\\CME358-Final_project\\house_data\\zolo_with_coords.csv.\n"
     ]
    },
    {
     "name": "stderr",
     "output_type": "stream",
     "text": [
      " 25%|██▌       | 5/20 [00:00<00:02,  7.07it/s]"
     ]
    },
    {
     "name": "stdout",
     "output_type": "stream",
     "text": [
      "Geocoding API error for address '51 Pine Ridge Drive': ZERO_RESULTS\n"
     ]
    },
    {
     "name": "stderr",
     "output_type": "stream",
     "text": [
      "100%|██████████| 20/20 [00:03<00:00,  6.01it/s]\n"
     ]
    },
    {
     "name": "stdout",
     "output_type": "stream",
     "text": [
      "Geocoding API error for address '215 Mill Road': ZERO_RESULTS\n",
      "Processed rows 599 to 619 and saved to c:\\Users\\Jensu\\OneDrive\\Documents\\GitHub\\CME358-Final_project\\house_data\\zolo_with_coords.csv.\n"
     ]
    },
    {
     "name": "stderr",
     "output_type": "stream",
     "text": [
      " 40%|████      | 8/20 [00:01<00:01,  6.70it/s]"
     ]
    },
    {
     "name": "stdout",
     "output_type": "stream",
     "text": [
      "Geocoding API error for address '42 Thirty Eighth Street': ZERO_RESULTS\n"
     ]
    },
    {
     "name": "stderr",
     "output_type": "stream",
     "text": [
      "100%|██████████| 20/20 [00:03<00:00,  6.35it/s]\n"
     ]
    },
    {
     "name": "stdout",
     "output_type": "stream",
     "text": [
      "Processed rows 619 to 639 and saved to c:\\Users\\Jensu\\OneDrive\\Documents\\GitHub\\CME358-Final_project\\house_data\\zolo_with_coords.csv.\n"
     ]
    },
    {
     "name": "stderr",
     "output_type": "stream",
     "text": [
      "100%|██████████| 20/20 [00:03<00:00,  6.36it/s]\n"
     ]
    },
    {
     "name": "stdout",
     "output_type": "stream",
     "text": [
      "Processed rows 639 to 659 and saved to c:\\Users\\Jensu\\OneDrive\\Documents\\GitHub\\CME358-Final_project\\house_data\\zolo_with_coords.csv.\n"
     ]
    },
    {
     "name": "stderr",
     "output_type": "stream",
     "text": [
      "100%|██████████| 20/20 [00:03<00:00,  6.32it/s]\n"
     ]
    },
    {
     "name": "stdout",
     "output_type": "stream",
     "text": [
      "Processed rows 659 to 679 and saved to c:\\Users\\Jensu\\OneDrive\\Documents\\GitHub\\CME358-Final_project\\house_data\\zolo_with_coords.csv.\n"
     ]
    },
    {
     "name": "stderr",
     "output_type": "stream",
     "text": [
      " 35%|███▌      | 7/20 [00:00<00:01,  7.21it/s]"
     ]
    },
    {
     "name": "stdout",
     "output_type": "stream",
     "text": [
      "Geocoding API error for address '20 Twelfth Street': ZERO_RESULTS\n"
     ]
    },
    {
     "name": "stderr",
     "output_type": "stream",
     "text": [
      " 50%|█████     | 10/20 [00:01<00:01,  6.67it/s]"
     ]
    },
    {
     "name": "stdout",
     "output_type": "stream",
     "text": [
      "Geocoding API error for address '65 Tideswell Boulevard': ZERO_RESULTS\n"
     ]
    },
    {
     "name": "stderr",
     "output_type": "stream",
     "text": [
      "100%|██████████| 20/20 [00:03<00:00,  6.27it/s]\n"
     ]
    },
    {
     "name": "stdout",
     "output_type": "stream",
     "text": [
      "Processed rows 679 to 699 and saved to c:\\Users\\Jensu\\OneDrive\\Documents\\GitHub\\CME358-Final_project\\house_data\\zolo_with_coords.csv.\n"
     ]
    },
    {
     "name": "stderr",
     "output_type": "stream",
     "text": [
      " 35%|███▌      | 7/20 [00:00<00:01,  6.70it/s]"
     ]
    },
    {
     "name": "stdout",
     "output_type": "stream",
     "text": [
      "Geocoding API error for address '62 Elm Avenue': ZERO_RESULTS\n"
     ]
    },
    {
     "name": "stderr",
     "output_type": "stream",
     "text": [
      " 65%|██████▌   | 13/20 [00:01<00:01,  6.77it/s]"
     ]
    },
    {
     "name": "stdout",
     "output_type": "stream",
     "text": [
      "Geocoding API error for address '40 Sixth Street': ZERO_RESULTS\n"
     ]
    },
    {
     "name": "stderr",
     "output_type": "stream",
     "text": [
      "100%|██████████| 20/20 [00:03<00:00,  6.27it/s]\n"
     ]
    },
    {
     "name": "stdout",
     "output_type": "stream",
     "text": [
      "Processed rows 699 to 719 and saved to c:\\Users\\Jensu\\OneDrive\\Documents\\GitHub\\CME358-Final_project\\house_data\\zolo_with_coords.csv.\n"
     ]
    },
    {
     "name": "stderr",
     "output_type": "stream",
     "text": [
      " 20%|██        | 4/20 [00:00<00:01,  8.40it/s]"
     ]
    },
    {
     "name": "stdout",
     "output_type": "stream",
     "text": [
      "Geocoding API error for address '19 Nevada Avenue': ZERO_RESULTS\n"
     ]
    },
    {
     "name": "stderr",
     "output_type": "stream",
     "text": [
      " 85%|████████▌ | 17/20 [00:02<00:00,  6.45it/s]"
     ]
    },
    {
     "name": "stdout",
     "output_type": "stream",
     "text": [
      "Geocoding API error for address '71 Sixteenth Street': ZERO_RESULTS\n"
     ]
    },
    {
     "name": "stderr",
     "output_type": "stream",
     "text": [
      "100%|██████████| 20/20 [00:03<00:00,  6.36it/s]\n"
     ]
    },
    {
     "name": "stdout",
     "output_type": "stream",
     "text": [
      "Processed rows 719 to 739 and saved to c:\\Users\\Jensu\\OneDrive\\Documents\\GitHub\\CME358-Final_project\\house_data\\zolo_with_coords.csv.\n"
     ]
    },
    {
     "name": "stderr",
     "output_type": "stream",
     "text": [
      " 70%|███████   | 14/20 [00:02<00:00,  6.44it/s]"
     ]
    },
    {
     "name": "stdout",
     "output_type": "stream",
     "text": [
      "Geocoding API error for address '307 Delta Street': ZERO_RESULTS\n"
     ]
    },
    {
     "name": "stderr",
     "output_type": "stream",
     "text": [
      "100%|██████████| 20/20 [00:03<00:00,  6.25it/s]\n"
     ]
    },
    {
     "name": "stdout",
     "output_type": "stream",
     "text": [
      "Processed rows 739 to 759 and saved to c:\\Users\\Jensu\\OneDrive\\Documents\\GitHub\\CME358-Final_project\\house_data\\zolo_with_coords.csv.\n"
     ]
    },
    {
     "name": "stderr",
     "output_type": "stream",
     "text": [
      " 80%|████████  | 16/20 [00:02<00:00,  6.60it/s]"
     ]
    },
    {
     "name": "stdout",
     "output_type": "stream",
     "text": [
      "Geocoding API error for address '159 Church Street': ZERO_RESULTS\n"
     ]
    },
    {
     "name": "stderr",
     "output_type": "stream",
     "text": [
      "100%|██████████| 20/20 [00:03<00:00,  6.29it/s]\n"
     ]
    },
    {
     "name": "stdout",
     "output_type": "stream",
     "text": [
      "Processed rows 759 to 779 and saved to c:\\Users\\Jensu\\OneDrive\\Documents\\GitHub\\CME358-Final_project\\house_data\\zolo_with_coords.csv.\n"
     ]
    },
    {
     "name": "stderr",
     "output_type": "stream",
     "text": [
      " 95%|█████████▌| 19/20 [00:09<00:01,  1.63s/it]"
     ]
    },
    {
     "name": "stdout",
     "output_type": "stream",
     "text": [
      "Request error for address '91 Colonial Avenue': ('Connection aborted.', ConnectionResetError(10054, 'An existing connection was forcibly closed by the remote host', None, 10054, None))\n"
     ]
    },
    {
     "name": "stderr",
     "output_type": "stream",
     "text": [
      "100%|██████████| 20/20 [00:10<00:00,  1.96it/s]\n"
     ]
    },
    {
     "name": "stdout",
     "output_type": "stream",
     "text": [
      "Processed rows 779 to 799 and saved to c:\\Users\\Jensu\\OneDrive\\Documents\\GitHub\\CME358-Final_project\\house_data\\zolo_with_coords.csv.\n"
     ]
    },
    {
     "name": "stderr",
     "output_type": "stream",
     "text": [
      "100%|██████████| 20/20 [00:03<00:00,  6.42it/s]\n"
     ]
    },
    {
     "name": "stdout",
     "output_type": "stream",
     "text": [
      "Processed rows 799 to 819 and saved to c:\\Users\\Jensu\\OneDrive\\Documents\\GitHub\\CME358-Final_project\\house_data\\zolo_with_coords.csv.\n"
     ]
    },
    {
     "name": "stderr",
     "output_type": "stream",
     "text": [
      "100%|██████████| 20/20 [00:03<00:00,  6.13it/s]\n"
     ]
    },
    {
     "name": "stdout",
     "output_type": "stream",
     "text": [
      "Processed rows 819 to 839 and saved to c:\\Users\\Jensu\\OneDrive\\Documents\\GitHub\\CME358-Final_project\\house_data\\zolo_with_coords.csv.\n"
     ]
    },
    {
     "name": "stderr",
     "output_type": "stream",
     "text": [
      " 50%|█████     | 10/20 [00:01<00:01,  6.71it/s]"
     ]
    },
    {
     "name": "stdout",
     "output_type": "stream",
     "text": [
      "Geocoding API error for address '5 Norris Place': ZERO_RESULTS\n"
     ]
    },
    {
     "name": "stderr",
     "output_type": "stream",
     "text": [
      "100%|██████████| 20/20 [00:03<00:00,  6.50it/s]\n"
     ]
    },
    {
     "name": "stdout",
     "output_type": "stream",
     "text": [
      "Processed rows 839 to 859 and saved to c:\\Users\\Jensu\\OneDrive\\Documents\\GitHub\\CME358-Final_project\\house_data\\zolo_with_coords.csv.\n"
     ]
    },
    {
     "name": "stderr",
     "output_type": "stream",
     "text": [
      " 70%|███████   | 14/20 [00:02<00:00,  6.52it/s]"
     ]
    },
    {
     "name": "stdout",
     "output_type": "stream",
     "text": [
      "Geocoding API error for address '3 Masters Road': ZERO_RESULTS\n"
     ]
    },
    {
     "name": "stderr",
     "output_type": "stream",
     "text": [
      "100%|██████████| 20/20 [00:03<00:00,  6.39it/s]\n"
     ]
    },
    {
     "name": "stdout",
     "output_type": "stream",
     "text": [
      "Processed rows 859 to 879 and saved to c:\\Users\\Jensu\\OneDrive\\Documents\\GitHub\\CME358-Final_project\\house_data\\zolo_with_coords.csv.\n"
     ]
    },
    {
     "name": "stderr",
     "output_type": "stream",
     "text": [
      "100%|██████████| 20/20 [00:03<00:00,  6.24it/s]\n"
     ]
    },
    {
     "name": "stdout",
     "output_type": "stream",
     "text": [
      "Processed rows 879 to 899 and saved to c:\\Users\\Jensu\\OneDrive\\Documents\\GitHub\\CME358-Final_project\\house_data\\zolo_with_coords.csv.\n"
     ]
    },
    {
     "name": "stderr",
     "output_type": "stream",
     "text": [
      " 60%|██████    | 12/20 [00:01<00:01,  6.70it/s]"
     ]
    },
    {
     "name": "stdout",
     "output_type": "stream",
     "text": [
      "Geocoding API error for address '44 Twentieth Street': ZERO_RESULTS\n"
     ]
    },
    {
     "name": "stderr",
     "output_type": "stream",
     "text": [
      "100%|██████████| 20/20 [00:03<00:00,  6.22it/s]\n"
     ]
    },
    {
     "name": "stdout",
     "output_type": "stream",
     "text": [
      "Processed rows 899 to 919 and saved to c:\\Users\\Jensu\\OneDrive\\Documents\\GitHub\\CME358-Final_project\\house_data\\zolo_with_coords.csv.\n"
     ]
    },
    {
     "name": "stderr",
     "output_type": "stream",
     "text": [
      " 75%|███████▌  | 15/20 [00:02<00:00,  6.26it/s]"
     ]
    },
    {
     "name": "stdout",
     "output_type": "stream",
     "text": [
      "Geocoding API error for address '38 South Kingslea Drive': ZERO_RESULTS\n"
     ]
    },
    {
     "name": "stderr",
     "output_type": "stream",
     "text": [
      "100%|██████████| 20/20 [00:03<00:00,  6.27it/s]\n"
     ]
    },
    {
     "name": "stdout",
     "output_type": "stream",
     "text": [
      "Processed rows 919 to 939 and saved to c:\\Users\\Jensu\\OneDrive\\Documents\\GitHub\\CME358-Final_project\\house_data\\zolo_with_coords.csv.\n"
     ]
    },
    {
     "name": "stderr",
     "output_type": "stream",
     "text": [
      " 55%|█████▌    | 11/20 [00:01<00:01,  6.43it/s]"
     ]
    },
    {
     "name": "stdout",
     "output_type": "stream",
     "text": [
      "Geocoding API error for address '9 Thirty Sixth Street': ZERO_RESULTS\n"
     ]
    },
    {
     "name": "stderr",
     "output_type": "stream",
     "text": [
      "100%|██████████| 20/20 [00:03<00:00,  6.23it/s]\n"
     ]
    },
    {
     "name": "stdout",
     "output_type": "stream",
     "text": [
      "Processed rows 939 to 959 and saved to c:\\Users\\Jensu\\OneDrive\\Documents\\GitHub\\CME358-Final_project\\house_data\\zolo_with_coords.csv.\n"
     ]
    },
    {
     "name": "stderr",
     "output_type": "stream",
     "text": [
      "100%|██████████| 20/20 [00:03<00:00,  6.39it/s]\n"
     ]
    },
    {
     "name": "stdout",
     "output_type": "stream",
     "text": [
      "Processed rows 959 to 979 and saved to c:\\Users\\Jensu\\OneDrive\\Documents\\GitHub\\CME358-Final_project\\house_data\\zolo_with_coords.csv.\n"
     ]
    },
    {
     "name": "stderr",
     "output_type": "stream",
     "text": [
      "100%|██████████| 20/20 [00:02<00:00,  6.60it/s]"
     ]
    },
    {
     "name": "stdout",
     "output_type": "stream",
     "text": [
      "Geocoding API error for address '47 Eighth Street': ZERO_RESULTS\n"
     ]
    },
    {
     "name": "stderr",
     "output_type": "stream",
     "text": [
      "100%|██████████| 20/20 [00:03<00:00,  6.39it/s]\n"
     ]
    },
    {
     "name": "stdout",
     "output_type": "stream",
     "text": [
      "Processed rows 979 to 999 and saved to c:\\Users\\Jensu\\OneDrive\\Documents\\GitHub\\CME358-Final_project\\house_data\\zolo_with_coords.csv.\n"
     ]
    },
    {
     "name": "stderr",
     "output_type": "stream",
     "text": [
      " 10%|█         | 2/20 [00:00<00:01, 13.33it/s]"
     ]
    },
    {
     "name": "stdout",
     "output_type": "stream",
     "text": [
      "Geocoding API error for address '111 Jones Avenue': ZERO_RESULTS\n"
     ]
    },
    {
     "name": "stderr",
     "output_type": "stream",
     "text": [
      "100%|██████████| 20/20 [00:03<00:00,  5.53it/s]\n"
     ]
    },
    {
     "name": "stdout",
     "output_type": "stream",
     "text": [
      "Processed rows 999 to 1019 and saved to c:\\Users\\Jensu\\OneDrive\\Documents\\GitHub\\CME358-Final_project\\house_data\\zolo_with_coords.csv.\n"
     ]
    },
    {
     "name": "stderr",
     "output_type": "stream",
     "text": [
      " 10%|█         | 2/20 [00:00<00:01, 13.68it/s]"
     ]
    },
    {
     "name": "stdout",
     "output_type": "stream",
     "text": [
      "Geocoding API error for address '15 Nevada Avenue': ZERO_RESULTS\n"
     ]
    },
    {
     "name": "stderr",
     "output_type": "stream",
     "text": [
      "100%|██████████| 20/20 [00:04<00:00,  4.58it/s]\n"
     ]
    },
    {
     "name": "stdout",
     "output_type": "stream",
     "text": [
      "Processed rows 1019 to 1039 and saved to c:\\Users\\Jensu\\OneDrive\\Documents\\GitHub\\CME358-Final_project\\house_data\\zolo_with_coords.csv.\n"
     ]
    },
    {
     "name": "stderr",
     "output_type": "stream",
     "text": [
      " 20%|██        | 4/20 [00:00<00:01,  8.59it/s]"
     ]
    },
    {
     "name": "stdout",
     "output_type": "stream",
     "text": [
      "Geocoding API error for address '14 Cosmic Drive': ZERO_RESULTS\n"
     ]
    },
    {
     "name": "stderr",
     "output_type": "stream",
     "text": [
      " 75%|███████▌  | 15/20 [00:02<00:00,  6.43it/s]"
     ]
    },
    {
     "name": "stdout",
     "output_type": "stream",
     "text": [
      "Geocoding API error for address '50 William Street': ZERO_RESULTS\n"
     ]
    },
    {
     "name": "stderr",
     "output_type": "stream",
     "text": [
      "100%|██████████| 20/20 [00:03<00:00,  6.29it/s]\n"
     ]
    },
    {
     "name": "stdout",
     "output_type": "stream",
     "text": [
      "Processed rows 1039 to 1059 and saved to c:\\Users\\Jensu\\OneDrive\\Documents\\GitHub\\CME358-Final_project\\house_data\\zolo_with_coords.csv.\n"
     ]
    },
    {
     "name": "stderr",
     "output_type": "stream",
     "text": [
      " 65%|██████▌   | 13/20 [00:01<00:01,  6.68it/s]"
     ]
    },
    {
     "name": "stdout",
     "output_type": "stream",
     "text": [
      "Geocoding API error for address '660R College Street': ZERO_RESULTS\n"
     ]
    },
    {
     "name": "stderr",
     "output_type": "stream",
     "text": [
      " 90%|█████████ | 18/20 [00:02<00:00,  6.42it/s]"
     ]
    },
    {
     "name": "stdout",
     "output_type": "stream",
     "text": [
      "Geocoding API error for address '21 Elm Avenue': ZERO_RESULTS\n"
     ]
    },
    {
     "name": "stderr",
     "output_type": "stream",
     "text": [
      "100%|██████████| 20/20 [00:03<00:00,  6.31it/s]\n"
     ]
    },
    {
     "name": "stdout",
     "output_type": "stream",
     "text": [
      "Processed rows 1059 to 1079 and saved to c:\\Users\\Jensu\\OneDrive\\Documents\\GitHub\\CME358-Final_project\\house_data\\zolo_with_coords.csv.\n"
     ]
    },
    {
     "name": "stderr",
     "output_type": "stream",
     "text": [
      "100%|██████████| 20/20 [00:03<00:00,  6.29it/s]\n"
     ]
    },
    {
     "name": "stdout",
     "output_type": "stream",
     "text": [
      "Processed rows 1079 to 1099 and saved to c:\\Users\\Jensu\\OneDrive\\Documents\\GitHub\\CME358-Final_project\\house_data\\zolo_with_coords.csv.\n"
     ]
    },
    {
     "name": "stderr",
     "output_type": "stream",
     "text": [
      " 80%|████████  | 16/20 [00:02<00:00,  6.65it/s]"
     ]
    },
    {
     "name": "stdout",
     "output_type": "stream",
     "text": [
      "Geocoding API error for address '34 Fireside Drive': ZERO_RESULTS\n"
     ]
    },
    {
     "name": "stderr",
     "output_type": "stream",
     "text": [
      "100%|██████████| 20/20 [00:03<00:00,  6.36it/s]\n"
     ]
    },
    {
     "name": "stdout",
     "output_type": "stream",
     "text": [
      "Processed rows 1099 to 1119 and saved to c:\\Users\\Jensu\\OneDrive\\Documents\\GitHub\\CME358-Final_project\\house_data\\zolo_with_coords.csv.\n"
     ]
    },
    {
     "name": "stderr",
     "output_type": "stream",
     "text": [
      " 10%|█         | 2/20 [00:00<00:01, 13.26it/s]"
     ]
    },
    {
     "name": "stdout",
     "output_type": "stream",
     "text": [
      "Geocoding API error for address '3 Sunset Avenue': ZERO_RESULTS\n"
     ]
    },
    {
     "name": "stderr",
     "output_type": "stream",
     "text": [
      " 75%|███████▌  | 15/20 [00:02<00:00,  6.83it/s]"
     ]
    },
    {
     "name": "stdout",
     "output_type": "stream",
     "text": [
      "Geocoding API error for address '26 Thirty Eighth Street': ZERO_RESULTS\n"
     ]
    },
    {
     "name": "stderr",
     "output_type": "stream",
     "text": [
      "100%|██████████| 20/20 [00:03<00:00,  6.39it/s]\n"
     ]
    },
    {
     "name": "stdout",
     "output_type": "stream",
     "text": [
      "Geocoding API error for address '2103 Avenue Road': ZERO_RESULTS\n",
      "Processed rows 1119 to 1139 and saved to c:\\Users\\Jensu\\OneDrive\\Documents\\GitHub\\CME358-Final_project\\house_data\\zolo_with_coords.csv.\n"
     ]
    },
    {
     "name": "stderr",
     "output_type": "stream",
     "text": [
      " 10%|█         | 2/20 [00:00<00:01, 13.29it/s]"
     ]
    },
    {
     "name": "stdout",
     "output_type": "stream",
     "text": [
      "Geocoding API error for address '18 Shoreview Drive': ZERO_RESULTS\n"
     ]
    },
    {
     "name": "stderr",
     "output_type": "stream",
     "text": [
      "100%|██████████| 20/20 [00:03<00:00,  6.19it/s]\n"
     ]
    },
    {
     "name": "stdout",
     "output_type": "stream",
     "text": [
      "Processed rows 1139 to 1159 and saved to c:\\Users\\Jensu\\OneDrive\\Documents\\GitHub\\CME358-Final_project\\house_data\\zolo_with_coords.csv.\n"
     ]
    },
    {
     "name": "stderr",
     "output_type": "stream",
     "text": [
      "100%|██████████| 20/20 [00:03<00:00,  6.07it/s]\n"
     ]
    },
    {
     "name": "stdout",
     "output_type": "stream",
     "text": [
      "Processed rows 1159 to 1179 and saved to c:\\Users\\Jensu\\OneDrive\\Documents\\GitHub\\CME358-Final_project\\house_data\\zolo_with_coords.csv.\n"
     ]
    },
    {
     "name": "stderr",
     "output_type": "stream",
     "text": [
      " 40%|████      | 8/20 [00:01<00:01,  6.81it/s]"
     ]
    },
    {
     "name": "stdout",
     "output_type": "stream",
     "text": [
      "Geocoding API error for address '47 Laurel Avenue': ZERO_RESULTS\n"
     ]
    },
    {
     "name": "stderr",
     "output_type": "stream",
     "text": [
      "100%|██████████| 20/20 [00:03<00:00,  6.24it/s]\n"
     ]
    },
    {
     "name": "stdout",
     "output_type": "stream",
     "text": [
      "Processed rows 1179 to 1199 and saved to c:\\Users\\Jensu\\OneDrive\\Documents\\GitHub\\CME358-Final_project\\house_data\\zolo_with_coords.csv.\n"
     ]
    },
    {
     "name": "stderr",
     "output_type": "stream",
     "text": [
      " 40%|████      | 8/20 [00:01<00:01,  7.12it/s]"
     ]
    },
    {
     "name": "stdout",
     "output_type": "stream",
     "text": [
      "Geocoding API error for address '105 Tenth Street': ZERO_RESULTS\n"
     ]
    },
    {
     "name": "stderr",
     "output_type": "stream",
     "text": [
      "100%|██████████| 20/20 [00:03<00:00,  6.33it/s]\n"
     ]
    },
    {
     "name": "stdout",
     "output_type": "stream",
     "text": [
      "Processed rows 1199 to 1219 and saved to c:\\Users\\Jensu\\OneDrive\\Documents\\GitHub\\CME358-Final_project\\house_data\\zolo_with_coords.csv.\n"
     ]
    },
    {
     "name": "stderr",
     "output_type": "stream",
     "text": [
      " 90%|█████████ | 18/20 [00:02<00:00,  6.04it/s]"
     ]
    },
    {
     "name": "stdout",
     "output_type": "stream",
     "text": [
      "Geocoding API error for address '73 Eleventh Street': ZERO_RESULTS\n"
     ]
    },
    {
     "name": "stderr",
     "output_type": "stream",
     "text": [
      "100%|██████████| 20/20 [00:03<00:00,  6.07it/s]\n"
     ]
    },
    {
     "name": "stdout",
     "output_type": "stream",
     "text": [
      "Processed rows 1219 to 1239 and saved to c:\\Users\\Jensu\\OneDrive\\Documents\\GitHub\\CME358-Final_project\\house_data\\zolo_with_coords.csv.\n"
     ]
    },
    {
     "name": "stderr",
     "output_type": "stream",
     "text": [
      "100%|██████████| 20/20 [00:03<00:00,  6.22it/s]\n"
     ]
    },
    {
     "name": "stdout",
     "output_type": "stream",
     "text": [
      "Processed rows 1239 to 1259 and saved to c:\\Users\\Jensu\\OneDrive\\Documents\\GitHub\\CME358-Final_project\\house_data\\zolo_with_coords.csv.\n"
     ]
    },
    {
     "name": "stderr",
     "output_type": "stream",
     "text": [
      "100%|██████████| 20/20 [00:03<00:00,  6.11it/s]\n"
     ]
    },
    {
     "name": "stdout",
     "output_type": "stream",
     "text": [
      "Processed rows 1259 to 1279 and saved to c:\\Users\\Jensu\\OneDrive\\Documents\\GitHub\\CME358-Final_project\\house_data\\zolo_with_coords.csv.\n"
     ]
    },
    {
     "name": "stderr",
     "output_type": "stream",
     "text": [
      " 85%|████████▌ | 17/20 [00:02<00:00,  6.74it/s]"
     ]
    },
    {
     "name": "stdout",
     "output_type": "stream",
     "text": [
      "Geocoding API error for address '9 Swiss Court': ZERO_RESULTS\n"
     ]
    },
    {
     "name": "stderr",
     "output_type": "stream",
     "text": [
      "100%|██████████| 20/20 [00:03<00:00,  6.39it/s]\n"
     ]
    },
    {
     "name": "stdout",
     "output_type": "stream",
     "text": [
      "Processed rows 1279 to 1299 and saved to c:\\Users\\Jensu\\OneDrive\\Documents\\GitHub\\CME358-Final_project\\house_data\\zolo_with_coords.csv.\n"
     ]
    },
    {
     "name": "stderr",
     "output_type": "stream",
     "text": [
      "100%|██████████| 20/20 [00:03<00:00,  6.19it/s]\n"
     ]
    },
    {
     "name": "stdout",
     "output_type": "stream",
     "text": [
      "Processed rows 1299 to 1319 and saved to c:\\Users\\Jensu\\OneDrive\\Documents\\GitHub\\CME358-Final_project\\house_data\\zolo_with_coords.csv.\n"
     ]
    },
    {
     "name": "stderr",
     "output_type": "stream",
     "text": [
      "100%|██████████| 20/20 [00:03<00:00,  6.34it/s]\n"
     ]
    },
    {
     "name": "stdout",
     "output_type": "stream",
     "text": [
      "Processed rows 1319 to 1339 and saved to c:\\Users\\Jensu\\OneDrive\\Documents\\GitHub\\CME358-Final_project\\house_data\\zolo_with_coords.csv.\n"
     ]
    },
    {
     "name": "stderr",
     "output_type": "stream",
     "text": [
      "100%|██████████| 20/20 [00:03<00:00,  6.59it/s]\n"
     ]
    },
    {
     "name": "stdout",
     "output_type": "stream",
     "text": [
      "Processed rows 1339 to 1359 and saved to c:\\Users\\Jensu\\OneDrive\\Documents\\GitHub\\CME358-Final_project\\house_data\\zolo_with_coords.csv.\n"
     ]
    },
    {
     "name": "stderr",
     "output_type": "stream",
     "text": [
      " 90%|█████████ | 18/20 [00:02<00:00,  6.56it/s]"
     ]
    },
    {
     "name": "stdout",
     "output_type": "stream",
     "text": [
      "Geocoding API error for address '9 Thirteenth Street': ZERO_RESULTS\n"
     ]
    },
    {
     "name": "stderr",
     "output_type": "stream",
     "text": [
      "100%|██████████| 20/20 [00:03<00:00,  6.35it/s]\n"
     ]
    },
    {
     "name": "stdout",
     "output_type": "stream",
     "text": [
      "Processed rows 1359 to 1379 and saved to c:\\Users\\Jensu\\OneDrive\\Documents\\GitHub\\CME358-Final_project\\house_data\\zolo_with_coords.csv.\n"
     ]
    },
    {
     "name": "stderr",
     "output_type": "stream",
     "text": [
      "100%|██████████| 20/20 [00:03<00:00,  6.29it/s]"
     ]
    },
    {
     "name": "stdout",
     "output_type": "stream",
     "text": [
      "Geocoding API error for address '102 Twenty Third Street': ZERO_RESULTS\n"
     ]
    },
    {
     "name": "stderr",
     "output_type": "stream",
     "text": [
      "\n"
     ]
    },
    {
     "name": "stdout",
     "output_type": "stream",
     "text": [
      "Processed rows 1379 to 1399 and saved to c:\\Users\\Jensu\\OneDrive\\Documents\\GitHub\\CME358-Final_project\\house_data\\zolo_with_coords.csv.\n"
     ]
    },
    {
     "name": "stderr",
     "output_type": "stream",
     "text": [
      " 25%|██▌       | 5/20 [00:00<00:01,  7.74it/s]"
     ]
    },
    {
     "name": "stdout",
     "output_type": "stream",
     "text": [
      "Geocoding API error for address '128 Laurel Avenue': ZERO_RESULTS\n"
     ]
    },
    {
     "name": "stderr",
     "output_type": "stream",
     "text": [
      "100%|██████████| 20/20 [00:03<00:00,  6.43it/s]\n"
     ]
    },
    {
     "name": "stdout",
     "output_type": "stream",
     "text": [
      "Processed rows 1399 to 1419 and saved to c:\\Users\\Jensu\\OneDrive\\Documents\\GitHub\\CME358-Final_project\\house_data\\zolo_with_coords.csv.\n"
     ]
    },
    {
     "name": "stderr",
     "output_type": "stream",
     "text": [
      "100%|██████████| 20/20 [00:03<00:00,  6.36it/s]\n"
     ]
    },
    {
     "name": "stdout",
     "output_type": "stream",
     "text": [
      "Processed rows 1419 to 1439 and saved to c:\\Users\\Jensu\\OneDrive\\Documents\\GitHub\\CME358-Final_project\\house_data\\zolo_with_coords.csv.\n"
     ]
    },
    {
     "name": "stderr",
     "output_type": "stream",
     "text": [
      "100%|██████████| 20/20 [00:03<00:00,  6.11it/s]\n"
     ]
    },
    {
     "name": "stdout",
     "output_type": "stream",
     "text": [
      "Processed rows 1439 to 1459 and saved to c:\\Users\\Jensu\\OneDrive\\Documents\\GitHub\\CME358-Final_project\\house_data\\zolo_with_coords.csv.\n"
     ]
    },
    {
     "name": "stderr",
     "output_type": "stream",
     "text": [
      "100%|██████████| 20/20 [00:03<00:00,  6.29it/s]\n"
     ]
    },
    {
     "name": "stdout",
     "output_type": "stream",
     "text": [
      "Processed rows 1459 to 1479 and saved to c:\\Users\\Jensu\\OneDrive\\Documents\\GitHub\\CME358-Final_project\\house_data\\zolo_with_coords.csv.\n"
     ]
    },
    {
     "name": "stderr",
     "output_type": "stream",
     "text": [
      "100%|██████████| 20/20 [00:03<00:00,  6.25it/s]\n"
     ]
    },
    {
     "name": "stdout",
     "output_type": "stream",
     "text": [
      "Processed rows 1479 to 1499 and saved to c:\\Users\\Jensu\\OneDrive\\Documents\\GitHub\\CME358-Final_project\\house_data\\zolo_with_coords.csv.\n"
     ]
    },
    {
     "name": "stderr",
     "output_type": "stream",
     "text": [
      "100%|██████████| 20/20 [00:03<00:00,  6.16it/s]\n"
     ]
    },
    {
     "name": "stdout",
     "output_type": "stream",
     "text": [
      "Processed rows 1499 to 1519 and saved to c:\\Users\\Jensu\\OneDrive\\Documents\\GitHub\\CME358-Final_project\\house_data\\zolo_with_coords.csv.\n"
     ]
    },
    {
     "name": "stderr",
     "output_type": "stream",
     "text": [
      "100%|██████████| 20/20 [00:03<00:00,  6.32it/s]\n"
     ]
    },
    {
     "name": "stdout",
     "output_type": "stream",
     "text": [
      "Processed rows 1519 to 1539 and saved to c:\\Users\\Jensu\\OneDrive\\Documents\\GitHub\\CME358-Final_project\\house_data\\zolo_with_coords.csv.\n"
     ]
    },
    {
     "name": "stderr",
     "output_type": "stream",
     "text": [
      "100%|██████████| 20/20 [00:03<00:00,  6.26it/s]\n"
     ]
    },
    {
     "name": "stdout",
     "output_type": "stream",
     "text": [
      "Processed rows 1539 to 1559 and saved to c:\\Users\\Jensu\\OneDrive\\Documents\\GitHub\\CME358-Final_project\\house_data\\zolo_with_coords.csv.\n"
     ]
    },
    {
     "name": "stderr",
     "output_type": "stream",
     "text": [
      " 10%|█         | 2/20 [00:00<00:01, 12.08it/s]"
     ]
    },
    {
     "name": "stdout",
     "output_type": "stream",
     "text": [
      "Geocoding API error for address '119 Preston Street': ZERO_RESULTS\n"
     ]
    },
    {
     "name": "stderr",
     "output_type": "stream",
     "text": [
      "100%|██████████| 20/20 [00:03<00:00,  6.19it/s]\n"
     ]
    },
    {
     "name": "stdout",
     "output_type": "stream",
     "text": [
      "Processed rows 1559 to 1579 and saved to c:\\Users\\Jensu\\OneDrive\\Documents\\GitHub\\CME358-Final_project\\house_data\\zolo_with_coords.csv.\n"
     ]
    },
    {
     "name": "stderr",
     "output_type": "stream",
     "text": [
      "100%|██████████| 20/20 [00:03<00:00,  6.21it/s]\n"
     ]
    },
    {
     "name": "stdout",
     "output_type": "stream",
     "text": [
      "Processed rows 1579 to 1599 and saved to c:\\Users\\Jensu\\OneDrive\\Documents\\GitHub\\CME358-Final_project\\house_data\\zolo_with_coords.csv.\n"
     ]
    },
    {
     "name": "stderr",
     "output_type": "stream",
     "text": [
      "100%|██████████| 20/20 [00:03<00:00,  6.33it/s]\n"
     ]
    },
    {
     "name": "stdout",
     "output_type": "stream",
     "text": [
      "Processed rows 1599 to 1619 and saved to c:\\Users\\Jensu\\OneDrive\\Documents\\GitHub\\CME358-Final_project\\house_data\\zolo_with_coords.csv.\n"
     ]
    },
    {
     "name": "stderr",
     "output_type": "stream",
     "text": [
      " 35%|███▌      | 7/20 [00:00<00:01,  6.87it/s]"
     ]
    },
    {
     "name": "stdout",
     "output_type": "stream",
     "text": [
      "Geocoding API error for address '9 Plains Road': ZERO_RESULTS\n"
     ]
    },
    {
     "name": "stderr",
     "output_type": "stream",
     "text": [
      "100%|██████████| 20/20 [00:03<00:00,  6.58it/s]"
     ]
    },
    {
     "name": "stdout",
     "output_type": "stream",
     "text": [
      "Geocoding API error for address '19 Country Lane': ZERO_RESULTS\n"
     ]
    },
    {
     "name": "stderr",
     "output_type": "stream",
     "text": [
      "100%|██████████| 20/20 [00:03<00:00,  6.26it/s]\n"
     ]
    },
    {
     "name": "stdout",
     "output_type": "stream",
     "text": [
      "Processed rows 1619 to 1639 and saved to c:\\Users\\Jensu\\OneDrive\\Documents\\GitHub\\CME358-Final_project\\house_data\\zolo_with_coords.csv.\n"
     ]
    },
    {
     "name": "stderr",
     "output_type": "stream",
     "text": [
      " 10%|█         | 2/20 [00:00<00:01, 17.15it/s]"
     ]
    },
    {
     "name": "stdout",
     "output_type": "stream",
     "text": [
      "Geocoding API error for address '101 Ninth Street': ZERO_RESULTS\n"
     ]
    },
    {
     "name": "stderr",
     "output_type": "stream",
     "text": [
      " 55%|█████▌    | 11/20 [00:01<00:01,  6.71it/s]"
     ]
    },
    {
     "name": "stdout",
     "output_type": "stream",
     "text": [
      "Geocoding API error for address '54 Wedgewood Drive': ZERO_RESULTS\n"
     ]
    },
    {
     "name": "stderr",
     "output_type": "stream",
     "text": [
      "100%|██████████| 20/20 [00:03<00:00,  6.37it/s]\n"
     ]
    },
    {
     "name": "stdout",
     "output_type": "stream",
     "text": [
      "Processed rows 1639 to 1659 and saved to c:\\Users\\Jensu\\OneDrive\\Documents\\GitHub\\CME358-Final_project\\house_data\\zolo_with_coords.csv.\n"
     ]
    },
    {
     "name": "stderr",
     "output_type": "stream",
     "text": [
      " 50%|█████     | 10/20 [00:01<00:01,  6.72it/s]"
     ]
    },
    {
     "name": "stdout",
     "output_type": "stream",
     "text": [
      "Geocoding API error for address '42A Linden Avenue': ZERO_RESULTS\n"
     ]
    },
    {
     "name": "stderr",
     "output_type": "stream",
     "text": [
      "100%|██████████| 20/20 [00:03<00:00,  6.28it/s]\n"
     ]
    },
    {
     "name": "stdout",
     "output_type": "stream",
     "text": [
      "Processed rows 1659 to 1679 and saved to c:\\Users\\Jensu\\OneDrive\\Documents\\GitHub\\CME358-Final_project\\house_data\\zolo_with_coords.csv.\n"
     ]
    },
    {
     "name": "stderr",
     "output_type": "stream",
     "text": [
      "100%|██████████| 20/20 [00:03<00:00,  6.36it/s]\n"
     ]
    },
    {
     "name": "stdout",
     "output_type": "stream",
     "text": [
      "Processed rows 1679 to 1699 and saved to c:\\Users\\Jensu\\OneDrive\\Documents\\GitHub\\CME358-Final_project\\house_data\\zolo_with_coords.csv.\n"
     ]
    },
    {
     "name": "stderr",
     "output_type": "stream",
     "text": [
      "100%|██████████| 20/20 [00:03<00:00,  6.34it/s]\n"
     ]
    },
    {
     "name": "stdout",
     "output_type": "stream",
     "text": [
      "Processed rows 1699 to 1719 and saved to c:\\Users\\Jensu\\OneDrive\\Documents\\GitHub\\CME358-Final_project\\house_data\\zolo_with_coords.csv.\n"
     ]
    },
    {
     "name": "stderr",
     "output_type": "stream",
     "text": [
      " 60%|██████    | 12/20 [00:01<00:01,  6.67it/s]"
     ]
    },
    {
     "name": "stdout",
     "output_type": "stream",
     "text": [
      "Geocoding API error for address '303 Delta Street': ZERO_RESULTS\n"
     ]
    },
    {
     "name": "stderr",
     "output_type": "stream",
     "text": [
      "100%|██████████| 20/20 [00:03<00:00,  6.62it/s]\n"
     ]
    },
    {
     "name": "stdout",
     "output_type": "stream",
     "text": [
      "Processed rows 1719 to 1739 and saved to c:\\Users\\Jensu\\OneDrive\\Documents\\GitHub\\CME358-Final_project\\house_data\\zolo_with_coords.csv.\n"
     ]
    },
    {
     "name": "stderr",
     "output_type": "stream",
     "text": [
      " 95%|█████████▌| 19/20 [00:02<00:00,  6.83it/s]"
     ]
    },
    {
     "name": "stdout",
     "output_type": "stream",
     "text": [
      "Geocoding API error for address '1198 Avenue Road': ZERO_RESULTS\n",
      "Geocoding API error for address '1196 Avenue Road': ZERO_RESULTS\n"
     ]
    },
    {
     "name": "stderr",
     "output_type": "stream",
     "text": [
      "100%|██████████| 20/20 [00:03<00:00,  6.36it/s]\n"
     ]
    },
    {
     "name": "stdout",
     "output_type": "stream",
     "text": [
      "Processed rows 1739 to 1759 and saved to c:\\Users\\Jensu\\OneDrive\\Documents\\GitHub\\CME358-Final_project\\house_data\\zolo_with_coords.csv.\n"
     ]
    },
    {
     "name": "stderr",
     "output_type": "stream",
     "text": [
      " 95%|█████████▍| 18/19 [00:03<00:00,  5.07it/s]"
     ]
    },
    {
     "name": "stdout",
     "output_type": "stream",
     "text": [
      "Geocoding API error for address '85 Kenilworth Avenue': ZERO_RESULTS\n"
     ]
    },
    {
     "name": "stderr",
     "output_type": "stream",
     "text": [
      "100%|██████████| 19/19 [00:03<00:00,  5.00it/s]"
     ]
    },
    {
     "name": "stdout",
     "output_type": "stream",
     "text": [
      "Processed rows 1759 to 1778 and saved to c:\\Users\\Jensu\\OneDrive\\Documents\\GitHub\\CME358-Final_project\\house_data\\zolo_with_coords.csv.\n"
     ]
    },
    {
     "name": "stderr",
     "output_type": "stream",
     "text": [
      "\n"
     ]
    }
   ],
   "source": [
    "output_csv = current_dir.parent/\"house_data\"/\"zolo_with_coords.csv\"\n",
    "\n",
    "process_dataframe_in_chunks(zolo_data, chunk_size=20, api_key=api_key, output_csv=output_csv)\n"
   ]
  },
  {
   "cell_type": "code",
   "execution_count": 37,
   "metadata": {},
   "outputs": [],
   "source": [
    "zolo_with_coords = pd.read_csv(output_csv)\n",
    "zolo_with_coords.reset_index(drop=True, inplace=True)\n",
    "zolo_with_coords_new_cols = list(zolo_data.columns)\n",
    "\n",
    "zolo_with_coords_new_cols.append(\"lat\")\n",
    "zolo_with_coords_new_cols.append(\"long\")\n",
    "zolo_with_coords_new_cols\n",
    "\n",
    "zolo_with_coords.columns = zolo_with_coords_new_cols\n",
    "missing_coords_df = zolo_with_coords[\n",
    "    zolo_with_coords['lat']== None\n",
    "]\n",
    "zolo_with_coords.isna().sum()\n",
    "zolo_with_coords.dropna(subset=['lat','long'], inplace=True)\n",
    "zolo_with_coords.isna().sum()\n",
    "\n",
    "zolo_with_coords.to_csv(output_csv)"
   ]
  }
 ],
 "metadata": {
  "kernelspec": {
   "display_name": "venv",
   "language": "python",
   "name": "python3"
  },
  "language_info": {
   "codemirror_mode": {
    "name": "ipython",
    "version": 3
   },
   "file_extension": ".py",
   "mimetype": "text/x-python",
   "name": "python",
   "nbconvert_exporter": "python",
   "pygments_lexer": "ipython3",
   "version": "3.12.7"
  }
 },
 "nbformat": 4,
 "nbformat_minor": 2
}
