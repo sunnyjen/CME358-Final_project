{
 "cells": [
  {
   "cell_type": "markdown",
   "metadata": {},
   "source": [
    "# School PDF Convert to CSV\n",
    "KR 11/28"
   ]
  },
  {
   "cell_type": "code",
   "execution_count": 3,
   "metadata": {},
   "outputs": [],
   "source": [
    "# imports\n",
    "import pdfplumber\n",
    "import pandas as pd\n",
    "from pathlib import Path\n",
    "import os\n",
    "import numpy as np\n",
    "import geopandas as gpd"
   ]
  },
  {
   "cell_type": "code",
   "execution_count": 12,
   "metadata": {},
   "outputs": [],
   "source": [
    "# EQAO PDF to CSV\n",
    "\n",
    "current_dir = Path.cwd()\n",
    "\n",
    "parent_dir = current_dir.parent\n",
    "csv_folder = parent_dir / 'school_data' / 'csv'\n",
    "pdf_path = parent_dir / \"school_data\" / \"pdf\" / \"2021_EQAO.pdf\"\n",
    "\n",
    "csv_folder.mkdir(parents=True, exist_ok=True)\n",
    "\n",
    "all_tables = []\n",
    "\n",
    "# Open the PDF with pdfplumber\n",
    "with pdfplumber.open(pdf_path) as pdf:\n",
    "    for page in pdf.pages:\n",
    "        all_tables.append(page.extract_tables())\n",
    "            \n",
    "final_tables = []\n",
    "for i in range(len(all_tables)):\n",
    "    final_tables.extend(all_tables[i][0][3:])\n",
    "\n",
    "efinal_df = pd.DataFrame(final_tables, columns = all_tables[1][0][0])\n",
    "\n",
    "over_ride = False\n",
    "if over_ride:\n",
    "    efinal_df.to_csv(parent_dir / 'school_data' / 'csv' / '2021_EQAO.csv', index=False)\n"
   ]
  },
  {
   "cell_type": "code",
   "execution_count": null,
   "metadata": {},
   "outputs": [],
   "source": [
    "# OSSLT PDF to CSV\n",
    "\n",
    "pdf_path = parent_dir/'school_data'/\"pdf\"/ \"2021_osslt.pdf\"\n",
    "# Initialize an empty list to hold table data\n",
    "all_tables = []\n",
    " \n",
    "# Open the PDF with pdfplumber\n",
    "with pdfplumber.open(pdf_path) as pdf:\n",
    "    for page in pdf.pages:\n",
    "        # Extract tables from the current page\n",
    "        all_tables.append(page.extract_tables())\n",
    "\n",
    "final_tables = []\n",
    "for i in range(1, len(all_tables)):\n",
    "    final_tables.extend(all_tables[i][0])\n",
    "\n",
    "ofinal_df = pd.DataFrame(final_tables, columns = all_tables[1][0][0])\n",
    "\n",
    "over_ride = False\n",
    "if over_ride:\n",
    "    ofinal_df.to_csv(parent_dir / 'school_data' / 'csv' / '2021_OSSLT.csv', index=False)\n"
   ]
  }
 ],
 "metadata": {
  "kernelspec": {
   "display_name": "base",
   "language": "python",
   "name": "python3"
  },
  "language_info": {
   "codemirror_mode": {
    "name": "ipython",
    "version": 3
   },
   "file_extension": ".py",
   "mimetype": "text/x-python",
   "name": "python",
   "nbconvert_exporter": "python",
   "pygments_lexer": "ipython3",
   "version": "3.12.4"
  }
 },
 "nbformat": 4,
 "nbformat_minor": 2
}
