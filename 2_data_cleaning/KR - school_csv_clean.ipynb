{
 "cells": [
  {
   "cell_type": "markdown",
   "metadata": {},
   "source": [
    "# Clean school CSV and Export Final Cleaned CSVs\n",
    "\n",
    "KR - 11/28"
   ]
  },
  {
   "cell_type": "code",
   "execution_count": 1,
   "metadata": {},
   "outputs": [],
   "source": [
    "# imports\n",
    "import pdfplumber\n",
    "import pandas as pd\n",
    "from pathlib import Path\n",
    "import os\n",
    "import numpy as np\n",
    "import geopandas as gpd"
   ]
  },
  {
   "cell_type": "code",
   "execution_count": 2,
   "metadata": {},
   "outputs": [],
   "source": [
    "# Paths\n",
    "current_dir = Path.cwd()\n",
    "\n",
    "parent_dir = current_dir.parent\n",
    "csv_folder = parent_dir / '0_raw_data' / 'school_data' / 'csv'"
   ]
  },
  {
   "cell_type": "code",
   "execution_count": 3,
   "metadata": {},
   "outputs": [],
   "source": [
    "# final cleaned osslt\n",
    "osslt = pd.read_csv(csv_folder / '2021_OSSLT.csv')\n",
    "\n",
    "osslt.loc[:, 'Successful (Fully Participating)'] = osslt.iloc[:, 16:20].apply(\n",
    "    lambda row: next((x for x in row if isinstance(x, str) and (x.endswith('%') or x not in ['None', 'N/R'])), None),\n",
    "    axis=1\n",
    ")\n",
    "osslt = osslt[osslt['School Name'].notna() & \n",
    "              (osslt['School Name'] != 'None') & \n",
    "              (osslt['School Name'] != 'School Name') & \n",
    "              (osslt['School Name'] != '')]\n",
    "osslt.loc[:, 'Successful (Fully Participating)'] = osslt['Successful (Fully Participating)'].replace(['N/R', ''], np.nan).str.replace('%', '').astype(float)\n",
    "osslt = osslt.iloc[:, [0]].join(osslt[['Successful (Fully Participating)']])\n",
    "\n",
    "osslt = osslt.rename(columns={'Successful (Fully Participating)': 'OSSLT % Successful'})\n",
    "\n",
    "over_ride = False\n",
    "if over_ride:\n",
    "    osslt.to_csv(parent_dir / \"2_data_cleaning\" / \"cleaned_csv\" / 'OSSLT_final.csv', index=False)"
   ]
  },
  {
   "cell_type": "code",
   "execution_count": 4,
   "metadata": {},
   "outputs": [],
   "source": [
    "# final cleaned eqao\n",
    "\n",
    "eqao = pd.read_csv(csv_folder / '2021_EQAO.csv')\n",
    "\n",
    "eqao = eqao.iloc[:, [0, 4]]\n",
    "eqao.columns = eqao.columns.str.replace('\\n', ' ')\n",
    "eqao.loc[:, '% at Levels 3/4'] = eqao['% at Levels 3/4'].replace('N/R', np.nan).str.replace('%', '').astype(float)\n",
    "\n",
    "eqao = eqao.rename(columns={'% at Levels 3/4': 'EQAO % at Levels 3/4'})\n",
    "\n",
    "over_ride = False\n",
    "if over_ride:\n",
    "    eqao.to_csv(parent_dir / \"2_data_cleaning\" / \"cleaned_csv\" / 'EQAO_final.csv', index=False)"
   ]
  },
  {
   "cell_type": "code",
   "execution_count": 5,
   "metadata": {},
   "outputs": [],
   "source": [
    "# final cleaned highschool\n",
    "high = pd.read_csv(csv_folder / \"secondary_schools_combined.csv\")\n",
    "\n",
    "high = high[high[\"3\"] == \"Toronto\"]\n",
    "high = high.drop(columns=['2', '4', '5'])\n",
    "high = high.reset_index(drop=True)\n",
    "high.columns = [\"School Name\", \"Score\", \"City\"]\n",
    "high = high.drop(columns=\"City\")\n",
    "\n",
    "high['Score'] = pd.to_numeric(high['Score'], errors='coerce')\n",
    "\n",
    "high = high.rename(columns={'Score': 'Fraiser Score'})\n",
    "\n",
    "over_ride = False\n",
    "if over_ride:\n",
    "    high.to_csv(parent_dir / \"2_data_cleaning\" / \"cleaned_csv\" / 'Highschool_final.csv', index=False)"
   ]
  }
 ],
 "metadata": {
  "kernelspec": {
   "display_name": "base",
   "language": "python",
   "name": "python3"
  },
  "language_info": {
   "codemirror_mode": {
    "name": "ipython",
    "version": 3
   },
   "file_extension": ".py",
   "mimetype": "text/x-python",
   "name": "python",
   "nbconvert_exporter": "python",
   "pygments_lexer": "ipython3",
   "version": "3.12.4"
  }
 },
 "nbformat": 4,
 "nbformat_minor": 2
}
