{
 "cells": [
  {
   "cell_type": "code",
   "execution_count": null,
   "metadata": {},
   "outputs": [],
   "source": [
    "import pandas as pd\n",
    "import os\n",
    "import numpy as np\n",
    "import ast"
   ]
  },
  {
   "cell_type": "markdown",
   "metadata": {},
   "source": [
    "Drop duplicates (by address), calculate the sqft if the listing has a range for the sqft or room dimensions, and drop rows with missing values for either price or sqft"
   ]
  },
  {
   "cell_type": "code",
   "execution_count": null,
   "metadata": {},
   "outputs": [],
   "source": [
    "zolo = pd.read_csv(\"zolo_listings_final_all_features.csv\") # Old (missing more values)"
   ]
  },
  {
   "cell_type": "code",
   "execution_count": 49,
   "metadata": {},
   "outputs": [],
   "source": [
    "zolo = pd.read_csv(\"new_zolo_listings.csv\")"
   ]
  },
  {
   "cell_type": "code",
   "execution_count": 50,
   "metadata": {},
   "outputs": [
    {
     "data": {
      "text/plain": [
       "(2188, 238)"
      ]
     },
     "execution_count": 50,
     "metadata": {},
     "output_type": "execute_result"
    }
   ],
   "source": [
    "zolo.shape"
   ]
  },
  {
   "cell_type": "code",
   "execution_count": 51,
   "metadata": {},
   "outputs": [],
   "source": [
    "zolo[\"price\"] = zolo[\"price\"].str.replace(\"$\", \"\").str.replace(\",\", \"\")"
   ]
  },
  {
   "cell_type": "code",
   "execution_count": 52,
   "metadata": {},
   "outputs": [],
   "source": [
    "zolo = zolo[zolo[\"price\"].str.isdigit() & zolo[\"price\"].notna()]"
   ]
  },
  {
   "cell_type": "code",
   "execution_count": 53,
   "metadata": {},
   "outputs": [
    {
     "data": {
      "text/plain": [
       "(1972, 238)"
      ]
     },
     "execution_count": 53,
     "metadata": {},
     "output_type": "execute_result"
    }
   ],
   "source": [
    "zolo.shape"
   ]
  },
  {
   "cell_type": "code",
   "execution_count": 54,
   "metadata": {},
   "outputs": [
    {
     "data": {
      "text/plain": [
       "(1952, 238)"
      ]
     },
     "execution_count": 54,
     "metadata": {},
     "output_type": "execute_result"
    }
   ],
   "source": [
    "zolo.drop_duplicates(subset=['address'], inplace=True)\n",
    "zolo.shape"
   ]
  },
  {
   "cell_type": "code",
   "execution_count": 57,
   "metadata": {},
   "outputs": [],
   "source": [
    "# Filter out listings with no way to find the sqft.\n",
    "\n",
    "import ast\n",
    "\n",
    "# Extract first room dimension (length) if the room dimensions are in a list format\n",
    "zolo[\"sample_split_dimension\"] = zolo[\"room dimensions\"].apply(\n",
    "    lambda x: ast.literal_eval(x)[0].split(\"x\")[0] if isinstance(ast.literal_eval(x), list) and len(ast.literal_eval(x)) > 0 else None\n",
    ")\n",
    "\n",
    "# Convert the first dimension to float if it's not \"N/A\" or None, else set to None\n",
    "zolo[\"sample_split_dimension\"] = zolo[\"sample_split_dimension\"].apply(\n",
    "    lambda x: float(x) if x != \"N/A\" and x is not None else None\n",
    ")\n",
    "\n",
    "# Now filter rows where `sample_split_dimension` is a valid float or `Size (sq ft)` is not NaN\n",
    "zolo = zolo[\n",
    "    zolo[\"sample_split_dimension\"].notna() |  # Keep rows where the dimension is a valid float (not NaN)\n",
    "    zolo[\"Size (sq ft)\"].notna()  # Keep rows where \"Size (sq ft)\" is not NaN\n",
    "]"
   ]
  },
  {
   "cell_type": "code",
   "execution_count": 58,
   "metadata": {},
   "outputs": [
    {
     "data": {
      "text/plain": [
       "(1775, 239)"
      ]
     },
     "execution_count": 58,
     "metadata": {},
     "output_type": "execute_result"
    }
   ],
   "source": [
    "zolo.shape"
   ]
  },
  {
   "cell_type": "code",
   "execution_count": 59,
   "metadata": {},
   "outputs": [
    {
     "data": {
      "text/html": [
       "<div>\n",
       "<style scoped>\n",
       "    .dataframe tbody tr th:only-of-type {\n",
       "        vertical-align: middle;\n",
       "    }\n",
       "\n",
       "    .dataframe tbody tr th {\n",
       "        vertical-align: top;\n",
       "    }\n",
       "\n",
       "    .dataframe thead th {\n",
       "        text-align: right;\n",
       "    }\n",
       "</style>\n",
       "<table border=\"1\" class=\"dataframe\">\n",
       "  <thead>\n",
       "    <tr style=\"text-align: right;\">\n",
       "      <th></th>\n",
       "      <th>price</th>\n",
       "      <th>address</th>\n",
       "      <th>rooms</th>\n",
       "      <th>room dimensions</th>\n",
       "      <th>room_properties</th>\n",
       "      <th>Status</th>\n",
       "      <th>Type</th>\n",
       "      <th>Style</th>\n",
       "      <th>Size (sq ft)</th>\n",
       "      <th>Age</th>\n",
       "      <th>...</th>\n",
       "      <th>Percent Building</th>\n",
       "      <th>Soil Test</th>\n",
       "      <th>Com_cn_fee</th>\n",
       "      <th>Ceiling Height</th>\n",
       "      <th>Crane</th>\n",
       "      <th>Industrial Area</th>\n",
       "      <th>Industrial Area Units</th>\n",
       "      <th>Llbo</th>\n",
       "      <th>Central Vac</th>\n",
       "      <th>sample_split_dimension</th>\n",
       "    </tr>\n",
       "  </thead>\n",
       "  <tbody>\n",
       "  </tbody>\n",
       "</table>\n",
       "<p>0 rows × 239 columns</p>\n",
       "</div>"
      ],
      "text/plain": [
       "Empty DataFrame\n",
       "Columns: [price, address, rooms, room dimensions, room_properties, Status, Type, Style, Size (sq ft), Age, Retirement, Area, Community, Bedrooms, Bathrooms, Kitchens, Rooms, Den/Family Room, Patio Terrace, Unit Exposure, Air Conditioning, Fireplace, Handicap Equipped, Pets, Stories, Basement, Energy Certificate, Heating, UFFI, Exterior, Garage, Parking Designation, Parking Features, Parking Places, Parking Total, Lockers, Maintenance, Taxes, Tax Year, Building Insurance Included, Common Elements Included, Water Included, Parcel Number, Cross Street, Municipality District, Condo Corporation, Corporation Number, Property Management, Virtual Tour, Ensuite Laundry, Laundry, Green PIS, Central A/C Included, Parking Included, Amenity, Feature, Bedrooms Plus, Rooms Plus, Parking Space, Parking Description, Locker Number, Heating Included, Transaction Type, Property Type, Attachment, Ownership, MLS®#, Bedrooms Above Ground, Foundation, Heating Fuel, Cooling, Total Stories, Parking Space (A), Parking Spaces (Total), Maintenance Fee, Payment Frequency, Water, Sewer, Location Description, Community Name, Acres, Video, Size (Interior), Bedrooms Below Ground, Half Bathrooms, Fireplaces (Total), Flooring, Appliances, Basement Status, Basement Features, Fire Protection, Building Amenities, Size, Landscape Features, Size Irregular, Depth, Size (Frontage), Elevator, Zoning, Land Amenties, ...]\n",
       "Index: []\n",
       "\n",
       "[0 rows x 239 columns]"
      ]
     },
     "execution_count": 59,
     "metadata": {},
     "output_type": "execute_result"
    }
   ],
   "source": [
    "zolo[zolo[\"address\"] == \"136 Anthony Road\"]"
   ]
  },
  {
   "cell_type": "code",
   "execution_count": 60,
   "metadata": {},
   "outputs": [],
   "source": [
    "def get_sqft(row, room_dimensions=None):\n",
    "    \"\"\"For Zolo dfs. \n",
    "    If Size (sq ft) is NaN, then replaces with the sqft calculated from the room dimensions.\n",
    "    If Size (sq ft) is a range (i.e., contains \"-\"), replaces with the average of the bounds.\"\"\"\n",
    "    \n",
    "    # If the 'Size (sq ft)' is a range (contains \"-\"):\n",
    "    if isinstance(row, str) and '-' in row:\n",
    "        lower, upper = row.split(\"-\")\n",
    "        # Calculate the average of the two bounds\n",
    "        return (float(lower) + float(upper)) / 2\n",
    "    \n",
    "    # If 'Size (sq ft)' is NaN, calculate from room dimensions\n",
    "    elif pd.isna(row) and room_dimensions:  \n",
    "        try:\n",
    "            # Check if 'room_dimensions' is a list-like or string that we can process\n",
    "            dimensions = ast.literal_eval(room_dimensions)\n",
    "            square_meters = 0\n",
    "\n",
    "            # If room dimensions is a list of room sizes (i.e., '200x300', '100x200', etc.)\n",
    "            if isinstance(dimensions, list):\n",
    "                for dimension in dimensions:\n",
    "                    # Only split if 'dimension' contains 'x'\n",
    "                    length, width = dimension.split(\"x\")\n",
    "                    square_meters += float(length.strip()) * float(width.strip())\n",
    "                    \n",
    "            return square_meters*10.7639\n",
    "        \n",
    "        except (ValueError, SyntaxError, TypeError):\n",
    "            # Handle invalid or malformed room dimensions\n",
    "            return np.nan\n",
    "\n",
    "    elif isinstance(row, str):\n",
    "        # If it's a string that doesn't contain a \"-\", remove any \"+\" and return the value as float\n",
    "        return float(row.replace(\"+\", \"\").replace(\">\", \"\").replace(\"<\", \"\").strip())\n",
    "    \n",
    "    else:\n",
    "        # If it's a numeric value (already a number), return it\n",
    "        return row\n",
    "\n",
    "# Apply the function to the 'Size (sq ft)' column, and pass the 'room dimensions' when needed\n",
    "zolo[\"Calculated_sqft\"] = zolo.apply(lambda row: get_sqft(row[\"Size (sq ft)\"], row.get('room dimensions', None)), axis=1)\n"
   ]
  },
  {
   "cell_type": "code",
   "execution_count": 61,
   "metadata": {},
   "outputs": [
    {
     "data": {
      "text/plain": [
       "np.int64(0)"
      ]
     },
     "execution_count": 61,
     "metadata": {},
     "output_type": "execute_result"
    }
   ],
   "source": [
    "zolo[\"Calculated_sqft\"] = pd.to_numeric(zolo[\"Calculated_sqft\"], errors='coerce')\n",
    "zolo = zolo[zolo[\"Calculated_sqft\"].notna()]\n",
    "zolo[\"Calculated_sqft\"].isna().sum()\n"
   ]
  },
  {
   "cell_type": "code",
   "execution_count": 62,
   "metadata": {},
   "outputs": [],
   "source": [
    "# Make sure all sqft values are floats\n",
    "zolo[\"Calculated_sqft\"] = zolo[\"Calculated_sqft\"].astype(float)"
   ]
  },
  {
   "cell_type": "code",
   "execution_count": 63,
   "metadata": {},
   "outputs": [
    {
     "data": {
      "text/plain": [
       "(1685, 240)"
      ]
     },
     "execution_count": 63,
     "metadata": {},
     "output_type": "execute_result"
    }
   ],
   "source": [
    "zolo.shape"
   ]
  },
  {
   "cell_type": "code",
   "execution_count": 65,
   "metadata": {},
   "outputs": [
    {
     "data": {
      "text/plain": [
       "np.int64(0)"
      ]
     },
     "execution_count": 65,
     "metadata": {},
     "output_type": "execute_result"
    }
   ],
   "source": [
    "zolo[\"address\"].isna().sum()"
   ]
  },
  {
   "cell_type": "code",
   "execution_count": 66,
   "metadata": {},
   "outputs": [],
   "source": [
    "zolo.to_csv(\"cleaned_zolo_from_newest_scraping.csv\", index=False)"
   ]
  },
  {
   "cell_type": "code",
   "execution_count": null,
   "metadata": {},
   "outputs": [],
   "source": []
  }
 ],
 "metadata": {
  "kernelspec": {
   "display_name": "Python 3",
   "language": "python",
   "name": "python3"
  },
  "language_info": {
   "codemirror_mode": {
    "name": "ipython",
    "version": 3
   },
   "file_extension": ".py",
   "mimetype": "text/x-python",
   "name": "python",
   "nbconvert_exporter": "python",
   "pygments_lexer": "ipython3",
   "version": "3.12.4"
  }
 },
 "nbformat": 4,
 "nbformat_minor": 2
}
