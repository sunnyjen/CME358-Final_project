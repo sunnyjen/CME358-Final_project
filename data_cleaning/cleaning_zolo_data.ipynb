{
 "cells": [
  {
   "cell_type": "code",
   "execution_count": null,
   "metadata": {},
   "outputs": [],
   "source": [
    "import pandas as pd\n",
    "import os\n",
    "import numpy as np\n",
    "import ast"
   ]
  },
  {
   "cell_type": "markdown",
   "metadata": {},
   "source": [
    "Drop duplicates (by address), calculate the sqft if the listing has a range for the sqft or room dimensions, and drop rows with missing values for either price or sqft"
   ]
  },
  {
   "cell_type": "code",
   "execution_count": 32,
   "metadata": {},
   "outputs": [],
   "source": [
    "zolo = pd.read_csv(\"zolo_listings_final_all_features.csv\")"
   ]
  },
  {
   "cell_type": "code",
   "execution_count": 33,
   "metadata": {},
   "outputs": [
    {
     "data": {
      "text/plain": [
       "(2176, 241)"
      ]
     },
     "execution_count": 33,
     "metadata": {},
     "output_type": "execute_result"
    }
   ],
   "source": [
    "zolo.shape"
   ]
  },
  {
   "cell_type": "code",
   "execution_count": 34,
   "metadata": {},
   "outputs": [],
   "source": [
    "zolo[\"price\"] = zolo[\"price\"].str.replace(\"$\", \"\").str.replace(\",\", \"\")"
   ]
  },
  {
   "cell_type": "code",
   "execution_count": 35,
   "metadata": {},
   "outputs": [],
   "source": [
    "zolo = zolo[zolo[\"price\"].str.isdigit() & zolo[\"price\"].notna()]"
   ]
  },
  {
   "cell_type": "code",
   "execution_count": 36,
   "metadata": {},
   "outputs": [
    {
     "data": {
      "text/plain": [
       "(1784, 241)"
      ]
     },
     "execution_count": 36,
     "metadata": {},
     "output_type": "execute_result"
    }
   ],
   "source": [
    "zolo.shape"
   ]
  },
  {
   "cell_type": "code",
   "execution_count": 37,
   "metadata": {},
   "outputs": [
    {
     "data": {
      "text/plain": [
       "(1778, 241)"
      ]
     },
     "execution_count": 37,
     "metadata": {},
     "output_type": "execute_result"
    }
   ],
   "source": [
    "zolo.drop_duplicates(subset=['address'], inplace=True)\n",
    "zolo.shape"
   ]
  },
  {
   "cell_type": "code",
   "execution_count": 38,
   "metadata": {},
   "outputs": [
    {
     "data": {
      "text/html": [
       "<div>\n",
       "<style scoped>\n",
       "    .dataframe tbody tr th:only-of-type {\n",
       "        vertical-align: middle;\n",
       "    }\n",
       "\n",
       "    .dataframe tbody tr th {\n",
       "        vertical-align: top;\n",
       "    }\n",
       "\n",
       "    .dataframe thead th {\n",
       "        text-align: right;\n",
       "    }\n",
       "</style>\n",
       "<table border=\"1\" class=\"dataframe\">\n",
       "  <thead>\n",
       "    <tr style=\"text-align: right;\">\n",
       "      <th></th>\n",
       "      <th>price</th>\n",
       "      <th>address</th>\n",
       "      <th>rooms</th>\n",
       "      <th>room dimensions</th>\n",
       "      <th>room_properties</th>\n",
       "      <th>Status</th>\n",
       "      <th>Type</th>\n",
       "      <th>Style</th>\n",
       "      <th>Size (sq ft)</th>\n",
       "      <th>Area</th>\n",
       "      <th>...</th>\n",
       "      <th>Percent Building</th>\n",
       "      <th>Soil Test</th>\n",
       "      <th>Area Influence</th>\n",
       "      <th>Com_cn_fee</th>\n",
       "      <th>Ceil Height (ft)</th>\n",
       "      <th>Ceiling Height</th>\n",
       "      <th>Crane</th>\n",
       "      <th>Industrial Area</th>\n",
       "      <th>Industrial Area Units</th>\n",
       "      <th>Central Vac</th>\n",
       "    </tr>\n",
       "  </thead>\n",
       "  <tbody>\n",
       "    <tr>\n",
       "      <th>25</th>\n",
       "      <td>1499000</td>\n",
       "      <td>136 Anthony Road</td>\n",
       "      <td>['Living', 'Dining', 'Kitchen', 'Prim Bdrm', '...</td>\n",
       "      <td>['3.39 x 4.78', '2.58 x 3.41', '3.10 x 3.15', ...</td>\n",
       "      <td>['Hardwood Floor, Crown Moulding, Bay Window',...</td>\n",
       "      <td>Sale</td>\n",
       "      <td>Detached</td>\n",
       "      <td>Bungalow</td>\n",
       "      <td>NaN</td>\n",
       "      <td>Toronto</td>\n",
       "      <td>...</td>\n",
       "      <td>NaN</td>\n",
       "      <td>NaN</td>\n",
       "      <td>NaN</td>\n",
       "      <td>NaN</td>\n",
       "      <td>NaN</td>\n",
       "      <td>NaN</td>\n",
       "      <td>NaN</td>\n",
       "      <td>NaN</td>\n",
       "      <td>NaN</td>\n",
       "      <td>NaN</td>\n",
       "    </tr>\n",
       "  </tbody>\n",
       "</table>\n",
       "<p>1 rows × 241 columns</p>\n",
       "</div>"
      ],
      "text/plain": [
       "      price           address  \\\n",
       "25  1499000  136 Anthony Road   \n",
       "\n",
       "                                                rooms  \\\n",
       "25  ['Living', 'Dining', 'Kitchen', 'Prim Bdrm', '...   \n",
       "\n",
       "                                      room dimensions  \\\n",
       "25  ['3.39 x 4.78', '2.58 x 3.41', '3.10 x 3.15', ...   \n",
       "\n",
       "                                      room_properties Status      Type  \\\n",
       "25  ['Hardwood Floor, Crown Moulding, Bay Window',...   Sale  Detached   \n",
       "\n",
       "       Style Size (sq ft)     Area  ... Percent Building  Soil Test  \\\n",
       "25  Bungalow          NaN  Toronto  ...              NaN        NaN   \n",
       "\n",
       "    Area Influence  Com_cn_fee  Ceil Height (ft)  Ceiling Height Crane  \\\n",
       "25             NaN         NaN               NaN             NaN   NaN   \n",
       "\n",
       "   Industrial Area Industrial Area Units Central Vac  \n",
       "25             NaN                   NaN         NaN  \n",
       "\n",
       "[1 rows x 241 columns]"
      ]
     },
     "execution_count": 38,
     "metadata": {},
     "output_type": "execute_result"
    }
   ],
   "source": [
    "zolo[zolo[\"address\"] ==\"136 Anthony Road\"]"
   ]
  },
  {
   "cell_type": "code",
   "execution_count": 39,
   "metadata": {},
   "outputs": [
    {
     "data": {
      "text/plain": [
       "(1778, 241)"
      ]
     },
     "execution_count": 39,
     "metadata": {},
     "output_type": "execute_result"
    }
   ],
   "source": [
    "zolo.shape"
   ]
  },
  {
   "cell_type": "code",
   "execution_count": 40,
   "metadata": {},
   "outputs": [],
   "source": [
    "# Filter out listings with no way to find the sqft.\n",
    "\n",
    "import ast\n",
    "\n",
    "# Extract first room dimension (length) if the room dimensions are in a list format\n",
    "zolo[\"sample_split_dimension\"] = zolo[\"room dimensions\"].apply(\n",
    "    lambda x: ast.literal_eval(x)[0].split(\"x\")[0] if isinstance(ast.literal_eval(x), list) and len(ast.literal_eval(x)) > 0 else None\n",
    ")\n",
    "\n",
    "# Convert the first dimension to float if it's not \"N/A\" or None, else set to None\n",
    "zolo[\"sample_split_dimension\"] = zolo[\"sample_split_dimension\"].apply(\n",
    "    lambda x: float(x) if x != \"N/A\" and x is not None else None\n",
    ")\n",
    "\n",
    "# Now filter rows where `sample_split_dimension` is a valid float or `Size (sq ft)` is not NaN\n",
    "zolo = zolo[\n",
    "    zolo[\"sample_split_dimension\"].notna() |  # Keep rows where the dimension is a valid float (not NaN)\n",
    "    zolo[\"Size (sq ft)\"].notna()  # Keep rows where \"Size (sq ft)\" is not NaN\n",
    "]"
   ]
  },
  {
   "cell_type": "code",
   "execution_count": 41,
   "metadata": {},
   "outputs": [
    {
     "data": {
      "text/plain": [
       "(1597, 242)"
      ]
     },
     "execution_count": 41,
     "metadata": {},
     "output_type": "execute_result"
    }
   ],
   "source": [
    "zolo.shape"
   ]
  },
  {
   "cell_type": "code",
   "execution_count": 42,
   "metadata": {},
   "outputs": [
    {
     "data": {
      "text/html": [
       "<div>\n",
       "<style scoped>\n",
       "    .dataframe tbody tr th:only-of-type {\n",
       "        vertical-align: middle;\n",
       "    }\n",
       "\n",
       "    .dataframe tbody tr th {\n",
       "        vertical-align: top;\n",
       "    }\n",
       "\n",
       "    .dataframe thead th {\n",
       "        text-align: right;\n",
       "    }\n",
       "</style>\n",
       "<table border=\"1\" class=\"dataframe\">\n",
       "  <thead>\n",
       "    <tr style=\"text-align: right;\">\n",
       "      <th></th>\n",
       "      <th>price</th>\n",
       "      <th>address</th>\n",
       "      <th>rooms</th>\n",
       "      <th>room dimensions</th>\n",
       "      <th>room_properties</th>\n",
       "      <th>Status</th>\n",
       "      <th>Type</th>\n",
       "      <th>Style</th>\n",
       "      <th>Size (sq ft)</th>\n",
       "      <th>Area</th>\n",
       "      <th>...</th>\n",
       "      <th>Soil Test</th>\n",
       "      <th>Area Influence</th>\n",
       "      <th>Com_cn_fee</th>\n",
       "      <th>Ceil Height (ft)</th>\n",
       "      <th>Ceiling Height</th>\n",
       "      <th>Crane</th>\n",
       "      <th>Industrial Area</th>\n",
       "      <th>Industrial Area Units</th>\n",
       "      <th>Central Vac</th>\n",
       "      <th>sample_split_dimension</th>\n",
       "    </tr>\n",
       "  </thead>\n",
       "  <tbody>\n",
       "    <tr>\n",
       "      <th>25</th>\n",
       "      <td>1499000</td>\n",
       "      <td>136 Anthony Road</td>\n",
       "      <td>['Living', 'Dining', 'Kitchen', 'Prim Bdrm', '...</td>\n",
       "      <td>['3.39 x 4.78', '2.58 x 3.41', '3.10 x 3.15', ...</td>\n",
       "      <td>['Hardwood Floor, Crown Moulding, Bay Window',...</td>\n",
       "      <td>Sale</td>\n",
       "      <td>Detached</td>\n",
       "      <td>Bungalow</td>\n",
       "      <td>NaN</td>\n",
       "      <td>Toronto</td>\n",
       "      <td>...</td>\n",
       "      <td>NaN</td>\n",
       "      <td>NaN</td>\n",
       "      <td>NaN</td>\n",
       "      <td>NaN</td>\n",
       "      <td>NaN</td>\n",
       "      <td>NaN</td>\n",
       "      <td>NaN</td>\n",
       "      <td>NaN</td>\n",
       "      <td>NaN</td>\n",
       "      <td>3.39</td>\n",
       "    </tr>\n",
       "  </tbody>\n",
       "</table>\n",
       "<p>1 rows × 242 columns</p>\n",
       "</div>"
      ],
      "text/plain": [
       "      price           address  \\\n",
       "25  1499000  136 Anthony Road   \n",
       "\n",
       "                                                rooms  \\\n",
       "25  ['Living', 'Dining', 'Kitchen', 'Prim Bdrm', '...   \n",
       "\n",
       "                                      room dimensions  \\\n",
       "25  ['3.39 x 4.78', '2.58 x 3.41', '3.10 x 3.15', ...   \n",
       "\n",
       "                                      room_properties Status      Type  \\\n",
       "25  ['Hardwood Floor, Crown Moulding, Bay Window',...   Sale  Detached   \n",
       "\n",
       "       Style Size (sq ft)     Area  ... Soil Test  Area Influence  Com_cn_fee  \\\n",
       "25  Bungalow          NaN  Toronto  ...       NaN             NaN         NaN   \n",
       "\n",
       "    Ceil Height (ft)  Ceiling Height  Crane Industrial Area  \\\n",
       "25               NaN             NaN    NaN             NaN   \n",
       "\n",
       "   Industrial Area Units Central Vac sample_split_dimension  \n",
       "25                   NaN         NaN                   3.39  \n",
       "\n",
       "[1 rows x 242 columns]"
      ]
     },
     "execution_count": 42,
     "metadata": {},
     "output_type": "execute_result"
    }
   ],
   "source": [
    "zolo[zolo[\"address\"] == \"136 Anthony Road\"]"
   ]
  },
  {
   "cell_type": "code",
   "execution_count": null,
   "metadata": {},
   "outputs": [],
   "source": [
    "def get_sqft(row, room_dimensions=None):\n",
    "    \"\"\"For Zolo dfs. \n",
    "    If Size (sq ft) is NaN, then replaces with the sqft calculated from the room dimensions.\n",
    "    If Size (sq ft) is a range (i.e., contains \"-\"), replaces with the average of the bounds.\"\"\"\n",
    "    \n",
    "    # If the 'Size (sq ft)' is a range (contains \"-\"):\n",
    "    if isinstance(row, str) and '-' in row:\n",
    "        lower, upper = row.split(\"-\")\n",
    "        # Calculate the average of the two bounds\n",
    "        return (float(lower) + float(upper)) / 2\n",
    "    \n",
    "    # If 'Size (sq ft)' is NaN, calculate from room dimensions\n",
    "    elif pd.isna(row) and room_dimensions:  \n",
    "        try:\n",
    "            # Check if 'room_dimensions' is a list-like or string that we can process\n",
    "            dimensions = ast.literal_eval(room_dimensions)\n",
    "            square_meters = 0\n",
    "\n",
    "            # If room dimensions is a list of room sizes (i.e., '200x300', '100x200', etc.)\n",
    "            if isinstance(dimensions, list):\n",
    "                for dimension in dimensions:\n",
    "                    # Only split if 'dimension' contains 'x'\n",
    "                    length, width = dimension.split(\"x\")\n",
    "                    square_meters += float(length.strip()) * float(width.strip())\n",
    "                    \n",
    "            return square_meters*10.7639\n",
    "        \n",
    "        except (ValueError, SyntaxError, TypeError):\n",
    "            # Handle invalid or malformed room dimensions\n",
    "            return np.nan\n",
    "\n",
    "    elif isinstance(row, str):\n",
    "        # If it's a string that doesn't contain a \"-\", remove any \"+\" and return the value as float\n",
    "        return float(row.replace(\"+\", \"\").replace(\">\", \"\").replace(\"<\", \"\").strip())\n",
    "    \n",
    "    else:\n",
    "        # If it's a numeric value (already a number), return it\n",
    "        return row\n",
    "\n",
    "# Apply the function to the 'Size (sq ft)' column, and pass the 'room dimensions' when needed\n",
    "zolo[\"Calculated_sqft\"] = zolo.apply(lambda row: get_sqft(row[\"Size (sq ft)\"], row.get('room dimensions', None)), axis=1)\n"
   ]
  },
  {
   "cell_type": "code",
   "execution_count": 44,
   "metadata": {},
   "outputs": [
    {
     "data": {
      "text/plain": [
       "np.int64(0)"
      ]
     },
     "execution_count": 44,
     "metadata": {},
     "output_type": "execute_result"
    }
   ],
   "source": [
    "zolo[\"Calculated_sqft\"] = pd.to_numeric(zolo[\"Calculated_sqft\"], errors='coerce')\n",
    "zolo = zolo[zolo[\"Calculated_sqft\"].notna()]\n",
    "zolo[\"Calculated_sqft\"].isna().sum()\n"
   ]
  },
  {
   "cell_type": "code",
   "execution_count": 45,
   "metadata": {},
   "outputs": [],
   "source": [
    "# Make sure all sqft values are floats\n",
    "zolo[\"Calculated_sqft\"] = zolo[\"Calculated_sqft\"].astype(float)"
   ]
  },
  {
   "cell_type": "code",
   "execution_count": 46,
   "metadata": {},
   "outputs": [
    {
     "data": {
      "text/plain": [
       "(1517, 243)"
      ]
     },
     "execution_count": 46,
     "metadata": {},
     "output_type": "execute_result"
    }
   ],
   "source": [
    "zolo.shape"
   ]
  },
  {
   "cell_type": "code",
   "execution_count": 47,
   "metadata": {},
   "outputs": [
    {
     "data": {
      "text/html": [
       "<div>\n",
       "<style scoped>\n",
       "    .dataframe tbody tr th:only-of-type {\n",
       "        vertical-align: middle;\n",
       "    }\n",
       "\n",
       "    .dataframe tbody tr th {\n",
       "        vertical-align: top;\n",
       "    }\n",
       "\n",
       "    .dataframe thead th {\n",
       "        text-align: right;\n",
       "    }\n",
       "</style>\n",
       "<table border=\"1\" class=\"dataframe\">\n",
       "  <thead>\n",
       "    <tr style=\"text-align: right;\">\n",
       "      <th></th>\n",
       "      <th>price</th>\n",
       "      <th>address</th>\n",
       "      <th>rooms</th>\n",
       "      <th>room dimensions</th>\n",
       "      <th>room_properties</th>\n",
       "      <th>Status</th>\n",
       "      <th>Type</th>\n",
       "      <th>Style</th>\n",
       "      <th>Size (sq ft)</th>\n",
       "      <th>Area</th>\n",
       "      <th>...</th>\n",
       "      <th>Area Influence</th>\n",
       "      <th>Com_cn_fee</th>\n",
       "      <th>Ceil Height (ft)</th>\n",
       "      <th>Ceiling Height</th>\n",
       "      <th>Crane</th>\n",
       "      <th>Industrial Area</th>\n",
       "      <th>Industrial Area Units</th>\n",
       "      <th>Central Vac</th>\n",
       "      <th>sample_split_dimension</th>\n",
       "      <th>Calculated_sqft</th>\n",
       "    </tr>\n",
       "  </thead>\n",
       "  <tbody>\n",
       "    <tr>\n",
       "      <th>25</th>\n",
       "      <td>1499000</td>\n",
       "      <td>136 Anthony Road</td>\n",
       "      <td>['Living', 'Dining', 'Kitchen', 'Prim Bdrm', '...</td>\n",
       "      <td>['3.39 x 4.78', '2.58 x 3.41', '3.10 x 3.15', ...</td>\n",
       "      <td>['Hardwood Floor, Crown Moulding, Bay Window',...</td>\n",
       "      <td>Sale</td>\n",
       "      <td>Detached</td>\n",
       "      <td>Bungalow</td>\n",
       "      <td>NaN</td>\n",
       "      <td>Toronto</td>\n",
       "      <td>...</td>\n",
       "      <td>NaN</td>\n",
       "      <td>NaN</td>\n",
       "      <td>NaN</td>\n",
       "      <td>NaN</td>\n",
       "      <td>NaN</td>\n",
       "      <td>NaN</td>\n",
       "      <td>NaN</td>\n",
       "      <td>NaN</td>\n",
       "      <td>3.39</td>\n",
       "      <td>1757.997822</td>\n",
       "    </tr>\n",
       "  </tbody>\n",
       "</table>\n",
       "<p>1 rows × 243 columns</p>\n",
       "</div>"
      ],
      "text/plain": [
       "      price           address  \\\n",
       "25  1499000  136 Anthony Road   \n",
       "\n",
       "                                                rooms  \\\n",
       "25  ['Living', 'Dining', 'Kitchen', 'Prim Bdrm', '...   \n",
       "\n",
       "                                      room dimensions  \\\n",
       "25  ['3.39 x 4.78', '2.58 x 3.41', '3.10 x 3.15', ...   \n",
       "\n",
       "                                      room_properties Status      Type  \\\n",
       "25  ['Hardwood Floor, Crown Moulding, Bay Window',...   Sale  Detached   \n",
       "\n",
       "       Style Size (sq ft)     Area  ... Area Influence  Com_cn_fee  \\\n",
       "25  Bungalow          NaN  Toronto  ...            NaN         NaN   \n",
       "\n",
       "    Ceil Height (ft)  Ceiling Height  Crane  Industrial Area  \\\n",
       "25               NaN             NaN    NaN              NaN   \n",
       "\n",
       "   Industrial Area Units Central Vac sample_split_dimension Calculated_sqft  \n",
       "25                   NaN         NaN                   3.39     1757.997822  \n",
       "\n",
       "[1 rows x 243 columns]"
      ]
     },
     "execution_count": 47,
     "metadata": {},
     "output_type": "execute_result"
    }
   ],
   "source": [
    "zolo[zolo[\"address\"] ==\"136 Anthony Road\"]"
   ]
  },
  {
   "cell_type": "code",
   "execution_count": 48,
   "metadata": {},
   "outputs": [
    {
     "data": {
      "text/plain": [
       "np.int64(0)"
      ]
     },
     "execution_count": 48,
     "metadata": {},
     "output_type": "execute_result"
    }
   ],
   "source": [
    "zolo[\"address\"].isna().sum()"
   ]
  }
 ],
 "metadata": {
  "kernelspec": {
   "display_name": "Python 3",
   "language": "python",
   "name": "python3"
  },
  "language_info": {
   "codemirror_mode": {
    "name": "ipython",
    "version": 3
   },
   "file_extension": ".py",
   "mimetype": "text/x-python",
   "name": "python",
   "nbconvert_exporter": "python",
   "pygments_lexer": "ipython3",
   "version": "3.12.4"
  }
 },
 "nbformat": 4,
 "nbformat_minor": 2
}
