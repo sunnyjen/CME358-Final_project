{
 "cells": [
  {
   "cell_type": "code",
   "execution_count": 1,
   "metadata": {},
   "outputs": [],
   "source": [
    "import pandas as pd\n",
    "import os\n",
    "import numpy as np\n",
    "import ast"
   ]
  },
  {
   "cell_type": "code",
   "execution_count": null,
   "metadata": {},
   "outputs": [],
   "source": [
    "# house_sigma = pd.read_csv(\"\")\n",
    "zolo = pd.read_csv(\"cleaned_zolo_from_newest_scraping.csv\")\n",
    "realtor = pd.read_csv(\"realtor_dropped_duplicates.csv\")\n"
   ]
  },
  {
   "cell_type": "code",
   "execution_count": 69,
   "metadata": {},
   "outputs": [
    {
     "data": {
      "text/plain": [
       "((1684, 221), (1070, 73))"
      ]
     },
     "execution_count": 69,
     "metadata": {},
     "output_type": "execute_result"
    }
   ],
   "source": [
    "zolo.shape, realtor.shape"
   ]
  },
  {
   "cell_type": "code",
   "execution_count": 70,
   "metadata": {},
   "outputs": [],
   "source": [
    "zolo[\"mls\"] = zolo[\"mls\"].astype(str).str[3:].str.replace(\"®\", \"\", regex=False).str.strip()\n"
   ]
  },
  {
   "cell_type": "code",
   "execution_count": 71,
   "metadata": {},
   "outputs": [],
   "source": [
    "merged = pd.concat([zolo, realtor], axis=0, ignore_index=True)\n"
   ]
  },
  {
   "cell_type": "code",
   "execution_count": 72,
   "metadata": {},
   "outputs": [
    {
     "data": {
      "text/plain": [
       "Index(['price', 'address', 'mls', 'rooms', 'room dimensions',\n",
       "       'room_properties', 'Status', 'Type', 'Style', 'Size (sq ft)',\n",
       "       ...\n",
       "       'Utility Communications', 'Construction Status',\n",
       "       'Construction Material', 'Waterfront Name', 'Other Style',\n",
       "       'Fireplace Fuel', 'Utility-Hydro', 'Other', 'Age Of Building',\n",
       "       'street address'],\n",
       "      dtype='object', length=280)"
      ]
     },
     "execution_count": 72,
     "metadata": {},
     "output_type": "execute_result"
    }
   ],
   "source": [
    "merged.columns"
   ]
  },
  {
   "cell_type": "code",
   "execution_count": null,
   "metadata": {},
   "outputs": [],
   "source": [
    "concise = merged[[\"price\", \"address\", \"mls\", \"Calculated_sqft\", \"Square Footage\", ]]"
   ]
  },
  {
   "cell_type": "code",
   "execution_count": 74,
   "metadata": {},
   "outputs": [
    {
     "data": {
      "text/html": [
       "<div>\n",
       "<style scoped>\n",
       "    .dataframe tbody tr th:only-of-type {\n",
       "        vertical-align: middle;\n",
       "    }\n",
       "\n",
       "    .dataframe tbody tr th {\n",
       "        vertical-align: top;\n",
       "    }\n",
       "\n",
       "    .dataframe thead th {\n",
       "        text-align: right;\n",
       "    }\n",
       "</style>\n",
       "<table border=\"1\" class=\"dataframe\">\n",
       "  <thead>\n",
       "    <tr style=\"text-align: right;\">\n",
       "      <th></th>\n",
       "      <th>price</th>\n",
       "      <th>address</th>\n",
       "      <th>mls</th>\n",
       "      <th>Calculated_sqft</th>\n",
       "      <th>Square Footage</th>\n",
       "    </tr>\n",
       "  </thead>\n",
       "  <tbody>\n",
       "    <tr>\n",
       "      <th>0</th>\n",
       "      <td>550000</td>\n",
       "      <td>704 - 1990 Bloor Street W</td>\n",
       "      <td>W11238277</td>\n",
       "      <td>249.5</td>\n",
       "      <td>NaN</td>\n",
       "    </tr>\n",
       "    <tr>\n",
       "      <th>1</th>\n",
       "      <td>635000</td>\n",
       "      <td>104 - 95 La Rose Avenue</td>\n",
       "      <td>W11237359</td>\n",
       "      <td>1099.5</td>\n",
       "      <td>NaN</td>\n",
       "    </tr>\n",
       "    <tr>\n",
       "      <th>2</th>\n",
       "      <td>1895000</td>\n",
       "      <td>612 - 1 Strathgowan Avenue</td>\n",
       "      <td>C11238266</td>\n",
       "      <td>1099.5</td>\n",
       "      <td>NaN</td>\n",
       "    </tr>\n",
       "    <tr>\n",
       "      <th>3</th>\n",
       "      <td>499000</td>\n",
       "      <td>1107 - 68 Shuter Street</td>\n",
       "      <td>C11238058</td>\n",
       "      <td>549.5</td>\n",
       "      <td>NaN</td>\n",
       "    </tr>\n",
       "    <tr>\n",
       "      <th>4</th>\n",
       "      <td>777777</td>\n",
       "      <td>2701 - 65 St Mary Street</td>\n",
       "      <td>C11236562</td>\n",
       "      <td>549.5</td>\n",
       "      <td>NaN</td>\n",
       "    </tr>\n",
       "    <tr>\n",
       "      <th>...</th>\n",
       "      <td>...</td>\n",
       "      <td>...</td>\n",
       "      <td>...</td>\n",
       "      <td>...</td>\n",
       "      <td>...</td>\n",
       "    </tr>\n",
       "    <tr>\n",
       "      <th>2749</th>\n",
       "      <td>$1,199,998</td>\n",
       "      <td>6116 - 388 YONGE STREET WToronto (Bay Street C...</td>\n",
       "      <td>C10428067</td>\n",
       "      <td>NaN</td>\n",
       "      <td>1200 - 1399 sqft</td>\n",
       "    </tr>\n",
       "    <tr>\n",
       "      <th>2750</th>\n",
       "      <td>$999,999</td>\n",
       "      <td>2507 - 37 GROSVENOR STREETToronto (Bay Street ...</td>\n",
       "      <td>C10427780</td>\n",
       "      <td>NaN</td>\n",
       "      <td>800 - 899 sqft</td>\n",
       "    </tr>\n",
       "    <tr>\n",
       "      <th>2751</th>\n",
       "      <td>$999,999</td>\n",
       "      <td>58 FRANKTON CRESCENTToronto (York University H...</td>\n",
       "      <td>W10427678</td>\n",
       "      <td>NaN</td>\n",
       "      <td>NaN</td>\n",
       "    </tr>\n",
       "    <tr>\n",
       "      <th>2752</th>\n",
       "      <td>$999,000</td>\n",
       "      <td>131 DONLANDS AVENUEToronto (Danforth Village-E...</td>\n",
       "      <td>E10428053</td>\n",
       "      <td>NaN</td>\n",
       "      <td>1100 - 1500 sqft</td>\n",
       "    </tr>\n",
       "    <tr>\n",
       "      <th>2753</th>\n",
       "      <td>$989,000</td>\n",
       "      <td>27 FELAN CRESCENTToronto (Thistletown-Beaumond...</td>\n",
       "      <td>W10428142</td>\n",
       "      <td>NaN</td>\n",
       "      <td>1100 - 1500 sqft</td>\n",
       "    </tr>\n",
       "  </tbody>\n",
       "</table>\n",
       "<p>2754 rows × 5 columns</p>\n",
       "</div>"
      ],
      "text/plain": [
       "           price                                            address  \\\n",
       "0         550000                          704 - 1990 Bloor Street W   \n",
       "1         635000                            104 - 95 La Rose Avenue   \n",
       "2        1895000                         612 - 1 Strathgowan Avenue   \n",
       "3         499000                            1107 - 68 Shuter Street   \n",
       "4         777777                           2701 - 65 St Mary Street   \n",
       "...          ...                                                ...   \n",
       "2749  $1,199,998  6116 - 388 YONGE STREET WToronto (Bay Street C...   \n",
       "2750    $999,999  2507 - 37 GROSVENOR STREETToronto (Bay Street ...   \n",
       "2751    $999,999  58 FRANKTON CRESCENTToronto (York University H...   \n",
       "2752    $999,000  131 DONLANDS AVENUEToronto (Danforth Village-E...   \n",
       "2753    $989,000  27 FELAN CRESCENTToronto (Thistletown-Beaumond...   \n",
       "\n",
       "            mls  Calculated_sqft    Square Footage  \n",
       "0     W11238277            249.5               NaN  \n",
       "1     W11237359           1099.5               NaN  \n",
       "2     C11238266           1099.5               NaN  \n",
       "3     C11238058            549.5               NaN  \n",
       "4     C11236562            549.5               NaN  \n",
       "...         ...              ...               ...  \n",
       "2749  C10428067              NaN  1200 - 1399 sqft  \n",
       "2750  C10427780              NaN    800 - 899 sqft  \n",
       "2751  W10427678              NaN               NaN  \n",
       "2752  E10428053              NaN  1100 - 1500 sqft  \n",
       "2753  W10428142              NaN  1100 - 1500 sqft  \n",
       "\n",
       "[2754 rows x 5 columns]"
      ]
     },
     "execution_count": 74,
     "metadata": {},
     "output_type": "execute_result"
    }
   ],
   "source": [
    "concise"
   ]
  },
  {
   "cell_type": "code",
   "execution_count": 75,
   "metadata": {},
   "outputs": [
    {
     "data": {
      "text/plain": [
       "(2585, 5)"
      ]
     },
     "execution_count": 75,
     "metadata": {},
     "output_type": "execute_result"
    }
   ],
   "source": [
    "# Drop duplicates between the Zolo and Realtor datasets.\n",
    "concise = concise.drop_duplicates(subset=['mls'])\n",
    "concise.shape"
   ]
  },
  {
   "cell_type": "code",
   "execution_count": 76,
   "metadata": {},
   "outputs": [],
   "source": [
    "concise.to_csv(\"ZOLO_REALTOR_TEMP.csv\", index=False)"
   ]
  },
  {
   "cell_type": "code",
   "execution_count": null,
   "metadata": {},
   "outputs": [],
   "source": []
  },
  {
   "cell_type": "code",
   "execution_count": null,
   "metadata": {},
   "outputs": [],
   "source": []
  },
  {
   "cell_type": "code",
   "execution_count": 2,
   "metadata": {},
   "outputs": [],
   "source": [
    "# Join old zolo and new zolo dfs by address\n",
    "old_zolo_with_geoloc = pd.read_csv(\"zolo_with_coords.csv\")\n",
    "new_zolo = pd.read_csv(\"cleaned_zolo_from_newest_scraping.csv\")\n"
   ]
  },
  {
   "cell_type": "code",
   "execution_count": 3,
   "metadata": {},
   "outputs": [
    {
     "data": {
      "text/plain": [
       "(1707, 244)"
      ]
     },
     "execution_count": 3,
     "metadata": {},
     "output_type": "execute_result"
    }
   ],
   "source": [
    "old_zolo_with_geoloc.shape"
   ]
  },
  {
   "cell_type": "code",
   "execution_count": 4,
   "metadata": {},
   "outputs": [
    {
     "data": {
      "text/plain": [
       "(1684, 221)"
      ]
     },
     "execution_count": 4,
     "metadata": {},
     "output_type": "execute_result"
    }
   ],
   "source": [
    "new_zolo.shape"
   ]
  },
  {
   "cell_type": "code",
   "execution_count": 5,
   "metadata": {},
   "outputs": [],
   "source": [
    "total_zolo = pd.merge(new_zolo, old_zolo_with_geoloc, on=\"address\", how=\"left\")"
   ]
  },
  {
   "cell_type": "code",
   "execution_count": 6,
   "metadata": {},
   "outputs": [
    {
     "data": {
      "text/plain": [
       "(1685, 464)"
      ]
     },
     "execution_count": 6,
     "metadata": {},
     "output_type": "execute_result"
    }
   ],
   "source": [
    "total_zolo.shape"
   ]
  },
  {
   "cell_type": "code",
   "execution_count": 8,
   "metadata": {},
   "outputs": [
    {
     "data": {
      "text/html": [
       "<div>\n",
       "<style scoped>\n",
       "    .dataframe tbody tr th:only-of-type {\n",
       "        vertical-align: middle;\n",
       "    }\n",
       "\n",
       "    .dataframe tbody tr th {\n",
       "        vertical-align: top;\n",
       "    }\n",
       "\n",
       "    .dataframe thead th {\n",
       "        text-align: right;\n",
       "    }\n",
       "</style>\n",
       "<table border=\"1\" class=\"dataframe\">\n",
       "  <thead>\n",
       "    <tr style=\"text-align: right;\">\n",
       "      <th></th>\n",
       "      <th>lat</th>\n",
       "      <th>long</th>\n",
       "    </tr>\n",
       "  </thead>\n",
       "  <tbody>\n",
       "    <tr>\n",
       "      <th>0</th>\n",
       "      <td>NaN</td>\n",
       "      <td>NaN</td>\n",
       "    </tr>\n",
       "    <tr>\n",
       "      <th>1</th>\n",
       "      <td>NaN</td>\n",
       "      <td>NaN</td>\n",
       "    </tr>\n",
       "    <tr>\n",
       "      <th>2</th>\n",
       "      <td>NaN</td>\n",
       "      <td>NaN</td>\n",
       "    </tr>\n",
       "    <tr>\n",
       "      <th>3</th>\n",
       "      <td>NaN</td>\n",
       "      <td>NaN</td>\n",
       "    </tr>\n",
       "    <tr>\n",
       "      <th>4</th>\n",
       "      <td>NaN</td>\n",
       "      <td>NaN</td>\n",
       "    </tr>\n",
       "    <tr>\n",
       "      <th>...</th>\n",
       "      <td>...</td>\n",
       "      <td>...</td>\n",
       "    </tr>\n",
       "    <tr>\n",
       "      <th>1680</th>\n",
       "      <td>43.762246</td>\n",
       "      <td>-79.394939</td>\n",
       "    </tr>\n",
       "    <tr>\n",
       "      <th>1681</th>\n",
       "      <td>NaN</td>\n",
       "      <td>NaN</td>\n",
       "    </tr>\n",
       "    <tr>\n",
       "      <th>1682</th>\n",
       "      <td>43.692608</td>\n",
       "      <td>-79.282117</td>\n",
       "    </tr>\n",
       "    <tr>\n",
       "      <th>1683</th>\n",
       "      <td>43.676277</td>\n",
       "      <td>-79.412249</td>\n",
       "    </tr>\n",
       "    <tr>\n",
       "      <th>1684</th>\n",
       "      <td>43.755334</td>\n",
       "      <td>-79.390517</td>\n",
       "    </tr>\n",
       "  </tbody>\n",
       "</table>\n",
       "<p>1685 rows × 2 columns</p>\n",
       "</div>"
      ],
      "text/plain": [
       "            lat       long\n",
       "0           NaN        NaN\n",
       "1           NaN        NaN\n",
       "2           NaN        NaN\n",
       "3           NaN        NaN\n",
       "4           NaN        NaN\n",
       "...         ...        ...\n",
       "1680  43.762246 -79.394939\n",
       "1681        NaN        NaN\n",
       "1682  43.692608 -79.282117\n",
       "1683  43.676277 -79.412249\n",
       "1684  43.755334 -79.390517\n",
       "\n",
       "[1685 rows x 2 columns]"
      ]
     },
     "execution_count": 8,
     "metadata": {},
     "output_type": "execute_result"
    }
   ],
   "source": [
    "total_zolo[[\"lat\", \"long\"]]"
   ]
  },
  {
   "cell_type": "code",
   "execution_count": null,
   "metadata": {},
   "outputs": [],
   "source": []
  }
 ],
 "metadata": {
  "kernelspec": {
   "display_name": "Python 3",
   "language": "python",
   "name": "python3"
  },
  "language_info": {
   "codemirror_mode": {
    "name": "ipython",
    "version": 3
   },
   "file_extension": ".py",
   "mimetype": "text/x-python",
   "name": "python",
   "nbconvert_exporter": "python",
   "pygments_lexer": "ipython3",
   "version": "3.12.4"
  }
 },
 "nbformat": 4,
 "nbformat_minor": 2
}
